{
  "cells": [
    {
      "cell_type": "code",
      "execution_count": null,
      "metadata": {
        "colab": {
          "base_uri": "https://localhost:8080/"
        },
        "id": "PMIhiTqF67uo",
        "outputId": "dec1e382-328d-4fe9-817c-6ce5c3151249"
      },
      "outputs": [
        {
          "output_type": "stream",
          "name": "stdout",
          "text": [
            "Collecting flask-ngrok\n",
            "  Downloading flask_ngrok-0.0.25-py3-none-any.whl (3.1 kB)\n",
            "Requirement already satisfied: requests in /usr/local/lib/python3.7/dist-packages (from flask-ngrok) (2.23.0)\n",
            "Requirement already satisfied: Flask>=0.8 in /usr/local/lib/python3.7/dist-packages (from flask-ngrok) (1.1.4)\n",
            "Requirement already satisfied: click<8.0,>=5.1 in /usr/local/lib/python3.7/dist-packages (from Flask>=0.8->flask-ngrok) (7.1.2)\n",
            "Requirement already satisfied: Werkzeug<2.0,>=0.15 in /usr/local/lib/python3.7/dist-packages (from Flask>=0.8->flask-ngrok) (1.0.1)\n",
            "Requirement already satisfied: Jinja2<3.0,>=2.10.1 in /usr/local/lib/python3.7/dist-packages (from Flask>=0.8->flask-ngrok) (2.11.3)\n",
            "Requirement already satisfied: itsdangerous<2.0,>=0.24 in /usr/local/lib/python3.7/dist-packages (from Flask>=0.8->flask-ngrok) (1.1.0)\n",
            "Requirement already satisfied: MarkupSafe>=0.23 in /usr/local/lib/python3.7/dist-packages (from Jinja2<3.0,>=2.10.1->Flask>=0.8->flask-ngrok) (2.0.1)\n",
            "Requirement already satisfied: certifi>=2017.4.17 in /usr/local/lib/python3.7/dist-packages (from requests->flask-ngrok) (2021.10.8)\n",
            "Requirement already satisfied: idna<3,>=2.5 in /usr/local/lib/python3.7/dist-packages (from requests->flask-ngrok) (2.10)\n",
            "Requirement already satisfied: urllib3!=1.25.0,!=1.25.1,<1.26,>=1.21.1 in /usr/local/lib/python3.7/dist-packages (from requests->flask-ngrok) (1.24.3)\n",
            "Requirement already satisfied: chardet<4,>=3.0.2 in /usr/local/lib/python3.7/dist-packages (from requests->flask-ngrok) (3.0.4)\n",
            "Installing collected packages: flask-ngrok\n",
            "Successfully installed flask-ngrok-0.0.25\n"
          ]
        }
      ],
      "source": [
        "!pip install flask-ngrok"
      ]
    },
    {
      "cell_type": "code",
      "execution_count": null,
      "metadata": {
        "colab": {
          "base_uri": "https://localhost:8080/"
        },
        "id": "iJ-pOQT067r_",
        "outputId": "8b2cd58c-c68c-47d4-b674-81a2d09d133e"
      },
      "outputs": [
        {
          "output_type": "stream",
          "name": "stdout",
          "text": [
            "/drive/ngrok-ssh\n",
            "--2022-05-03 08:23:03--  https://bin.equinox.io/c/4VmDzA7iaHb/ngrok-stable-linux-amd64.zip\n",
            "Resolving bin.equinox.io (bin.equinox.io)... 54.161.241.46, 52.202.168.65, 18.205.222.128, ...\n",
            "Connecting to bin.equinox.io (bin.equinox.io)|54.161.241.46|:443... connected.\n",
            "HTTP request sent, awaiting response... 200 OK\n",
            "Length: 13832437 (13M) [application/octet-stream]\n",
            "Saving to: ‘ngrok-stable-linux-amd64.zip’\n",
            "\n",
            "ngrok-stable-linux- 100%[===================>]  13.19M  52.5MB/s    in 0.3s    \n",
            "\n",
            "2022-05-03 08:23:04 (52.5 MB/s) - ‘ngrok-stable-linux-amd64.zip’ saved [13832437/13832437]\n",
            "\n",
            "Archive:  ngrok-stable-linux-amd64.zip\n",
            "  inflating: ngrok                   \n"
          ]
        }
      ],
      "source": [
        "!mkdir -p /drive/ngrok-ssh\n",
        "%cd /drive/ngrok-ssh\n",
        "!wget https://bin.equinox.io/c/4VmDzA7iaHb/ngrok-stable-linux-amd64.zip -O ngrok-stable-linux-amd64.zip\n",
        "!unzip -u ngrok-stable-linux-amd64.zip\n",
        "!cp /drive/ngrok-ssh/ngrok /ngrok\n",
        "!chmod +x /ngrok"
      ]
    },
    {
      "cell_type": "code",
      "execution_count": null,
      "metadata": {
        "colab": {
          "base_uri": "https://localhost:8080/"
        },
        "id": "0zGnjWOq67pK",
        "outputId": "8e31b701-5be7-4f1e-d2ba-027dea8488c5"
      },
      "outputs": [
        {
          "output_type": "stream",
          "name": "stdout",
          "text": [
            "Authtoken saved to configuration file: /root/.ngrok2/ngrok.yml\n"
          ]
        }
      ],
      "source": [
        "!/ngrok authtoken 26EUUR0GrMZSuscYNumIYtVGRr2_5KKCdnmdfXx22QibUYSKn"
      ]
    },
    {
      "cell_type": "code",
      "execution_count": null,
      "metadata": {
        "colab": {
          "base_uri": "https://localhost:8080/",
          "height": 701
        },
        "id": "_FA3H9GE67mi",
        "outputId": "929b1bd2-c05e-4c49-ff9f-917847a6e491"
      },
      "outputs": [
        {
          "output_type": "stream",
          "name": "stdout",
          "text": [
            "Collecting wfdb\n",
            "  Downloading wfdb-3.4.1-py3-none-any.whl (137 kB)\n",
            "\u001b[?25l\r\u001b[K     |██▍                             | 10 kB 22.2 MB/s eta 0:00:01\r\u001b[K     |████▊                           | 20 kB 15.8 MB/s eta 0:00:01\r\u001b[K     |███████▏                        | 30 kB 10.3 MB/s eta 0:00:01\r\u001b[K     |█████████▌                      | 40 kB 9.3 MB/s eta 0:00:01\r\u001b[K     |████████████                    | 51 kB 4.4 MB/s eta 0:00:01\r\u001b[K     |██████████████▎                 | 61 kB 5.1 MB/s eta 0:00:01\r\u001b[K     |████████████████▋               | 71 kB 5.7 MB/s eta 0:00:01\r\u001b[K     |███████████████████             | 81 kB 5.8 MB/s eta 0:00:01\r\u001b[K     |█████████████████████▍          | 92 kB 6.4 MB/s eta 0:00:01\r\u001b[K     |███████████████████████▉        | 102 kB 5.2 MB/s eta 0:00:01\r\u001b[K     |██████████████████████████▏     | 112 kB 5.2 MB/s eta 0:00:01\r\u001b[K     |████████████████████████████▋   | 122 kB 5.2 MB/s eta 0:00:01\r\u001b[K     |███████████████████████████████ | 133 kB 5.2 MB/s eta 0:00:01\r\u001b[K     |████████████████████████████████| 137 kB 5.2 MB/s \n",
            "\u001b[?25hRequirement already satisfied: numpy>=1.10.1 in /usr/local/lib/python3.7/dist-packages (from wfdb) (1.21.6)\n",
            "Requirement already satisfied: pandas>=0.17.0 in /usr/local/lib/python3.7/dist-packages (from wfdb) (1.3.5)\n",
            "Requirement already satisfied: scipy>=0.17.0 in /usr/local/lib/python3.7/dist-packages (from wfdb) (1.4.1)\n",
            "Requirement already satisfied: requests>=2.8.1 in /usr/local/lib/python3.7/dist-packages (from wfdb) (2.23.0)\n",
            "Collecting matplotlib>=3.3.4\n",
            "  Downloading matplotlib-3.5.2-cp37-cp37m-manylinux_2_5_x86_64.manylinux1_x86_64.whl (11.2 MB)\n",
            "\u001b[K     |████████████████████████████████| 11.2 MB 18.2 MB/s \n",
            "\u001b[?25hCollecting fonttools>=4.22.0\n",
            "  Downloading fonttools-4.33.3-py3-none-any.whl (930 kB)\n",
            "\u001b[K     |████████████████████████████████| 930 kB 54.6 MB/s \n",
            "\u001b[?25hRequirement already satisfied: cycler>=0.10 in /usr/local/lib/python3.7/dist-packages (from matplotlib>=3.3.4->wfdb) (0.11.0)\n",
            "Requirement already satisfied: kiwisolver>=1.0.1 in /usr/local/lib/python3.7/dist-packages (from matplotlib>=3.3.4->wfdb) (1.4.2)\n",
            "Requirement already satisfied: pillow>=6.2.0 in /usr/local/lib/python3.7/dist-packages (from matplotlib>=3.3.4->wfdb) (7.1.2)\n",
            "Requirement already satisfied: packaging>=20.0 in /usr/local/lib/python3.7/dist-packages (from matplotlib>=3.3.4->wfdb) (21.3)\n",
            "Requirement already satisfied: python-dateutil>=2.7 in /usr/local/lib/python3.7/dist-packages (from matplotlib>=3.3.4->wfdb) (2.8.2)\n",
            "Requirement already satisfied: pyparsing>=2.2.1 in /usr/local/lib/python3.7/dist-packages (from matplotlib>=3.3.4->wfdb) (3.0.8)\n",
            "Requirement already satisfied: typing-extensions in /usr/local/lib/python3.7/dist-packages (from kiwisolver>=1.0.1->matplotlib>=3.3.4->wfdb) (4.2.0)\n",
            "Requirement already satisfied: pytz>=2017.3 in /usr/local/lib/python3.7/dist-packages (from pandas>=0.17.0->wfdb) (2022.1)\n",
            "Requirement already satisfied: six>=1.5 in /usr/local/lib/python3.7/dist-packages (from python-dateutil>=2.7->matplotlib>=3.3.4->wfdb) (1.15.0)\n",
            "Requirement already satisfied: idna<3,>=2.5 in /usr/local/lib/python3.7/dist-packages (from requests>=2.8.1->wfdb) (2.10)\n",
            "Requirement already satisfied: certifi>=2017.4.17 in /usr/local/lib/python3.7/dist-packages (from requests>=2.8.1->wfdb) (2021.10.8)\n",
            "Requirement already satisfied: urllib3!=1.25.0,!=1.25.1,<1.26,>=1.21.1 in /usr/local/lib/python3.7/dist-packages (from requests>=2.8.1->wfdb) (1.24.3)\n",
            "Requirement already satisfied: chardet<4,>=3.0.2 in /usr/local/lib/python3.7/dist-packages (from requests>=2.8.1->wfdb) (3.0.4)\n",
            "Installing collected packages: fonttools, matplotlib, wfdb\n",
            "  Attempting uninstall: matplotlib\n",
            "    Found existing installation: matplotlib 3.2.2\n",
            "    Uninstalling matplotlib-3.2.2:\n",
            "      Successfully uninstalled matplotlib-3.2.2\n",
            "\u001b[31mERROR: pip's dependency resolver does not currently take into account all the packages that are installed. This behaviour is the source of the following dependency conflicts.\n",
            "albumentations 0.1.12 requires imgaug<0.2.7,>=0.2.5, but you have imgaug 0.2.9 which is incompatible.\u001b[0m\n",
            "Successfully installed fonttools-4.33.3 matplotlib-3.5.2 wfdb-3.4.1\n"
          ]
        },
        {
          "output_type": "display_data",
          "data": {
            "application/vnd.colab-display-data+json": {
              "pip_warning": {
                "packages": [
                  "matplotlib",
                  "mpl_toolkits"
                ]
              }
            }
          },
          "metadata": {}
        }
      ],
      "source": [
        "pip install wfdb"
      ]
    },
    {
      "cell_type": "code",
      "execution_count": null,
      "metadata": {
        "colab": {
          "base_uri": "https://localhost:8080/"
        },
        "id": "9fi2_z3u67jr",
        "outputId": "80030f89-5a9d-45c0-cddf-8bf8502fa3f2"
      },
      "outputs": [
        {
          "output_type": "stream",
          "name": "stdout",
          "text": [
            "Collecting neurokit2\n",
            "  Downloading neurokit2-0.1.7-py2.py3-none-any.whl (1.1 MB)\n",
            "\u001b[?25l\r\u001b[K     |▎                               | 10 kB 17.7 MB/s eta 0:00:01\r\u001b[K     |▋                               | 20 kB 11.6 MB/s eta 0:00:01\r\u001b[K     |▉                               | 30 kB 9.4 MB/s eta 0:00:01\r\u001b[K     |█▏                              | 40 kB 8.5 MB/s eta 0:00:01\r\u001b[K     |█▌                              | 51 kB 4.5 MB/s eta 0:00:01\r\u001b[K     |█▊                              | 61 kB 5.3 MB/s eta 0:00:01\r\u001b[K     |██                              | 71 kB 5.4 MB/s eta 0:00:01\r\u001b[K     |██▍                             | 81 kB 4.1 MB/s eta 0:00:01\r\u001b[K     |██▋                             | 92 kB 4.5 MB/s eta 0:00:01\r\u001b[K     |███                             | 102 kB 5.0 MB/s eta 0:00:01\r\u001b[K     |███▎                            | 112 kB 5.0 MB/s eta 0:00:01\r\u001b[K     |███▌                            | 122 kB 5.0 MB/s eta 0:00:01\r\u001b[K     |███▉                            | 133 kB 5.0 MB/s eta 0:00:01\r\u001b[K     |████▏                           | 143 kB 5.0 MB/s eta 0:00:01\r\u001b[K     |████▍                           | 153 kB 5.0 MB/s eta 0:00:01\r\u001b[K     |████▊                           | 163 kB 5.0 MB/s eta 0:00:01\r\u001b[K     |█████                           | 174 kB 5.0 MB/s eta 0:00:01\r\u001b[K     |█████▎                          | 184 kB 5.0 MB/s eta 0:00:01\r\u001b[K     |█████▋                          | 194 kB 5.0 MB/s eta 0:00:01\r\u001b[K     |██████                          | 204 kB 5.0 MB/s eta 0:00:01\r\u001b[K     |██████▏                         | 215 kB 5.0 MB/s eta 0:00:01\r\u001b[K     |██████▌                         | 225 kB 5.0 MB/s eta 0:00:01\r\u001b[K     |██████▉                         | 235 kB 5.0 MB/s eta 0:00:01\r\u001b[K     |███████                         | 245 kB 5.0 MB/s eta 0:00:01\r\u001b[K     |███████▍                        | 256 kB 5.0 MB/s eta 0:00:01\r\u001b[K     |███████▊                        | 266 kB 5.0 MB/s eta 0:00:01\r\u001b[K     |████████                        | 276 kB 5.0 MB/s eta 0:00:01\r\u001b[K     |████████▎                       | 286 kB 5.0 MB/s eta 0:00:01\r\u001b[K     |████████▋                       | 296 kB 5.0 MB/s eta 0:00:01\r\u001b[K     |████████▉                       | 307 kB 5.0 MB/s eta 0:00:01\r\u001b[K     |█████████▏                      | 317 kB 5.0 MB/s eta 0:00:01\r\u001b[K     |█████████▌                      | 327 kB 5.0 MB/s eta 0:00:01\r\u001b[K     |█████████▊                      | 337 kB 5.0 MB/s eta 0:00:01\r\u001b[K     |██████████                      | 348 kB 5.0 MB/s eta 0:00:01\r\u001b[K     |██████████▍                     | 358 kB 5.0 MB/s eta 0:00:01\r\u001b[K     |██████████▋                     | 368 kB 5.0 MB/s eta 0:00:01\r\u001b[K     |███████████                     | 378 kB 5.0 MB/s eta 0:00:01\r\u001b[K     |███████████▎                    | 389 kB 5.0 MB/s eta 0:00:01\r\u001b[K     |███████████▌                    | 399 kB 5.0 MB/s eta 0:00:01\r\u001b[K     |███████████▉                    | 409 kB 5.0 MB/s eta 0:00:01\r\u001b[K     |████████████▏                   | 419 kB 5.0 MB/s eta 0:00:01\r\u001b[K     |████████████▍                   | 430 kB 5.0 MB/s eta 0:00:01\r\u001b[K     |████████████▊                   | 440 kB 5.0 MB/s eta 0:00:01\r\u001b[K     |█████████████                   | 450 kB 5.0 MB/s eta 0:00:01\r\u001b[K     |█████████████▎                  | 460 kB 5.0 MB/s eta 0:00:01\r\u001b[K     |█████████████▋                  | 471 kB 5.0 MB/s eta 0:00:01\r\u001b[K     |██████████████                  | 481 kB 5.0 MB/s eta 0:00:01\r\u001b[K     |██████████████▏                 | 491 kB 5.0 MB/s eta 0:00:01\r\u001b[K     |██████████████▌                 | 501 kB 5.0 MB/s eta 0:00:01\r\u001b[K     |██████████████▉                 | 512 kB 5.0 MB/s eta 0:00:01\r\u001b[K     |███████████████                 | 522 kB 5.0 MB/s eta 0:00:01\r\u001b[K     |███████████████▍                | 532 kB 5.0 MB/s eta 0:00:01\r\u001b[K     |███████████████▊                | 542 kB 5.0 MB/s eta 0:00:01\r\u001b[K     |████████████████                | 552 kB 5.0 MB/s eta 0:00:01\r\u001b[K     |████████████████▎               | 563 kB 5.0 MB/s eta 0:00:01\r\u001b[K     |████████████████▋               | 573 kB 5.0 MB/s eta 0:00:01\r\u001b[K     |████████████████▉               | 583 kB 5.0 MB/s eta 0:00:01\r\u001b[K     |█████████████████▏              | 593 kB 5.0 MB/s eta 0:00:01\r\u001b[K     |█████████████████▌              | 604 kB 5.0 MB/s eta 0:00:01\r\u001b[K     |█████████████████▊              | 614 kB 5.0 MB/s eta 0:00:01\r\u001b[K     |██████████████████              | 624 kB 5.0 MB/s eta 0:00:01\r\u001b[K     |██████████████████▍             | 634 kB 5.0 MB/s eta 0:00:01\r\u001b[K     |██████████████████▋             | 645 kB 5.0 MB/s eta 0:00:01\r\u001b[K     |███████████████████             | 655 kB 5.0 MB/s eta 0:00:01\r\u001b[K     |███████████████████▎            | 665 kB 5.0 MB/s eta 0:00:01\r\u001b[K     |███████████████████▌            | 675 kB 5.0 MB/s eta 0:00:01\r\u001b[K     |███████████████████▉            | 686 kB 5.0 MB/s eta 0:00:01\r\u001b[K     |████████████████████▏           | 696 kB 5.0 MB/s eta 0:00:01\r\u001b[K     |████████████████████▍           | 706 kB 5.0 MB/s eta 0:00:01\r\u001b[K     |████████████████████▊           | 716 kB 5.0 MB/s eta 0:00:01\r\u001b[K     |█████████████████████           | 727 kB 5.0 MB/s eta 0:00:01\r\u001b[K     |█████████████████████▎          | 737 kB 5.0 MB/s eta 0:00:01\r\u001b[K     |█████████████████████▋          | 747 kB 5.0 MB/s eta 0:00:01\r\u001b[K     |██████████████████████          | 757 kB 5.0 MB/s eta 0:00:01\r\u001b[K     |██████████████████████▏         | 768 kB 5.0 MB/s eta 0:00:01\r\u001b[K     |██████████████████████▌         | 778 kB 5.0 MB/s eta 0:00:01\r\u001b[K     |██████████████████████▉         | 788 kB 5.0 MB/s eta 0:00:01\r\u001b[K     |███████████████████████         | 798 kB 5.0 MB/s eta 0:00:01\r\u001b[K     |███████████████████████▍        | 808 kB 5.0 MB/s eta 0:00:01\r\u001b[K     |███████████████████████▊        | 819 kB 5.0 MB/s eta 0:00:01\r\u001b[K     |████████████████████████        | 829 kB 5.0 MB/s eta 0:00:01\r\u001b[K     |████████████████████████▎       | 839 kB 5.0 MB/s eta 0:00:01\r\u001b[K     |████████████████████████▋       | 849 kB 5.0 MB/s eta 0:00:01\r\u001b[K     |████████████████████████▉       | 860 kB 5.0 MB/s eta 0:00:01\r\u001b[K     |█████████████████████████▏      | 870 kB 5.0 MB/s eta 0:00:01\r\u001b[K     |█████████████████████████▌      | 880 kB 5.0 MB/s eta 0:00:01\r\u001b[K     |█████████████████████████▊      | 890 kB 5.0 MB/s eta 0:00:01\r\u001b[K     |██████████████████████████      | 901 kB 5.0 MB/s eta 0:00:01\r\u001b[K     |██████████████████████████▍     | 911 kB 5.0 MB/s eta 0:00:01\r\u001b[K     |██████████████████████████▋     | 921 kB 5.0 MB/s eta 0:00:01\r\u001b[K     |███████████████████████████     | 931 kB 5.0 MB/s eta 0:00:01\r\u001b[K     |███████████████████████████▎    | 942 kB 5.0 MB/s eta 0:00:01\r\u001b[K     |███████████████████████████▌    | 952 kB 5.0 MB/s eta 0:00:01\r\u001b[K     |███████████████████████████▉    | 962 kB 5.0 MB/s eta 0:00:01\r\u001b[K     |████████████████████████████▏   | 972 kB 5.0 MB/s eta 0:00:01\r\u001b[K     |████████████████████████████▍   | 983 kB 5.0 MB/s eta 0:00:01\r\u001b[K     |████████████████████████████▊   | 993 kB 5.0 MB/s eta 0:00:01\r\u001b[K     |█████████████████████████████   | 1.0 MB 5.0 MB/s eta 0:00:01\r\u001b[K     |█████████████████████████████▎  | 1.0 MB 5.0 MB/s eta 0:00:01\r\u001b[K     |█████████████████████████████▋  | 1.0 MB 5.0 MB/s eta 0:00:01\r\u001b[K     |██████████████████████████████  | 1.0 MB 5.0 MB/s eta 0:00:01\r\u001b[K     |██████████████████████████████▏ | 1.0 MB 5.0 MB/s eta 0:00:01\r\u001b[K     |██████████████████████████████▌ | 1.1 MB 5.0 MB/s eta 0:00:01\r\u001b[K     |██████████████████████████████▉ | 1.1 MB 5.0 MB/s eta 0:00:01\r\u001b[K     |███████████████████████████████ | 1.1 MB 5.0 MB/s eta 0:00:01\r\u001b[K     |███████████████████████████████▍| 1.1 MB 5.0 MB/s eta 0:00:01\r\u001b[K     |███████████████████████████████▊| 1.1 MB 5.0 MB/s eta 0:00:01\r\u001b[K     |████████████████████████████████| 1.1 MB 5.0 MB/s eta 0:00:01\r\u001b[K     |████████████████████████████████| 1.1 MB 5.0 MB/s \n",
            "\u001b[?25hRequirement already satisfied: scikit-learn in /usr/local/lib/python3.7/dist-packages (from neurokit2) (1.0.2)\n",
            "Requirement already satisfied: scipy in /usr/local/lib/python3.7/dist-packages (from neurokit2) (1.4.1)\n",
            "Requirement already satisfied: pandas in /usr/local/lib/python3.7/dist-packages (from neurokit2) (1.3.5)\n",
            "Requirement already satisfied: numpy in /usr/local/lib/python3.7/dist-packages (from neurokit2) (1.21.6)\n",
            "Requirement already satisfied: matplotlib in /usr/local/lib/python3.7/dist-packages (from neurokit2) (3.5.2)\n",
            "Requirement already satisfied: pyparsing>=2.2.1 in /usr/local/lib/python3.7/dist-packages (from matplotlib->neurokit2) (3.0.8)\n",
            "Requirement already satisfied: cycler>=0.10 in /usr/local/lib/python3.7/dist-packages (from matplotlib->neurokit2) (0.11.0)\n",
            "Requirement already satisfied: python-dateutil>=2.7 in /usr/local/lib/python3.7/dist-packages (from matplotlib->neurokit2) (2.8.2)\n",
            "Requirement already satisfied: fonttools>=4.22.0 in /usr/local/lib/python3.7/dist-packages (from matplotlib->neurokit2) (4.33.3)\n",
            "Requirement already satisfied: pillow>=6.2.0 in /usr/local/lib/python3.7/dist-packages (from matplotlib->neurokit2) (7.1.2)\n",
            "Requirement already satisfied: packaging>=20.0 in /usr/local/lib/python3.7/dist-packages (from matplotlib->neurokit2) (21.3)\n",
            "Requirement already satisfied: kiwisolver>=1.0.1 in /usr/local/lib/python3.7/dist-packages (from matplotlib->neurokit2) (1.4.2)\n",
            "Requirement already satisfied: typing-extensions in /usr/local/lib/python3.7/dist-packages (from kiwisolver>=1.0.1->matplotlib->neurokit2) (4.2.0)\n",
            "Requirement already satisfied: six>=1.5 in /usr/local/lib/python3.7/dist-packages (from python-dateutil>=2.7->matplotlib->neurokit2) (1.15.0)\n",
            "Requirement already satisfied: pytz>=2017.3 in /usr/local/lib/python3.7/dist-packages (from pandas->neurokit2) (2022.1)\n",
            "Requirement already satisfied: threadpoolctl>=2.0.0 in /usr/local/lib/python3.7/dist-packages (from scikit-learn->neurokit2) (3.1.0)\n",
            "Requirement already satisfied: joblib>=0.11 in /usr/local/lib/python3.7/dist-packages (from scikit-learn->neurokit2) (1.1.0)\n",
            "Installing collected packages: neurokit2\n",
            "Successfully installed neurokit2-0.1.7\n"
          ]
        }
      ],
      "source": [
        "pip install neurokit2"
      ]
    },
    {
      "cell_type": "code",
      "execution_count": null,
      "metadata": {
        "colab": {
          "base_uri": "https://localhost:8080/"
        },
        "id": "GkwEEYje65WY",
        "outputId": "4cdc88a6-0835-41ce-8774-d0aa8023fca9"
      },
      "outputs": [
        {
          "output_type": "stream",
          "name": "stdout",
          "text": [
            "Mounted at /content/gdrive\n"
          ]
        }
      ],
      "source": [
        "from google.colab import drive\n",
        "drive.mount(\"/content/gdrive\", force_remount = True)"
      ]
    },
    {
      "cell_type": "code",
      "execution_count": null,
      "metadata": {
        "colab": {
          "base_uri": "https://localhost:8080/"
        },
        "id": "24qdoFUTLDA4",
        "outputId": "e56ac592-dd69-445e-eea4-67fc3bca1858"
      },
      "outputs": [
        {
          "output_type": "stream",
          "name": "stdout",
          "text": [
            "/content/gdrive/MyDrive/ArrhythmiaUINew\n"
          ]
        }
      ],
      "source": [
        "cd /content/gdrive/MyDrive/ArrhythmiaUINew"
      ]
    },
    {
      "cell_type": "code",
      "execution_count": null,
      "metadata": {
        "id": "pJumHYM567gy"
      },
      "outputs": [],
      "source": [
        "from flask_ngrok import run_with_ngrok\n",
        "from flask import Flask, request, render_template\n",
        "import pandas as pd\n",
        "import tensorflow as tf\n",
        "import keras\n",
        "from keras.models import load_model\n",
        "import wfdb\n",
        "import numpy as np\n",
        "from scipy.signal import butter, filtfilt"
      ]
    },
    {
      "cell_type": "code",
      "execution_count": null,
      "metadata": {
        "id": "TMoi_nto67dq"
      },
      "outputs": [],
      "source": [
        "app = Flask(__name__)\n",
        "run_with_ngrok(app)"
      ]
    },
    {
      "cell_type": "code",
      "execution_count": null,
      "metadata": {
        "id": "e0YFQ71667az"
      },
      "outputs": [],
      "source": [
        "# app = Flask(__name__)\n",
        "# path = r\"/content/gdrive/My Drive/arrhythmia/models/splitonpatients.h5\"\n",
        "import sys\n",
        "\n",
        "@app.route(\"/index\")\n",
        "@app.route(\"/\")\n",
        "def index():\n",
        "    return render_template(\"index.html\")\n",
        "\n",
        "@app.route(\"/about\")\n",
        "def about():\n",
        "    return render_template(\"about.html\")\n",
        "\n",
        "@app.route(\"/howitworks\")\n",
        "def howitworks():\n",
        "    return render_template(\"howitworks.html\")\n",
        "\n",
        "@app.route('/model', methods=['GET', 'POST'])\n",
        "def model():\n",
        "    arrhythmic = 0\n",
        "    condition = \"\"\n",
        "    ratio = 0\n",
        "    output = {}\n",
        "    medication = \"\"\n",
        "    \n",
        "    # If a form is submitted\n",
        "    if request.method == \"POST\":\n",
        "\n",
        "        myfiledat = request.files[\"myfiledat\"]\n",
        "        myfilehea = request.files[\"myfilehea\"]\n",
        "\n",
        "        myfiledat.save(myfiledat.filename)\n",
        "        myfilehea.save(myfilehea.filename)\n",
        "\n",
        "        file_name_array = myfiledat.filename.split('.')\n",
        "        record = wfdb.rdrecord(file_name_array[0])\n",
        "\n",
        "        model = load_model(\"/content/gdrive/My Drive/arrhythmia/models/splitonpatients.h5\")\n",
        "\n",
        "        def resamplerecord(signal, frequency, targetfrequency):\n",
        "            from wfdb import processing\n",
        "            ratio = targetfrequency / frequency\n",
        "            if ratio == 1.0:\n",
        "              return signal\n",
        "\n",
        "            newsignal = []\n",
        "            channels = np.shape(signal)[1]\n",
        "            for channel in range(channels):\n",
        "              ns, _ = wfdb.processing.resample_sig(signal[:,channel], frequency, targetfrequency)\n",
        "              newsignal.append(ns)\n",
        "            \n",
        "\n",
        "            return np.column_stack(newsignal)\n",
        "          \n",
        "\n",
        "        def filtersignal(signal, order, cutoff, sample_rate):\n",
        "            nyquist_rate = 0.5 * sample_rate\n",
        "            lowcut, highcut = cutoff[0] / nyquist_rate, cutoff[1] / nyquist_rate\n",
        "            b, a = butter(order, [lowcut,highcut], btype = 'band')\n",
        "\n",
        "            newsignal = []\n",
        "            channels = np.shape(signal)[1]\n",
        "            for channel in range(channels):\n",
        "              ns = filtfilt(b, a, signal[:,channel])\n",
        "              newsignal.append(ns)\n",
        "\n",
        "            return np.column_stack(newsignal)\n",
        "\n",
        "        \n",
        "        from sklearn.preprocessing import StandardScaler\n",
        "        import neurokit2 as nk\n",
        "\n",
        "\n",
        "        frequency = record.fs\n",
        "        sequences = []\n",
        "\n",
        "        record.p_signal = resamplerecord(record.p_signal, frequency, 360)\n",
        "        record.p_signal = filtersignal(record.p_signal, order = 5, cutoff = [0.5,15], sample_rate = 360)\n",
        "\n",
        "        scaler = StandardScaler()\n",
        "        record.p_signal = scaler.fit_transform(record.p_signal)\n",
        "\n",
        "        _, rpeaks = nk.ecg_peaks(record.p_signal[:,0], sampling_rate = 360)\n",
        "        rpeaks = rpeaks['ECG_R_Peaks'].tolist()\n",
        "\n",
        "        window = 256\n",
        "        for i, sample in enumerate(rpeaks):\n",
        "            sequence = np.array([])\n",
        "            start, end = sample - window // 2, sample + window // 2\n",
        "            \n",
        "            if 0 < start < end < record.p_signal.shape[0]:\n",
        "            \n",
        "              sequence = record.p_signal[start:end, 0]\n",
        "              sequence.reshape(1, -1, 1)\n",
        "\n",
        "              if (sequence.size > 0) :\n",
        "                sequences.append(sequence)\n",
        "\n",
        "        x = np.vstack(sequences)\n",
        "        x = np.reshape(x, (x.shape[0], x.shape[1], 1))\n",
        "        predictions = model.predict(x)\n",
        "\n",
        "        \n",
        "        normal = 0\n",
        "        \n",
        "        for (x,y), value in np.ndenumerate(predictions):\n",
        "         \n",
        "          if(value >= 0.5):\n",
        "            arrhythmic += 1\n",
        "          else:\n",
        "            normal += 1\n",
        "\n",
        "        print(f\"Hello world! {arrhythmic}\", file=sys.stderr)\n",
        "        print(\"Arrhythmic\", arrhythmic)\n",
        "\n",
        "        print(\"Normal\", normal)\n",
        "\n",
        "        ratio = arrhythmic/(arrhythmic+normal)\n",
        "        print(\"Ratio\", ratio)\n",
        "\n",
        "\n",
        "        if(ratio < 0.001):\n",
        "          condition = \"No arrhythmia detected\"\n",
        "          medication = \"\"\n",
        "\n",
        "        elif (ratio < 0.002):\n",
        "          condition = \"Mild\"\n",
        "          medication = \"No treatment needed but constant monitoring is needed.\"\n",
        "\n",
        "        elif (ratio < 0.005):\n",
        "          condition = \"Moderate\"\n",
        "          medication = \"Electric cardioversion\"\n",
        "\n",
        "        elif (ratio < 0.007):\n",
        "          condition = \"Severe\"\n",
        "          medication = \"Antiarrhythmic Dosage\"\n",
        "\n",
        "        else :\n",
        "          condition = \"Critical\"\n",
        "          medication = \"Immediate medical attention required.\"\n",
        "\n",
        "\n",
        "        print(\"Condition\", condition)\n",
        "        \n",
        "        # Get prediction\n",
        "        output = {\"arrhythmic\": arrhythmic, \"condition\": condition, \"medication\": medication}\n",
        "        print(output)\n",
        "        \n",
        "    # else:\n",
        "        output = {\"arrhythmic\": arrhythmic, \"condition\": condition, \"medication\": medication}\n",
        "\n",
        "    return render_template(\"model.html\", output = output)\n",
        "\n",
        "# Running the app\n"
      ]
    },
    {
      "cell_type": "code",
      "execution_count": null,
      "metadata": {
        "colab": {
          "base_uri": "https://localhost:8080/"
        },
        "id": "Db44JhPv7YZI",
        "outputId": "2827d0ca-8ba2-44cf-ea20-6efe0c4a8708"
      },
      "outputs": [
        {
          "output_type": "stream",
          "name": "stdout",
          "text": [
            " * Serving Flask app \"__main__\" (lazy loading)\n",
            " * Environment: production\n",
            "\u001b[31m   WARNING: This is a development server. Do not use it in a production deployment.\u001b[0m\n",
            "\u001b[2m   Use a production WSGI server instead.\u001b[0m\n",
            " * Debug mode: off\n"
          ]
        },
        {
          "output_type": "stream",
          "name": "stderr",
          "text": [
            " * Running on http://127.0.0.1:5000/ (Press CTRL+C to quit)\n"
          ]
        }
      ],
      "source": [
        "app.run()"
      ]
    },
    {
      "cell_type": "code",
      "execution_count": null,
      "metadata": {
        "id": "ddsVODZnomcc"
      },
      "outputs": [],
      "source": [
        ""
      ]
    }
  ],
  "metadata": {
    "colab": {
      "collapsed_sections": [],
      "name": "ArrhythmiaUINew.ipynb",
      "provenance": []
    },
    "kernelspec": {
      "display_name": "Python 3",
      "name": "python3"
    },
    "language_info": {
      "name": "python"
    }
  },
  "nbformat": 4,
  "nbformat_minor": 0
}