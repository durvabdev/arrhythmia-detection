{
  "cells": [
    {
      "cell_type": "code",
      "execution_count": null,
      "metadata": {
        "id": "_y3aV_DkI8PN",
        "colab": {
          "base_uri": "https://localhost:8080/"
        },
        "outputId": "e5a27597-c962-4463-ed18-14e69cae7c0f"
      },
      "outputs": [
        {
          "output_type": "stream",
          "name": "stdout",
          "text": [
            "Mounted at /content/gdrive\n"
          ]
        }
      ],
      "source": [
        "from google.colab import drive\n",
        "drive.mount(\"/content/gdrive\", force_remount = True)"
      ]
    },
    {
      "cell_type": "markdown",
      "metadata": {
        "id": "Boy8Vn7greRh"
      },
      "source": [
        "# Importing Libraries"
      ]
    },
    {
      "cell_type": "code",
      "execution_count": null,
      "metadata": {
        "id": "mCnFyBp7JhFv",
        "colab": {
          "base_uri": "https://localhost:8080/",
          "height": 693
        },
        "outputId": "dd703ad9-5c25-4f2c-8ada-740ada9545dd"
      },
      "outputs": [
        {
          "output_type": "stream",
          "name": "stdout",
          "text": [
            "Collecting wfdb\n",
            "  Downloading wfdb-3.4.1-py3-none-any.whl (137 kB)\n",
            "\u001b[K     |████████████████████████████████| 137 kB 4.8 MB/s \n",
            "\u001b[?25hRequirement already satisfied: pandas>=0.17.0 in /usr/local/lib/python3.7/dist-packages (from wfdb) (1.3.5)\n",
            "Requirement already satisfied: numpy>=1.10.1 in /usr/local/lib/python3.7/dist-packages (from wfdb) (1.21.6)\n",
            "Requirement already satisfied: requests>=2.8.1 in /usr/local/lib/python3.7/dist-packages (from wfdb) (2.23.0)\n",
            "Requirement already satisfied: scipy>=0.17.0 in /usr/local/lib/python3.7/dist-packages (from wfdb) (1.4.1)\n",
            "Collecting matplotlib>=3.3.4\n",
            "  Downloading matplotlib-3.5.2-cp37-cp37m-manylinux_2_5_x86_64.manylinux1_x86_64.whl (11.2 MB)\n",
            "\u001b[K     |████████████████████████████████| 11.2 MB 39.8 MB/s \n",
            "\u001b[?25hRequirement already satisfied: pyparsing>=2.2.1 in /usr/local/lib/python3.7/dist-packages (from matplotlib>=3.3.4->wfdb) (3.0.8)\n",
            "Collecting fonttools>=4.22.0\n",
            "  Downloading fonttools-4.33.3-py3-none-any.whl (930 kB)\n",
            "\u001b[K     |████████████████████████████████| 930 kB 40.9 MB/s \n",
            "\u001b[?25hRequirement already satisfied: python-dateutil>=2.7 in /usr/local/lib/python3.7/dist-packages (from matplotlib>=3.3.4->wfdb) (2.8.2)\n",
            "Requirement already satisfied: kiwisolver>=1.0.1 in /usr/local/lib/python3.7/dist-packages (from matplotlib>=3.3.4->wfdb) (1.4.2)\n",
            "Requirement already satisfied: packaging>=20.0 in /usr/local/lib/python3.7/dist-packages (from matplotlib>=3.3.4->wfdb) (21.3)\n",
            "Requirement already satisfied: cycler>=0.10 in /usr/local/lib/python3.7/dist-packages (from matplotlib>=3.3.4->wfdb) (0.11.0)\n",
            "Requirement already satisfied: pillow>=6.2.0 in /usr/local/lib/python3.7/dist-packages (from matplotlib>=3.3.4->wfdb) (7.1.2)\n",
            "Requirement already satisfied: typing-extensions in /usr/local/lib/python3.7/dist-packages (from kiwisolver>=1.0.1->matplotlib>=3.3.4->wfdb) (4.2.0)\n",
            "Requirement already satisfied: pytz>=2017.3 in /usr/local/lib/python3.7/dist-packages (from pandas>=0.17.0->wfdb) (2022.1)\n",
            "Requirement already satisfied: six>=1.5 in /usr/local/lib/python3.7/dist-packages (from python-dateutil>=2.7->matplotlib>=3.3.4->wfdb) (1.15.0)\n",
            "Requirement already satisfied: idna<3,>=2.5 in /usr/local/lib/python3.7/dist-packages (from requests>=2.8.1->wfdb) (2.10)\n",
            "Requirement already satisfied: certifi>=2017.4.17 in /usr/local/lib/python3.7/dist-packages (from requests>=2.8.1->wfdb) (2021.10.8)\n",
            "Requirement already satisfied: urllib3!=1.25.0,!=1.25.1,<1.26,>=1.21.1 in /usr/local/lib/python3.7/dist-packages (from requests>=2.8.1->wfdb) (1.24.3)\n",
            "Requirement already satisfied: chardet<4,>=3.0.2 in /usr/local/lib/python3.7/dist-packages (from requests>=2.8.1->wfdb) (3.0.4)\n",
            "Installing collected packages: fonttools, matplotlib, wfdb\n",
            "  Attempting uninstall: matplotlib\n",
            "    Found existing installation: matplotlib 3.2.2\n",
            "    Uninstalling matplotlib-3.2.2:\n",
            "      Successfully uninstalled matplotlib-3.2.2\n",
            "\u001b[31mERROR: pip's dependency resolver does not currently take into account all the packages that are installed. This behaviour is the source of the following dependency conflicts.\n",
            "albumentations 0.1.12 requires imgaug<0.2.7,>=0.2.5, but you have imgaug 0.2.9 which is incompatible.\u001b[0m\n",
            "Successfully installed fonttools-4.33.3 matplotlib-3.5.2 wfdb-3.4.1\n"
          ]
        },
        {
          "output_type": "display_data",
          "data": {
            "application/vnd.colab-display-data+json": {
              "pip_warning": {
                "packages": [
                  "matplotlib",
                  "mpl_toolkits"
                ]
              }
            }
          },
          "metadata": {}
        }
      ],
      "source": [
        "pip install wfdb"
      ]
    },
    {
      "cell_type": "code",
      "execution_count": null,
      "metadata": {
        "id": "OTafEw8YJwlx",
        "colab": {
          "base_uri": "https://localhost:8080/"
        },
        "outputId": "fa7c287d-ea53-4726-cb4d-36594569669b"
      },
      "outputs": [
        {
          "output_type": "stream",
          "name": "stdout",
          "text": [
            "Requirement already satisfied: scipy in /usr/local/lib/python3.7/dist-packages (1.4.1)\n",
            "Requirement already satisfied: numpy>=1.13.3 in /usr/local/lib/python3.7/dist-packages (from scipy) (1.21.6)\n"
          ]
        }
      ],
      "source": [
        "pip install scipy"
      ]
    },
    {
      "cell_type": "code",
      "execution_count": null,
      "metadata": {
        "id": "RJjdv36BJjEh",
        "colab": {
          "base_uri": "https://localhost:8080/"
        },
        "outputId": "a685db04-97d5-4b08-8d91-626dd7899f5e"
      },
      "outputs": [
        {
          "output_type": "stream",
          "name": "stdout",
          "text": [
            "Collecting neurokit2\n",
            "  Downloading neurokit2-0.1.7-py2.py3-none-any.whl (1.1 MB)\n",
            "\u001b[K     |████████████████████████████████| 1.1 MB 5.5 MB/s \n",
            "\u001b[?25hRequirement already satisfied: numpy in /usr/local/lib/python3.7/dist-packages (from neurokit2) (1.21.6)\n",
            "Requirement already satisfied: pandas in /usr/local/lib/python3.7/dist-packages (from neurokit2) (1.3.5)\n",
            "Requirement already satisfied: matplotlib in /usr/local/lib/python3.7/dist-packages (from neurokit2) (3.5.2)\n",
            "Requirement already satisfied: scikit-learn in /usr/local/lib/python3.7/dist-packages (from neurokit2) (1.0.2)\n",
            "Requirement already satisfied: scipy in /usr/local/lib/python3.7/dist-packages (from neurokit2) (1.4.1)\n",
            "Requirement already satisfied: kiwisolver>=1.0.1 in /usr/local/lib/python3.7/dist-packages (from matplotlib->neurokit2) (1.4.2)\n",
            "Requirement already satisfied: cycler>=0.10 in /usr/local/lib/python3.7/dist-packages (from matplotlib->neurokit2) (0.11.0)\n",
            "Requirement already satisfied: packaging>=20.0 in /usr/local/lib/python3.7/dist-packages (from matplotlib->neurokit2) (21.3)\n",
            "Requirement already satisfied: pyparsing>=2.2.1 in /usr/local/lib/python3.7/dist-packages (from matplotlib->neurokit2) (3.0.8)\n",
            "Requirement already satisfied: fonttools>=4.22.0 in /usr/local/lib/python3.7/dist-packages (from matplotlib->neurokit2) (4.33.3)\n",
            "Requirement already satisfied: pillow>=6.2.0 in /usr/local/lib/python3.7/dist-packages (from matplotlib->neurokit2) (7.1.2)\n",
            "Requirement already satisfied: python-dateutil>=2.7 in /usr/local/lib/python3.7/dist-packages (from matplotlib->neurokit2) (2.8.2)\n",
            "Requirement already satisfied: typing-extensions in /usr/local/lib/python3.7/dist-packages (from kiwisolver>=1.0.1->matplotlib->neurokit2) (4.2.0)\n",
            "Requirement already satisfied: six>=1.5 in /usr/local/lib/python3.7/dist-packages (from python-dateutil>=2.7->matplotlib->neurokit2) (1.15.0)\n",
            "Requirement already satisfied: pytz>=2017.3 in /usr/local/lib/python3.7/dist-packages (from pandas->neurokit2) (2022.1)\n",
            "Requirement already satisfied: joblib>=0.11 in /usr/local/lib/python3.7/dist-packages (from scikit-learn->neurokit2) (1.1.0)\n",
            "Requirement already satisfied: threadpoolctl>=2.0.0 in /usr/local/lib/python3.7/dist-packages (from scikit-learn->neurokit2) (3.1.0)\n",
            "Installing collected packages: neurokit2\n",
            "Successfully installed neurokit2-0.1.7\n"
          ]
        }
      ],
      "source": [
        "pip install neurokit2"
      ]
    },
    {
      "cell_type": "code",
      "execution_count": null,
      "metadata": {
        "id": "YYcmVoJIJ6Rf",
        "colab": {
          "base_uri": "https://localhost:8080/"
        },
        "outputId": "0105b7ee-21a1-41b6-a41e-e48fa265a909"
      },
      "outputs": [
        {
          "output_type": "stream",
          "name": "stdout",
          "text": [
            "Requirement already satisfied: tqdm in /usr/local/lib/python3.7/dist-packages (4.64.0)\n"
          ]
        }
      ],
      "source": [
        "pip install tqdm"
      ]
    },
    {
      "cell_type": "code",
      "execution_count": null,
      "metadata": {
        "id": "YAtnD8d8KIsA",
        "colab": {
          "base_uri": "https://localhost:8080/"
        },
        "outputId": "e78041c7-3ea9-474a-a0e3-b61998ee0b13"
      },
      "outputs": [
        {
          "output_type": "stream",
          "name": "stdout",
          "text": [
            "Requirement already satisfied: seaborn in /usr/local/lib/python3.7/dist-packages (0.11.2)\n",
            "Requirement already satisfied: matplotlib>=2.2 in /usr/local/lib/python3.7/dist-packages (from seaborn) (3.5.2)\n",
            "Requirement already satisfied: numpy>=1.15 in /usr/local/lib/python3.7/dist-packages (from seaborn) (1.21.6)\n",
            "Requirement already satisfied: scipy>=1.0 in /usr/local/lib/python3.7/dist-packages (from seaborn) (1.4.1)\n",
            "Requirement already satisfied: pandas>=0.23 in /usr/local/lib/python3.7/dist-packages (from seaborn) (1.3.5)\n",
            "Requirement already satisfied: pyparsing>=2.2.1 in /usr/local/lib/python3.7/dist-packages (from matplotlib>=2.2->seaborn) (3.0.8)\n",
            "Requirement already satisfied: cycler>=0.10 in /usr/local/lib/python3.7/dist-packages (from matplotlib>=2.2->seaborn) (0.11.0)\n",
            "Requirement already satisfied: python-dateutil>=2.7 in /usr/local/lib/python3.7/dist-packages (from matplotlib>=2.2->seaborn) (2.8.2)\n",
            "Requirement already satisfied: kiwisolver>=1.0.1 in /usr/local/lib/python3.7/dist-packages (from matplotlib>=2.2->seaborn) (1.4.2)\n",
            "Requirement already satisfied: pillow>=6.2.0 in /usr/local/lib/python3.7/dist-packages (from matplotlib>=2.2->seaborn) (7.1.2)\n",
            "Requirement already satisfied: packaging>=20.0 in /usr/local/lib/python3.7/dist-packages (from matplotlib>=2.2->seaborn) (21.3)\n",
            "Requirement already satisfied: fonttools>=4.22.0 in /usr/local/lib/python3.7/dist-packages (from matplotlib>=2.2->seaborn) (4.33.3)\n",
            "Requirement already satisfied: typing-extensions in /usr/local/lib/python3.7/dist-packages (from kiwisolver>=1.0.1->matplotlib>=2.2->seaborn) (4.2.0)\n",
            "Requirement already satisfied: pytz>=2017.3 in /usr/local/lib/python3.7/dist-packages (from pandas>=0.23->seaborn) (2022.1)\n",
            "Requirement already satisfied: six>=1.5 in /usr/local/lib/python3.7/dist-packages (from python-dateutil>=2.7->matplotlib>=2.2->seaborn) (1.15.0)\n"
          ]
        }
      ],
      "source": [
        "pip install seaborn"
      ]
    },
    {
      "cell_type": "code",
      "execution_count": null,
      "metadata": {
        "id": "O39kKEHqKJrj",
        "colab": {
          "base_uri": "https://localhost:8080/"
        },
        "outputId": "19f47099-3a1c-429c-c03e-251ce1c5c1e3"
      },
      "outputs": [
        {
          "output_type": "stream",
          "name": "stdout",
          "text": [
            "Requirement already satisfied: prettytable in /usr/local/lib/python3.7/dist-packages (3.2.0)\n",
            "Requirement already satisfied: importlib-metadata in /usr/local/lib/python3.7/dist-packages (from prettytable) (4.11.3)\n",
            "Requirement already satisfied: wcwidth in /usr/local/lib/python3.7/dist-packages (from prettytable) (0.2.5)\n",
            "Requirement already satisfied: typing-extensions>=3.6.4 in /usr/local/lib/python3.7/dist-packages (from importlib-metadata->prettytable) (4.2.0)\n",
            "Requirement already satisfied: zipp>=0.5 in /usr/local/lib/python3.7/dist-packages (from importlib-metadata->prettytable) (3.8.0)\n"
          ]
        }
      ],
      "source": [
        "pip install prettytable"
      ]
    },
    {
      "cell_type": "code",
      "execution_count": null,
      "metadata": {
        "id": "7ABra5-YKKsQ",
        "colab": {
          "base_uri": "https://localhost:8080/"
        },
        "outputId": "69441c50-1ef1-4f63-f0ad-1fd68db48869"
      },
      "outputs": [
        {
          "output_type": "stream",
          "name": "stdout",
          "text": [
            "Collecting matplotlib==3.2\n",
            "  Downloading matplotlib-3.2.0-cp37-cp37m-manylinux1_x86_64.whl (12.4 MB)\n",
            "\u001b[K     |████████████████████████████████| 12.4 MB 5.2 MB/s \n",
            "\u001b[?25hRequirement already satisfied: cycler>=0.10 in /usr/local/lib/python3.7/dist-packages (from matplotlib==3.2) (0.11.0)\n",
            "Requirement already satisfied: kiwisolver>=1.0.1 in /usr/local/lib/python3.7/dist-packages (from matplotlib==3.2) (1.4.2)\n",
            "Requirement already satisfied: numpy>=1.11 in /usr/local/lib/python3.7/dist-packages (from matplotlib==3.2) (1.21.6)\n",
            "Requirement already satisfied: pyparsing!=2.0.4,!=2.1.2,!=2.1.6,>=2.0.1 in /usr/local/lib/python3.7/dist-packages (from matplotlib==3.2) (3.0.8)\n",
            "Requirement already satisfied: python-dateutil>=2.1 in /usr/local/lib/python3.7/dist-packages (from matplotlib==3.2) (2.8.2)\n",
            "Requirement already satisfied: typing-extensions in /usr/local/lib/python3.7/dist-packages (from kiwisolver>=1.0.1->matplotlib==3.2) (4.2.0)\n",
            "Requirement already satisfied: six>=1.5 in /usr/local/lib/python3.7/dist-packages (from python-dateutil>=2.1->matplotlib==3.2) (1.15.0)\n",
            "Installing collected packages: matplotlib\n",
            "  Attempting uninstall: matplotlib\n",
            "    Found existing installation: matplotlib 3.5.2\n",
            "    Uninstalling matplotlib-3.5.2:\n",
            "      Successfully uninstalled matplotlib-3.5.2\n",
            "\u001b[31mERROR: pip's dependency resolver does not currently take into account all the packages that are installed. This behaviour is the source of the following dependency conflicts.\n",
            "wfdb 3.4.1 requires matplotlib>=3.3.4, but you have matplotlib 3.2.0 which is incompatible.\n",
            "albumentations 0.1.12 requires imgaug<0.2.7,>=0.2.5, but you have imgaug 0.2.9 which is incompatible.\u001b[0m\n",
            "Successfully installed matplotlib-3.2.0\n"
          ]
        },
        {
          "output_type": "display_data",
          "data": {
            "application/vnd.colab-display-data+json": {
              "pip_warning": {
                "packages": [
                  "matplotlib",
                  "mpl_toolkits"
                ]
              }
            }
          },
          "metadata": {}
        }
      ],
      "source": [
        "pip install matplotlib==3.2"
      ]
    },
    {
      "cell_type": "markdown",
      "metadata": {
        "id": "s0Nup8H1rhIy"
      },
      "source": [
        "# Defining Variables & Performing EDA"
      ]
    },
    {
      "cell_type": "code",
      "execution_count": null,
      "metadata": {
        "id": "dZHnlweRKLSh"
      },
      "outputs": [],
      "source": [
        "databases = ['mitdb','incartdb']\n",
        "path = r\"/content/gdrive/My Drive/arrhythmia/\"\n",
        "\n",
        "invalid_beats  = ['!', '\"', \"'\", '(', ')', '*', '+', '=', '@', 'D', 'T', '[', ']', '^', '`', 'p', 's', 't', 'u', 'x', '|', '~']\n",
        "abnormal_beats = ['/', '?', 'A', 'B', 'E', 'F', 'J', 'L', 'Q', 'R', 'S', 'V', 'a', 'e', 'f', 'j', 'n', 'r']\n",
        "normal_beats   = ['.', 'N']"
      ]
    },
    {
      "cell_type": "code",
      "execution_count": null,
      "metadata": {
        "id": "_N_6IaBcKZfE"
      },
      "outputs": [],
      "source": [
        "if False:\n",
        "    print(\"Downloading databases & creating record files: \")\n",
        "    for database in databases:\n",
        "        print(f\"\\n{database}\\n\")\n",
        "        wfdb.dl_database(database,f\"{path}/databases/{database}\",overwrite = False)\n",
        "        list_of_records = sorted(wfdb.get_record_list(database),key = len) \n",
        "        record_file = open(f\"{path}/databases/{database}/RECORDS.txt\", \"w\")\n",
        "        for record in list_of_records:\n",
        "            record_file.write(record + \"\\n\")\n",
        "        record_file.close()"
      ]
    },
    {
      "cell_type": "code",
      "execution_count": null,
      "metadata": {
        "id": "WJL5iRCnKbej"
      },
      "outputs": [],
      "source": [
        "import pandas as pd, numpy as np, wfdb\n",
        "df = pd.DataFrame()\n",
        "\n",
        "for database in databases:\n",
        "  for pt in sorted(wfdb.get_record_list(database),key = len):\n",
        "    record = wfdb.rdrecord(f\"{path}/databases/{database}/{pt}\")\n",
        "    annotation = wfdb.rdann(f\"{path}/databases/{database}/{pt}\", 'atr')\n",
        "    symbol, sample = annotation.symbol, annotation.sample\n",
        "    \n",
        "    values, counts = np.unique(symbol, return_counts = True)\n",
        "    \n",
        "    subdf = pd.DataFrame({'database':database, 'frequency':[record.fs] * len(counts), \n",
        "                          'symbol':values, 'counts':counts, 'pt':[pt] * len(counts)})\n",
        "    df = pd.concat([df, subdf], axis = 0)\n",
        "\n",
        "df.index = [i for i in range(1, len(df.values) + 1)]"
      ]
    },
    {
      "cell_type": "code",
      "execution_count": null,
      "metadata": {
        "id": "ZrdO4zmkKpkU",
        "colab": {
          "base_uri": "https://localhost:8080/"
        },
        "outputId": "f3eee56c-cee4-4ec6-8a83-53fac0e40af9"
      },
      "outputs": [
        {
          "output_type": "execute_result",
          "data": {
            "text/plain": [
              "database  frequency  symbol\n",
              "incartdb  257        +             12\n",
              "                     A           1944\n",
              "                     B              1\n",
              "                     F            219\n",
              "                     N         150410\n",
              "                     Q              6\n",
              "                     R           3174\n",
              "                     S             16\n",
              "                     V          20013\n",
              "                     j             92\n",
              "                     n             32\n",
              "mitdb     360        !            472\n",
              "                     \"            437\n",
              "                     +           1291\n",
              "                     /           7028\n",
              "                     A           2546\n",
              "                     E            106\n",
              "                     F            803\n",
              "                     J             83\n",
              "                     L           8075\n",
              "                     N          75052\n",
              "                     Q             33\n",
              "                     R           7259\n",
              "                     S              2\n",
              "                     V           7130\n",
              "                     [              6\n",
              "                     ]              6\n",
              "                     a            150\n",
              "                     e             16\n",
              "                     f            982\n",
              "                     j            229\n",
              "                     x            193\n",
              "                     |            132\n",
              "                     ~            616\n",
              "Name: counts, dtype: int64"
            ]
          },
          "metadata": {},
          "execution_count": 12
        }
      ],
      "source": [
        "df.groupby(['database','frequency','symbol']).counts.sum()"
      ]
    },
    {
      "cell_type": "code",
      "execution_count": null,
      "metadata": {
        "id": "H7ghpwu_Lir6"
      },
      "outputs": [],
      "source": [
        "df['category'] = \"invalid\"\n",
        "df.loc[df.symbol.isin(normal_beats),'category'] = \"valid\"\n",
        "df.loc[df.symbol.isin(abnormal_beats), 'category'] = \"abnormal\""
      ]
    },
    {
      "cell_type": "code",
      "execution_count": null,
      "metadata": {
        "id": "Kkl48kpgL1AH",
        "colab": {
          "base_uri": "https://localhost:8080/",
          "height": 363
        },
        "outputId": "646f683c-e3eb-4737-af61-b0ed8f3d2bf2"
      },
      "outputs": [
        {
          "output_type": "display_data",
          "data": {
            "text/plain": [
              "<Figure size 1080x432 with 3 Axes>"
            ],
            "image/png": "[encoded data removed]"
          },
          "metadata": {}
        }
      ],
      "source": [
        "import matplotlib.pyplot as plt, seaborn as sns\n",
        "colours = [\"#87b9ce\", \"#ce87b9\", \"#b9ce87\"]\n",
        "plt.rcParams[\"figure.figsize\"] = (15, 6)\n",
        "sns.set()\n",
        "\n",
        "edadatabase, plotdatabase = plt.subplots(1, 3)\n",
        "\n",
        "for idx, database in enumerate(databases):\n",
        "  _ = plotdatabase[idx].pie(df.loc[df['database'].isin([f\"{database}\"])].groupby('category').counts.sum(), autopct = '%.1f%%', colors = colours)\n",
        "  plotdatabase[idx].set_title(database)\n",
        "\n",
        "_ = plotdatabase[-1].pie(df.groupby('category').counts.sum(), autopct = '%.1f%%', colors = colours)\n",
        "plotdatabase[-1].set_title(\"dataset\")\n",
        "\n",
        "_ = edadatabase.legend(['abnormal','invalid','valid'])"
      ]
    },
    {
      "cell_type": "code",
      "execution_count": null,
      "metadata": {
        "id": "ivhKz60Bgu6E",
        "colab": {
          "base_uri": "https://localhost:8080/"
        },
        "outputId": "f43073ea-4f06-4f5a-c3d5-f999db886437"
      },
      "outputs": [
        {
          "output_type": "stream",
          "name": "stdout",
          "text": [
            "category\n",
            "abnormal     59939\n",
            "invalid       3165\n",
            "valid       225462\n",
            "Name: counts, dtype: int64\n",
            "\n",
            "database  category\n",
            "incartdb  abnormal     25497\n",
            "          invalid         12\n",
            "          valid       150410\n",
            "mitdb     abnormal     34442\n",
            "          invalid       3153\n",
            "          valid        75052\n",
            "Name: counts, dtype: int64\n"
          ]
        }
      ],
      "source": [
        "print(df.groupby(['category']).counts.sum())\n",
        "print()\n",
        "print(df.groupby(['database','category']).counts.sum())"
      ]
    },
    {
      "cell_type": "code",
      "execution_count": null,
      "metadata": {
        "id": "Znooj2O3eE_N",
        "colab": {
          "base_uri": "https://localhost:8080/",
          "height": 338
        },
        "outputId": "0fa54742-bfc6-458a-9ed5-140a36c8fdeb"
      },
      "outputs": [
        {
          "output_type": "display_data",
          "data": {
            "text/plain": [
              "<Figure size 1296x360 with 3 Axes>"
            ],
            "image/png": "[encoded data removed]"
          },
          "metadata": {}
        }
      ],
      "source": [
        "import matplotlib.pyplot as plt, seaborn as sns\n",
        "colours = [\"#87b9ce\", \"#ce87b9\", \"#b9ce87\"]\n",
        "plt.rcParams[\"figure.figsize\"] = (18, 5)\n",
        "sns.set()\n",
        "\n",
        "edadatabase, plotdatabase = plt.subplots(1, 3)\n",
        "\n",
        "for idx, database in enumerate(databases):\n",
        "  height = df.loc[df['database'].isin([f\"{database}\"])].groupby('category').counts.sum().to_numpy()\n",
        "  _ = plotdatabase[idx].bar(x = ['abnormal','invalid','valid'] , height = height)\n",
        "  plotdatabase[idx].set_title(database)\n",
        "\n",
        "heights = df.groupby('category').counts.sum().to_numpy()\n",
        "_ = plotdatabase[-1].bar(x = ['abnormal','invalid','valid'] , height = heights)\n",
        "_ = plotdatabase[-1].set_title(\"dataset\")"
      ]
    },
    {
      "cell_type": "markdown",
      "metadata": {
        "id": "UJmrpwpIrn7T"
      },
      "source": [
        "# Preprocess Signals & Create Dataset"
      ]
    },
    {
      "cell_type": "code",
      "execution_count": null,
      "metadata": {
        "id": "30RbE-wAf24m"
      },
      "outputs": [],
      "source": [
        "import wfdb, numpy as np\n",
        "\n",
        "'''function resamples signal & annotation to target frequency'''\n",
        "def resamplerecord(signal, annotation, frequency, targetfrequency):\n",
        "  from wfdb import processing\n",
        "  ratio = targetfrequency / frequency\n",
        "  if ratio == 1.0:\n",
        "    return signal, annotation \n",
        "\n",
        "  newsignal = []\n",
        "  channels = np.shape(signal)[1]\n",
        "  for channel in range(channels):\n",
        "    ns, _ = wfdb.processing.resample_sig(signal[:,channel], frequency, targetfrequency)\n",
        "    newsignal.append(ns)\n",
        "  annotation.sample = (ratio * annotation.sample).astype(np.int64)\n",
        "\n",
        "  return np.column_stack(newsignal), annotation"
      ]
    },
    {
      "cell_type": "code",
      "execution_count": null,
      "metadata": {
        "id": "v-JWd8EGhkAr"
      },
      "outputs": [],
      "source": [
        "from scipy.signal import butter, filtfilt\n",
        "\n",
        "'''function filters signal using a bandpass filter'''\n",
        "def filtersignal(signal, order, cutoff, sample_rate):\n",
        "  nyquist_rate = 0.5 * sample_rate\n",
        "  lowcut, highcut = cutoff[0] / nyquist_rate, cutoff[1] / nyquist_rate\n",
        "  b, a = butter(order, [lowcut,highcut], btype = 'band')\n",
        "\n",
        "  newsignal = []\n",
        "  channels = np.shape(signal)[1]\n",
        "  for channel in range(channels):\n",
        "    ns = filtfilt(b, a, signal[:,channel])\n",
        "    newsignal.append(ns)\n",
        "\n",
        "  return np.column_stack(newsignal)"
      ]
    },
    {
      "cell_type": "code",
      "execution_count": null,
      "metadata": {
        "id": "M13MP0jwhlfz"
      },
      "outputs": [],
      "source": [
        "'''function returns sample & symbol for each beat'''\n",
        "def sliceannotation(annotation, start, end):\n",
        "  end = end or annotation.sample[-1]\n",
        "  indices = np.intersect1d(np.where(annotation.sample >= start), np.where(annotation.sample <= end))\n",
        "  symbols = [annotation.symbol[i] for i in indices]\n",
        "  samples = [annotation.sample[i] for i in indices]\n",
        "  symbol = symbols[0] if len(symbols) == 1 else None\n",
        "  return np.array(samples), symbol"
      ]
    },
    {
      "cell_type": "code",
      "execution_count": null,
      "metadata": {
        "id": "5BHlHq-Ehm7J",
        "colab": {
          "base_uri": "https://localhost:8080/",
          "height": 81,
          "referenced_widgets": [
            "1eeaf36bf7ad431f8c0ab8521e1ce740",
            "e4162fd79a1e4e2fb68edd3b7e07e6a3",
            "0666be69d1c84a56b2dc523dab1d496a",
            "31b9282d37f141679f30b3fe7d3b69c4",
            "dfa539596a8242a4a4dda6e010827e43",
            "bd944f249363422ea7f7bde5f08171e7",
            "8b30538b070344bb8d2a692cea512ba8",
            "5adfc750236840799190f361b239976d",
            "3bdabbf1710f486abb9030044ee0ead3",
            "bf06e86d3c7948649f9ca421eb5a559b",
            "9396cb6447d148f99ccac6d2e1ad5208",
            "f5c901cd1aa14468b7bec6949a23c56e",
            "a106d838e0064a18b0a35fa89eb8eb38",
            "68bbe6ac6b30422ca232d8856308628c",
            "b57c3c45750f4dc1a199fec9f67fd936",
            "8f59380b6efb4bd3bf04df58a4eb8ca5",
            "3ebb24cae9ad4c5394c911155a44a6fe",
            "654d29c44ee24b9981c9051863f2b39c",
            "b44c2d0b93ce468db0798c85c434e0e9",
            "ae8e934a4f49413c8db59cb01bfbf0cc",
            "12e0847277984f7eb89d8fee715f0f3c",
            "48ae394f34f64ba6ae918cdbc4ec0bbf"
          ]
        },
        "outputId": "05e5bcaa-8458-450a-faf8-0c9b63533eef"
      },
      "outputs": [
        {
          "output_type": "display_data",
          "data": {
            "text/plain": [
              "mitdb:   0%|          | 0/48 [00:00<?, ?it/s]"
            ],
            "application/vnd.jupyter.widget-view+json": {
              "version_major": 2,
              "version_minor": 0,
              "model_id": "1eeaf36bf7ad431f8c0ab8521e1ce740"
            }
          },
          "metadata": {}
        },
        {
          "output_type": "display_data",
          "data": {
            "text/plain": [
              "incartdb:   0%|          | 0/75 [00:00<?, ?it/s]"
            ],
            "application/vnd.jupyter.widget-view+json": {
              "version_major": 2,
              "version_minor": 0,
              "model_id": "f5c901cd1aa14468b7bec6949a23c56e"
            }
          },
          "metadata": {}
        }
      ],
      "source": [
        "import pandas as pd, numpy as np, neurokit2 as nk, wfdb\n",
        "from tqdm.notebook import tqdm_notebook\n",
        "from sklearn.preprocessing import StandardScaler\n",
        "\n",
        "subjectmap = pd.DataFrame()\n",
        "sequences = []\n",
        "labels = []\n",
        "np.random.seed(42)\n",
        "\n",
        "for database in databases:\n",
        "    RECORDS = sorted(wfdb.get_record_list(database),key = len)\n",
        "    for pt in tqdm_notebook(RECORDS, desc = f\"{database}\"):\n",
        "      record = wfdb.rdrecord(f\"{path}/databases/{database}/{pt}\")\n",
        "      annotation = wfdb.rdann(f\"{path}/databases/{database}/{pt}\", extension = 'atr')\n",
        "      \n",
        "      frequency = record.fs\n",
        "      record.p_signal, annotation = resamplerecord(record.p_signal, annotation, frequency, 360)\n",
        "      record.p_signal = filtersignal(record.p_signal, order = 5, cutoff = [0.5,15], sample_rate = 360)\n",
        "\n",
        "      scaler = StandardScaler()\n",
        "      record.p_signal = scaler.fit_transform(record.p_signal)\n",
        "      \n",
        "      _, rpeaks = nk.ecg_peaks(record.p_signal[:,0], sampling_rate = 360)\n",
        "      rpeaks = rpeaks['ECG_R_Peaks'].tolist()\n",
        "\n",
        "      window = 256\n",
        "      for i, sample in enumerate(rpeaks):\n",
        "          label, sequence = None, np.array([])\n",
        "          start, end = sample - window // 2, sample + window // 2\n",
        "          \n",
        "          if 0 < start < end < record.p_signal.shape[0]:\n",
        "            samples, symbol = sliceannotation(annotation, start, end)\n",
        "            label  = 1 if symbol in abnormal_beats else 0 if symbol in normal_beats else None\n",
        "            sequence = record.p_signal[start:end, 0]\n",
        "            sequence.reshape(1, -1, 1)\n",
        "\n",
        "            if (label is not None and sequence.size > 0) and (symbol != \"N\" or np.random.random() > 0.75):\n",
        "              sequences.append(sequence)\n",
        "              labels.append(label)\n",
        "              subjectsubmap = pd.DataFrame({'database':database,'patient':pt, 'start':[start], 'end':[end], 'symbol':symbol, 'category':label})\n",
        "              subjectmap = pd.concat([subjectmap, subjectsubmap], axis = 0)"
      ]
    },
    {
      "cell_type": "code",
      "execution_count": null,
      "metadata": {
        "id": "YwWSwbH-hqpM",
        "colab": {
          "base_uri": "https://localhost:8080/"
        },
        "outputId": "77b58e21-34e5-4a6d-b044-b04b1dbff134"
      },
      "outputs": [
        {
          "output_type": "execute_result",
          "data": {
            "text/plain": [
              "((110130, 256), (110130, 1))"
            ]
          },
          "metadata": {},
          "execution_count": 25
        }
      ],
      "source": [
        "x, y = np.vstack(sequences), np.vstack(labels)\n",
        "x.shape, y.shape"
      ]
    },
    {
      "cell_type": "code",
      "execution_count": null,
      "metadata": {
        "id": "pVhLO-Gmhsrd"
      },
      "outputs": [],
      "source": [
        "x = np.reshape(x, (x.shape[0], x.shape[1], 1))"
      ]
    },
    {
      "cell_type": "code",
      "execution_count": null,
      "metadata": {
        "id": "MHDtpTgbhvXM",
        "colab": {
          "base_uri": "https://localhost:8080/"
        },
        "outputId": "12c6da69-e447-4c5b-af69-323f537a105c"
      },
      "outputs": [
        {
          "output_type": "stream",
          "name": "stdout",
          "text": [
            "0    54975\n",
            "1    55155\n",
            "Name: category, dtype: int64\n",
            "\n",
            "database  category\n",
            "incartdb  0           36264\n",
            "          1           22232\n",
            "mitdb     0           18711\n",
            "          1           32923\n",
            "Name: category, dtype: int64\n"
          ]
        }
      ],
      "source": [
        "print(subjectmap['category'].value_counts().sort_index())\n",
        "print()\n",
        "print(subjectmap.groupby(['database']).category.value_counts().sort_index())"
      ]
    },
    {
      "cell_type": "code",
      "execution_count": null,
      "metadata": {
        "id": "CmWOpuh1mN7g",
        "colab": {
          "base_uri": "https://localhost:8080/",
          "height": 345
        },
        "outputId": "35821165-3f57-45a7-8cf1-7bbd1d17ed34"
      },
      "outputs": [
        {
          "output_type": "execute_result",
          "data": {
            "text/plain": [
              "<matplotlib.legend.Legend at 0x7eff5b4d04d0>"
            ]
          },
          "metadata": {},
          "execution_count": 28
        },
        {
          "output_type": "display_data",
          "data": {
            "text/plain": [
              "<Figure size 1080x360 with 3 Axes>"
            ],
            "image/png": "[encoded data removed]"
          },
          "metadata": {}
        }
      ],
      "source": [
        "import matplotlib.pyplot as plt, seaborn as sns\n",
        "colours = [\"#87b9ce\", \"#ce87b9\", \"#b9ce87\"]\n",
        "plt.rcParams[\"figure.figsize\"] = (15, 5)\n",
        "sns.set()\n",
        "\n",
        "edadataset, plotdataset = plt.subplots(1, 3)\n",
        "\n",
        "for idx, database in enumerate(databases):\n",
        "  _ = plotdataset[idx].pie(subjectmap.loc[subjectmap['database'].isin([f\"{database}\"])]['category'].value_counts().sort_index(), autopct = '%.1f%%', \n",
        "                           colors = colours)\n",
        "  plotdataset[idx].set_title(database)\n",
        "\n",
        "_ = plotdataset[-1].pie(subjectmap['category'].value_counts(), autopct = '%.1f%%', colors = colours)\n",
        "_ = plotdataset[-1].set_title(\"dataset\")\n",
        "\n",
        "edadataset.legend(['normal','abnormal'])"
      ]
    },
    {
      "cell_type": "code",
      "execution_count": null,
      "metadata": {
        "id": "FJ2BD5Ixs3LK",
        "colab": {
          "base_uri": "https://localhost:8080/",
          "height": 377
        },
        "outputId": "96c92d98-5249-4238-f806-0baf4c01ff27"
      },
      "outputs": [
        {
          "output_type": "execute_result",
          "data": {
            "text/plain": [
              "<matplotlib.legend.Legend at 0x7eff5a7b5990>"
            ]
          },
          "metadata": {},
          "execution_count": 29
        },
        {
          "output_type": "display_data",
          "data": {
            "text/plain": [
              "<Figure size 1296x360 with 3 Axes>"
            ],
            "image/png": "[encoded data removed]"
          },
          "metadata": {}
        }
      ],
      "source": [
        "import matplotlib.pyplot as plt, seaborn as sns\n",
        "colours = [\"#87b9ce\", \"#ce87b9\", \"#b9ce87\"]\n",
        "plt.rcParams[\"figure.figsize\"] = (18, 5)\n",
        "sns.set()\n",
        "\n",
        "edadataset, plotdataset = plt.subplots(1, 3)\n",
        "\n",
        "for idx, database in enumerate(databases):\n",
        "  height = subjectmap.loc[subjectmap['database'].isin([f\"{database}\"])]['category'].value_counts().sort_index().to_numpy()\n",
        "  _ = plotdataset[idx].bar(x = ['normal', 'abnormal'] , height = height)\n",
        "  plotdataset[idx].set_title(database)\n",
        "\n",
        "heights = subjectmap['category'].value_counts().sort_index().to_numpy()\n",
        "_ = plotdataset[-1].bar(x =  ['normal', 'abnormal'] , height = heights)\n",
        "_ = plotdataset[-1].set_title(\"dataset\")\n",
        "\n",
        "edadataset.legend(['normal','abnormal'])"
      ]
    },
    {
      "cell_type": "markdown",
      "metadata": {
        "id": "Rv42jqkWt4vd"
      },
      "source": [
        "# Split Dataset & Create Model"
      ]
    },
    {
      "cell_type": "code",
      "execution_count": null,
      "metadata": {
        "id": "JobMLrHBvzhJ"
      },
      "outputs": [],
      "source": [
        "from keras.callbacks import LearningRateScheduler,EarlyStopping\n",
        "import math\n",
        "\n",
        "def schedule(epoch):\n",
        "   lr, base, step = 0.001, 0.5, 5\n",
        "   return lr * math.pow(base, (epoch) // step)\n",
        "\n",
        "lrcallback = LearningRateScheduler(schedule, verbose = 0)\n",
        "escallback = EarlyStopping(monitor=\"val_accuracy\", patience = 7)"
      ]
    },
    {
      "cell_type": "code",
      "execution_count": null,
      "metadata": {
        "id": "FC1UsJjeusdt"
      },
      "outputs": [],
      "source": [
        "from sklearn.metrics import accuracy_score, precision_score, recall_score\n",
        "from prettytable import PrettyTable\n",
        "\n",
        "modelmetrics = PrettyTable()\n",
        "modelmetrics.field_names = [\"fold\", \"train or test\", \"accuracy\", \"recall\", \"precision\", \"F1 score\", \"specificity\"]\n",
        "meanprecision = []\n",
        "meanrecall = []\n",
        "\n",
        "def getmetrics(fold, trainortest, y_actual, predictions):\n",
        "  threshold = (sum(y_actual) / len(y_actual))[0]\n",
        "\n",
        "  accuracy = round(accuracy_score(y_actual, (predictions > threshold)), 3)\n",
        "  recall = round(recall_score(y_actual, (predictions > threshold)), 3)\n",
        "  precision = round(precision_score(y_actual, (predictions > threshold)), 3)\n",
        "  f1score = round((2 * precision * recall) / (precision + recall), 3)\n",
        "  specificity = sum((predictions < threshold) & (y_actual == 0)) / sum(y_actual == 0)\n",
        "  \n",
        "  modelmetrics.add_row([fold, trainortest, accuracy, recall, precision, f1score, specificity[0]])\n",
        "  \n",
        "  if trainortest == \"test\":\n",
        "    meanprecision.append(precision)\n",
        "    meanrecall.append(recall)"
      ]
    },
    {
      "cell_type": "markdown",
      "metadata": {
        "id": "mTcK28pm0TQb"
      },
      "source": [
        "## Splitting on Samples"
      ]
    },
    {
      "cell_type": "code",
      "execution_count": null,
      "metadata": {
        "id": "yDwq8nJbtpDb"
      },
      "outputs": [],
      "source": [
        "from sklearn.model_selection import StratifiedKFold\n",
        "\n",
        "splits = StratifiedKFold(n_splits = 10, shuffle = True)\n",
        "X = subjectmap[['start', 'end', 'patient']]\n",
        "Y = subjectmap['category']"
      ]
    },
    {
      "cell_type": "code",
      "execution_count": null,
      "metadata": {
        "colab": {
          "base_uri": "https://localhost:8080/"
        },
        "id": "BZqn2nUqua6k",
        "outputId": "1e49a3a0-0ae0-4dfc-965c-ac2c1818a962"
      },
      "outputs": [
        {
          "output_type": "stream",
          "name": "stdout",
          "text": [
            "\n",
            "fold  1 \n",
            "\n",
            "Epoch 1/20\n",
            "775/775 [==============================] - 41s 49ms/step - loss: 0.2773 - accuracy: 0.9028 - val_loss: 0.2171 - val_accuracy: 0.9304 - lr: 0.0010\n",
            "Epoch 2/20\n",
            "775/775 [==============================] - 41s 52ms/step - loss: 0.2041 - accuracy: 0.9286 - val_loss: 0.1883 - val_accuracy: 0.9373 - lr: 0.0010\n",
            "Epoch 3/20\n",
            "775/775 [==============================] - 41s 53ms/step - loss: 0.1845 - accuracy: 0.9363 - val_loss: 0.1772 - val_accuracy: 0.9396 - lr: 0.0010\n",
            "Epoch 4/20\n",
            "775/775 [==============================] - 39s 51ms/step - loss: 0.1755 - accuracy: 0.9400 - val_loss: 0.1658 - val_accuracy: 0.9445 - lr: 0.0010\n",
            "Epoch 5/20\n",
            "775/775 [==============================] - 40s 51ms/step - loss: 0.1685 - accuracy: 0.9423 - val_loss: 0.1683 - val_accuracy: 0.9439 - lr: 0.0010\n",
            "Epoch 6/20\n",
            "775/775 [==============================] - 41s 53ms/step - loss: 0.1581 - accuracy: 0.9466 - val_loss: 0.1542 - val_accuracy: 0.9493 - lr: 5.0000e-04\n",
            "Epoch 7/20\n",
            "775/775 [==============================] - 42s 54ms/step - loss: 0.1565 - accuracy: 0.9468 - val_loss: 0.1519 - val_accuracy: 0.9496 - lr: 5.0000e-04\n",
            "Epoch 8/20\n",
            "775/775 [==============================] - 41s 53ms/step - loss: 0.1530 - accuracy: 0.9484 - val_loss: 0.1504 - val_accuracy: 0.9509 - lr: 5.0000e-04\n",
            "Epoch 9/20\n",
            "775/775 [==============================] - 44s 57ms/step - loss: 0.1527 - accuracy: 0.9484 - val_loss: 0.1528 - val_accuracy: 0.9492 - lr: 5.0000e-04\n",
            "Epoch 10/20\n",
            "775/775 [==============================] - 43s 55ms/step - loss: 0.1493 - accuracy: 0.9491 - val_loss: 0.1518 - val_accuracy: 0.9492 - lr: 5.0000e-04\n",
            "Epoch 11/20\n",
            "775/775 [==============================] - 45s 57ms/step - loss: 0.1443 - accuracy: 0.9509 - val_loss: 0.1423 - val_accuracy: 0.9532 - lr: 2.5000e-04\n",
            "Epoch 12/20\n",
            "775/775 [==============================] - 45s 58ms/step - loss: 0.1437 - accuracy: 0.9509 - val_loss: 0.1437 - val_accuracy: 0.9520 - lr: 2.5000e-04\n",
            "Epoch 13/20\n",
            "775/775 [==============================] - 39s 51ms/step - loss: 0.1423 - accuracy: 0.9516 - val_loss: 0.1425 - val_accuracy: 0.9527 - lr: 2.5000e-04\n",
            "Epoch 14/20\n",
            "775/775 [==============================] - 44s 56ms/step - loss: 0.1428 - accuracy: 0.9519 - val_loss: 0.1424 - val_accuracy: 0.9530 - lr: 2.5000e-04\n",
            "Epoch 15/20\n",
            "775/775 [==============================] - 44s 57ms/step - loss: 0.1421 - accuracy: 0.9518 - val_loss: 0.1426 - val_accuracy: 0.9526 - lr: 2.5000e-04\n",
            "Epoch 16/20\n",
            "775/775 [==============================] - 45s 58ms/step - loss: 0.1394 - accuracy: 0.9528 - val_loss: 0.1418 - val_accuracy: 0.9533 - lr: 1.2500e-04\n",
            "Epoch 17/20\n",
            "775/775 [==============================] - 45s 59ms/step - loss: 0.1381 - accuracy: 0.9530 - val_loss: 0.1404 - val_accuracy: 0.9538 - lr: 1.2500e-04\n",
            "Epoch 18/20\n",
            "775/775 [==============================] - 45s 58ms/step - loss: 0.1383 - accuracy: 0.9542 - val_loss: 0.1401 - val_accuracy: 0.9539 - lr: 1.2500e-04\n",
            "Epoch 19/20\n",
            "775/775 [==============================] - 44s 57ms/step - loss: 0.1390 - accuracy: 0.9528 - val_loss: 0.1417 - val_accuracy: 0.9539 - lr: 1.2500e-04\n",
            "Epoch 20/20\n",
            "775/775 [==============================] - 44s 56ms/step - loss: 0.1371 - accuracy: 0.9536 - val_loss: 0.1386 - val_accuracy: 0.9548 - lr: 1.2500e-04\n",
            "\n",
            "fold  2 \n",
            "\n",
            "Epoch 1/20\n",
            "775/775 [==============================] - 39s 48ms/step - loss: 0.2956 - accuracy: 0.8978 - val_loss: 0.2043 - val_accuracy: 0.9333 - lr: 0.0010\n",
            "Epoch 2/20\n",
            "775/775 [==============================] - 38s 49ms/step - loss: 0.2135 - accuracy: 0.9257 - val_loss: 0.1858 - val_accuracy: 0.9362 - lr: 0.0010\n",
            "Epoch 3/20\n",
            "775/775 [==============================] - 39s 50ms/step - loss: 0.1944 - accuracy: 0.9330 - val_loss: 0.1624 - val_accuracy: 0.9426 - lr: 0.0010\n",
            "Epoch 4/20\n",
            "775/775 [==============================] - 39s 50ms/step - loss: 0.1824 - accuracy: 0.9373 - val_loss: 0.1575 - val_accuracy: 0.9413 - lr: 0.0010\n",
            "Epoch 5/20\n",
            "775/775 [==============================] - 39s 51ms/step - loss: 0.1751 - accuracy: 0.9404 - val_loss: 0.1473 - val_accuracy: 0.9493 - lr: 0.0010\n",
            "Epoch 6/20\n",
            "775/775 [==============================] - 40s 52ms/step - loss: 0.1662 - accuracy: 0.9428 - val_loss: 0.1397 - val_accuracy: 0.9512 - lr: 5.0000e-04\n",
            "Epoch 7/20\n",
            "775/775 [==============================] - 41s 53ms/step - loss: 0.1640 - accuracy: 0.9440 - val_loss: 0.1370 - val_accuracy: 0.9516 - lr: 5.0000e-04\n",
            "Epoch 8/20\n",
            "775/775 [==============================] - 41s 53ms/step - loss: 0.1612 - accuracy: 0.9447 - val_loss: 0.1351 - val_accuracy: 0.9520 - lr: 5.0000e-04\n",
            "Epoch 9/20\n",
            "775/775 [==============================] - 42s 54ms/step - loss: 0.1582 - accuracy: 0.9456 - val_loss: 0.1289 - val_accuracy: 0.9543 - lr: 5.0000e-04\n",
            "Epoch 10/20\n",
            "775/775 [==============================] - 40s 52ms/step - loss: 0.1575 - accuracy: 0.9460 - val_loss: 0.1378 - val_accuracy: 0.9511 - lr: 5.0000e-04\n",
            "Epoch 11/20\n",
            "775/775 [==============================] - 41s 53ms/step - loss: 0.1520 - accuracy: 0.9474 - val_loss: 0.1266 - val_accuracy: 0.9551 - lr: 2.5000e-04\n",
            "Epoch 12/20\n",
            "775/775 [==============================] - 41s 54ms/step - loss: 0.1515 - accuracy: 0.9479 - val_loss: 0.1276 - val_accuracy: 0.9560 - lr: 2.5000e-04\n",
            "Epoch 13/20\n",
            "775/775 [==============================] - 42s 54ms/step - loss: 0.1513 - accuracy: 0.9480 - val_loss: 0.1265 - val_accuracy: 0.9546 - lr: 2.5000e-04\n",
            "Epoch 14/20\n",
            "775/775 [==============================] - 41s 53ms/step - loss: 0.1492 - accuracy: 0.9488 - val_loss: 0.1240 - val_accuracy: 0.9550 - lr: 2.5000e-04\n",
            "Epoch 15/20\n",
            "775/775 [==============================] - 42s 54ms/step - loss: 0.1498 - accuracy: 0.9480 - val_loss: 0.1271 - val_accuracy: 0.9536 - lr: 2.5000e-04\n",
            "Epoch 16/20\n",
            "775/775 [==============================] - 43s 56ms/step - loss: 0.1468 - accuracy: 0.9499 - val_loss: 0.1222 - val_accuracy: 0.9561 - lr: 1.2500e-04\n",
            "Epoch 17/20\n",
            "775/775 [==============================] - 42s 54ms/step - loss: 0.1457 - accuracy: 0.9493 - val_loss: 0.1217 - val_accuracy: 0.9571 - lr: 1.2500e-04\n",
            "Epoch 18/20\n",
            "775/775 [==============================] - 42s 54ms/step - loss: 0.1456 - accuracy: 0.9493 - val_loss: 0.1224 - val_accuracy: 0.9555 - lr: 1.2500e-04\n",
            "Epoch 19/20\n",
            "775/775 [==============================] - 42s 55ms/step - loss: 0.1453 - accuracy: 0.9503 - val_loss: 0.1220 - val_accuracy: 0.9563 - lr: 1.2500e-04\n",
            "Epoch 20/20\n",
            "775/775 [==============================] - 42s 54ms/step - loss: 0.1458 - accuracy: 0.9497 - val_loss: 0.1220 - val_accuracy: 0.9553 - lr: 1.2500e-04\n",
            "\n",
            "fold  3 \n",
            "\n",
            "Epoch 1/20\n",
            "775/775 [==============================] - 40s 49ms/step - loss: 0.2898 - accuracy: 0.9026 - val_loss: 0.2314 - val_accuracy: 0.9219 - lr: 0.0010\n",
            "Epoch 2/20\n",
            "775/775 [==============================] - 40s 52ms/step - loss: 0.2024 - accuracy: 0.9291 - val_loss: 0.2092 - val_accuracy: 0.9255 - lr: 0.0010\n",
            "Epoch 3/20\n",
            "775/775 [==============================] - 42s 54ms/step - loss: 0.1849 - accuracy: 0.9358 - val_loss: 0.1785 - val_accuracy: 0.9398 - lr: 0.0010\n",
            "Epoch 4/20\n",
            "775/775 [==============================] - 42s 54ms/step - loss: 0.1739 - accuracy: 0.9394 - val_loss: 0.1701 - val_accuracy: 0.9426 - lr: 0.0010\n",
            "Epoch 5/20\n",
            "775/775 [==============================] - 43s 56ms/step - loss: 0.1676 - accuracy: 0.9426 - val_loss: 0.1585 - val_accuracy: 0.9443 - lr: 0.0010\n",
            "Epoch 6/20\n",
            "775/775 [==============================] - 42s 54ms/step - loss: 0.1594 - accuracy: 0.9459 - val_loss: 0.1524 - val_accuracy: 0.9496 - lr: 5.0000e-04\n",
            "Epoch 7/20\n",
            "775/775 [==============================] - 41s 54ms/step - loss: 0.1557 - accuracy: 0.9467 - val_loss: 0.1528 - val_accuracy: 0.9492 - lr: 5.0000e-04\n",
            "Epoch 8/20\n",
            "775/775 [==============================] - 42s 55ms/step - loss: 0.1546 - accuracy: 0.9472 - val_loss: 0.1532 - val_accuracy: 0.9482 - lr: 5.0000e-04\n",
            "Epoch 9/20\n",
            "775/775 [==============================] - 42s 54ms/step - loss: 0.1524 - accuracy: 0.9481 - val_loss: 0.1476 - val_accuracy: 0.9500 - lr: 5.0000e-04\n",
            "Epoch 10/20\n",
            "775/775 [==============================] - 42s 54ms/step - loss: 0.1501 - accuracy: 0.9485 - val_loss: 0.1506 - val_accuracy: 0.9497 - lr: 5.0000e-04\n",
            "Epoch 11/20\n",
            "775/775 [==============================] - 42s 54ms/step - loss: 0.1467 - accuracy: 0.9502 - val_loss: 0.1427 - val_accuracy: 0.9541 - lr: 2.5000e-04\n",
            "Epoch 12/20\n",
            "775/775 [==============================] - 42s 54ms/step - loss: 0.1463 - accuracy: 0.9498 - val_loss: 0.1408 - val_accuracy: 0.9543 - lr: 2.5000e-04\n",
            "Epoch 13/20\n",
            "775/775 [==============================] - 42s 54ms/step - loss: 0.1443 - accuracy: 0.9506 - val_loss: 0.1404 - val_accuracy: 0.9542 - lr: 2.5000e-04\n",
            "Epoch 14/20\n",
            "775/775 [==============================] - 41s 52ms/step - loss: 0.1441 - accuracy: 0.9507 - val_loss: 0.1427 - val_accuracy: 0.9539 - lr: 2.5000e-04\n",
            "Epoch 15/20\n",
            "775/775 [==============================] - 41s 53ms/step - loss: 0.1440 - accuracy: 0.9509 - val_loss: 0.1451 - val_accuracy: 0.9546 - lr: 2.5000e-04\n",
            "Epoch 16/20\n",
            "775/775 [==============================] - 43s 55ms/step - loss: 0.1407 - accuracy: 0.9524 - val_loss: 0.1398 - val_accuracy: 0.9549 - lr: 1.2500e-04\n",
            "Epoch 17/20\n",
            "775/775 [==============================] - 42s 54ms/step - loss: 0.1408 - accuracy: 0.9526 - val_loss: 0.1381 - val_accuracy: 0.9555 - lr: 1.2500e-04\n",
            "Epoch 18/20\n",
            "775/775 [==============================] - 41s 53ms/step - loss: 0.1408 - accuracy: 0.9521 - val_loss: 0.1392 - val_accuracy: 0.9562 - lr: 1.2500e-04\n",
            "Epoch 19/20\n",
            "775/775 [==============================] - 41s 53ms/step - loss: 0.1408 - accuracy: 0.9523 - val_loss: 0.1374 - val_accuracy: 0.9545 - lr: 1.2500e-04\n",
            "Epoch 20/20\n",
            "775/775 [==============================] - 41s 53ms/step - loss: 0.1398 - accuracy: 0.9520 - val_loss: 0.1360 - val_accuracy: 0.9554 - lr: 1.2500e-04\n",
            "\n",
            "fold  4 \n",
            "\n",
            "Epoch 1/20\n",
            "775/775 [==============================] - 40s 49ms/step - loss: 0.2988 - accuracy: 0.8944 - val_loss: 0.2174 - val_accuracy: 0.9291 - lr: 0.0010\n",
            "Epoch 2/20\n",
            "775/775 [==============================] - 38s 49ms/step - loss: 0.2124 - accuracy: 0.9284 - val_loss: 0.2103 - val_accuracy: 0.9244 - lr: 0.0010\n",
            "Epoch 3/20\n",
            "775/775 [==============================] - 39s 51ms/step - loss: 0.1928 - accuracy: 0.9337 - val_loss: 0.1688 - val_accuracy: 0.9423 - lr: 0.0010\n",
            "Epoch 4/20\n",
            "775/775 [==============================] - 39s 51ms/step - loss: 0.1802 - accuracy: 0.9384 - val_loss: 0.1612 - val_accuracy: 0.9433 - lr: 0.0010\n",
            "Epoch 5/20\n",
            "775/775 [==============================] - 40s 51ms/step - loss: 0.1740 - accuracy: 0.9404 - val_loss: 0.1606 - val_accuracy: 0.9453 - lr: 0.0010\n",
            "Epoch 6/20\n",
            "775/775 [==============================] - 40s 52ms/step - loss: 0.1637 - accuracy: 0.9442 - val_loss: 0.1496 - val_accuracy: 0.9472 - lr: 5.0000e-04\n",
            "Epoch 7/20\n",
            "775/775 [==============================] - 39s 51ms/step - loss: 0.1617 - accuracy: 0.9450 - val_loss: 0.1482 - val_accuracy: 0.9475 - lr: 5.0000e-04\n",
            "Epoch 8/20\n",
            "775/775 [==============================] - 39s 51ms/step - loss: 0.1588 - accuracy: 0.9455 - val_loss: 0.1522 - val_accuracy: 0.9493 - lr: 5.0000e-04\n",
            "Epoch 9/20\n",
            "775/775 [==============================] - 42s 54ms/step - loss: 0.1579 - accuracy: 0.9460 - val_loss: 0.1477 - val_accuracy: 0.9501 - lr: 5.0000e-04\n",
            "Epoch 10/20\n",
            "775/775 [==============================] - 39s 51ms/step - loss: 0.1565 - accuracy: 0.9462 - val_loss: 0.1442 - val_accuracy: 0.9495 - lr: 5.0000e-04\n",
            "Epoch 11/20\n",
            "775/775 [==============================] - 40s 51ms/step - loss: 0.1505 - accuracy: 0.9485 - val_loss: 0.1398 - val_accuracy: 0.9523 - lr: 2.5000e-04\n",
            "Epoch 12/20\n",
            "775/775 [==============================] - 40s 51ms/step - loss: 0.1490 - accuracy: 0.9488 - val_loss: 0.1447 - val_accuracy: 0.9519 - lr: 2.5000e-04\n",
            "Epoch 13/20\n",
            "775/775 [==============================] - 39s 51ms/step - loss: 0.1485 - accuracy: 0.9501 - val_loss: 0.1377 - val_accuracy: 0.9525 - lr: 2.5000e-04\n",
            "Epoch 14/20\n",
            "775/775 [==============================] - 39s 51ms/step - loss: 0.1481 - accuracy: 0.9492 - val_loss: 0.1368 - val_accuracy: 0.9529 - lr: 2.5000e-04\n",
            "Epoch 15/20\n",
            "775/775 [==============================] - 40s 52ms/step - loss: 0.1483 - accuracy: 0.9497 - val_loss: 0.1385 - val_accuracy: 0.9543 - lr: 2.5000e-04\n",
            "Epoch 16/20\n",
            "775/775 [==============================] - 40s 52ms/step - loss: 0.1441 - accuracy: 0.9507 - val_loss: 0.1351 - val_accuracy: 0.9546 - lr: 1.2500e-04\n",
            "Epoch 17/20\n",
            "775/775 [==============================] - 39s 50ms/step - loss: 0.1444 - accuracy: 0.9506 - val_loss: 0.1329 - val_accuracy: 0.9551 - lr: 1.2500e-04\n",
            "Epoch 18/20\n",
            "775/775 [==============================] - 39s 50ms/step - loss: 0.1440 - accuracy: 0.9506 - val_loss: 0.1330 - val_accuracy: 0.9546 - lr: 1.2500e-04\n",
            "Epoch 19/20\n",
            "775/775 [==============================] - 39s 51ms/step - loss: 0.1431 - accuracy: 0.9515 - val_loss: 0.1318 - val_accuracy: 0.9551 - lr: 1.2500e-04\n",
            "Epoch 20/20\n",
            "775/775 [==============================] - 39s 51ms/step - loss: 0.1428 - accuracy: 0.9516 - val_loss: 0.1319 - val_accuracy: 0.9551 - lr: 1.2500e-04\n",
            "\n",
            "fold  5 \n",
            "\n",
            "Epoch 1/20\n",
            "775/775 [==============================] - 40s 48ms/step - loss: 0.2876 - accuracy: 0.9001 - val_loss: 0.2066 - val_accuracy: 0.9287 - lr: 0.0010\n",
            "Epoch 2/20\n",
            "775/775 [==============================] - 37s 48ms/step - loss: 0.2074 - accuracy: 0.9286 - val_loss: 0.1932 - val_accuracy: 0.9356 - lr: 0.0010\n",
            "Epoch 3/20\n",
            "775/775 [==============================] - 37s 48ms/step - loss: 0.1891 - accuracy: 0.9342 - val_loss: 0.1641 - val_accuracy: 0.9426 - lr: 0.0010\n",
            "Epoch 4/20\n",
            "775/775 [==============================] - 37s 48ms/step - loss: 0.1791 - accuracy: 0.9384 - val_loss: 0.1603 - val_accuracy: 0.9437 - lr: 0.0010\n",
            "Epoch 5/20\n",
            "775/775 [==============================] - 38s 49ms/step - loss: 0.1724 - accuracy: 0.9408 - val_loss: 0.1589 - val_accuracy: 0.9457 - lr: 0.0010\n",
            "Epoch 6/20\n",
            "775/775 [==============================] - 37s 48ms/step - loss: 0.1619 - accuracy: 0.9449 - val_loss: 0.1472 - val_accuracy: 0.9498 - lr: 5.0000e-04\n",
            "Epoch 7/20\n",
            "775/775 [==============================] - 37s 48ms/step - loss: 0.1586 - accuracy: 0.9459 - val_loss: 0.1437 - val_accuracy: 0.9489 - lr: 5.0000e-04\n",
            "Epoch 8/20\n",
            "775/775 [==============================] - 37s 48ms/step - loss: 0.1563 - accuracy: 0.9462 - val_loss: 0.1378 - val_accuracy: 0.9519 - lr: 5.0000e-04\n",
            "Epoch 9/20\n",
            "775/775 [==============================] - 37s 48ms/step - loss: 0.1551 - accuracy: 0.9473 - val_loss: 0.1399 - val_accuracy: 0.9519 - lr: 5.0000e-04\n",
            "Epoch 10/20\n",
            "775/775 [==============================] - 37s 48ms/step - loss: 0.1517 - accuracy: 0.9475 - val_loss: 0.1354 - val_accuracy: 0.9547 - lr: 5.0000e-04\n",
            "Epoch 11/20\n",
            "775/775 [==============================] - 37s 48ms/step - loss: 0.1472 - accuracy: 0.9504 - val_loss: 0.1318 - val_accuracy: 0.9538 - lr: 2.5000e-04\n",
            "Epoch 12/20\n",
            "775/775 [==============================] - 37s 48ms/step - loss: 0.1471 - accuracy: 0.9498 - val_loss: 0.1300 - val_accuracy: 0.9539 - lr: 2.5000e-04\n",
            "Epoch 13/20\n",
            "775/775 [==============================] - 37s 48ms/step - loss: 0.1453 - accuracy: 0.9498 - val_loss: 0.1324 - val_accuracy: 0.9540 - lr: 2.5000e-04\n",
            "Epoch 14/20\n",
            "775/775 [==============================] - 37s 48ms/step - loss: 0.1449 - accuracy: 0.9507 - val_loss: 0.1280 - val_accuracy: 0.9531 - lr: 2.5000e-04\n",
            "Epoch 15/20\n",
            "775/775 [==============================] - 38s 49ms/step - loss: 0.1448 - accuracy: 0.9503 - val_loss: 0.1327 - val_accuracy: 0.9552 - lr: 2.5000e-04\n",
            "Epoch 16/20\n",
            "775/775 [==============================] - 37s 48ms/step - loss: 0.1411 - accuracy: 0.9514 - val_loss: 0.1271 - val_accuracy: 0.9566 - lr: 1.2500e-04\n",
            "Epoch 17/20\n",
            "775/775 [==============================] - 37s 48ms/step - loss: 0.1414 - accuracy: 0.9516 - val_loss: 0.1262 - val_accuracy: 0.9559 - lr: 1.2500e-04\n",
            "Epoch 18/20\n",
            "775/775 [==============================] - 37s 48ms/step - loss: 0.1407 - accuracy: 0.9516 - val_loss: 0.1242 - val_accuracy: 0.9571 - lr: 1.2500e-04\n",
            "Epoch 19/20\n",
            "775/775 [==============================] - 37s 48ms/step - loss: 0.1406 - accuracy: 0.9522 - val_loss: 0.1243 - val_accuracy: 0.9572 - lr: 1.2500e-04\n",
            "Epoch 20/20\n",
            "775/775 [==============================] - 37s 48ms/step - loss: 0.1404 - accuracy: 0.9518 - val_loss: 0.1244 - val_accuracy: 0.9568 - lr: 1.2500e-04\n",
            "\n",
            "fold  6 \n",
            "\n",
            "Epoch 1/20\n",
            "775/775 [==============================] - 40s 49ms/step - loss: 0.2933 - accuracy: 0.8997 - val_loss: 0.2143 - val_accuracy: 0.9274 - lr: 0.0010\n",
            "Epoch 2/20\n",
            "775/775 [==============================] - 38s 49ms/step - loss: 0.2129 - accuracy: 0.9264 - val_loss: 0.1823 - val_accuracy: 0.9364 - lr: 0.0010\n",
            "Epoch 3/20\n",
            "775/775 [==============================] - 37s 48ms/step - loss: 0.1885 - accuracy: 0.9352 - val_loss: 0.1722 - val_accuracy: 0.9380 - lr: 0.0010\n",
            "Epoch 4/20\n",
            "775/775 [==============================] - 38s 49ms/step - loss: 0.1789 - accuracy: 0.9385 - val_loss: 0.1594 - val_accuracy: 0.9452 - lr: 0.0010\n",
            "Epoch 5/20\n",
            "775/775 [==============================] - 37s 48ms/step - loss: 0.1734 - accuracy: 0.9407 - val_loss: 0.1540 - val_accuracy: 0.9483 - lr: 0.0010\n",
            "Epoch 6/20\n",
            "775/775 [==============================] - 38s 48ms/step - loss: 0.1637 - accuracy: 0.9442 - val_loss: 0.1413 - val_accuracy: 0.9510 - lr: 5.0000e-04\n",
            "Epoch 7/20\n",
            "775/775 [==============================] - 37s 48ms/step - loss: 0.1606 - accuracy: 0.9453 - val_loss: 0.1350 - val_accuracy: 0.9541 - lr: 5.0000e-04\n",
            "Epoch 8/20\n",
            "775/775 [==============================] - 37s 48ms/step - loss: 0.1573 - accuracy: 0.9465 - val_loss: 0.1322 - val_accuracy: 0.9540 - lr: 5.0000e-04\n",
            "Epoch 9/20\n",
            "775/775 [==============================] - 39s 50ms/step - loss: 0.1555 - accuracy: 0.9464 - val_loss: 0.1421 - val_accuracy: 0.9501 - lr: 5.0000e-04\n",
            "Epoch 10/20\n",
            "775/775 [==============================] - 38s 48ms/step - loss: 0.1542 - accuracy: 0.9475 - val_loss: 0.1324 - val_accuracy: 0.9536 - lr: 5.0000e-04\n",
            "Epoch 11/20\n",
            "775/775 [==============================] - 38s 49ms/step - loss: 0.1489 - accuracy: 0.9494 - val_loss: 0.1255 - val_accuracy: 0.9574 - lr: 2.5000e-04\n",
            "Epoch 12/20\n",
            "775/775 [==============================] - 38s 49ms/step - loss: 0.1486 - accuracy: 0.9492 - val_loss: 0.1244 - val_accuracy: 0.9569 - lr: 2.5000e-04\n",
            "Epoch 13/20\n",
            "775/775 [==============================] - 38s 48ms/step - loss: 0.1473 - accuracy: 0.9498 - val_loss: 0.1256 - val_accuracy: 0.9563 - lr: 2.5000e-04\n",
            "Epoch 14/20\n",
            "775/775 [==============================] - 37s 48ms/step - loss: 0.1461 - accuracy: 0.9497 - val_loss: 0.1285 - val_accuracy: 0.9541 - lr: 2.5000e-04\n",
            "Epoch 15/20\n",
            "775/775 [==============================] - 38s 48ms/step - loss: 0.1470 - accuracy: 0.9500 - val_loss: 0.1256 - val_accuracy: 0.9569 - lr: 2.5000e-04\n",
            "Epoch 16/20\n",
            "775/775 [==============================] - 38s 49ms/step - loss: 0.1430 - accuracy: 0.9508 - val_loss: 0.1245 - val_accuracy: 0.9581 - lr: 1.2500e-04\n",
            "Epoch 17/20\n",
            "775/775 [==============================] - 38s 49ms/step - loss: 0.1428 - accuracy: 0.9508 - val_loss: 0.1220 - val_accuracy: 0.9584 - lr: 1.2500e-04\n",
            "Epoch 18/20\n",
            "775/775 [==============================] - 37s 48ms/step - loss: 0.1422 - accuracy: 0.9510 - val_loss: 0.1240 - val_accuracy: 0.9572 - lr: 1.2500e-04\n",
            "Epoch 19/20\n",
            "775/775 [==============================] - 38s 49ms/step - loss: 0.1425 - accuracy: 0.9518 - val_loss: 0.1208 - val_accuracy: 0.9580 - lr: 1.2500e-04\n",
            "Epoch 20/20\n",
            "775/775 [==============================] - 38s 49ms/step - loss: 0.1414 - accuracy: 0.9514 - val_loss: 0.1215 - val_accuracy: 0.9584 - lr: 1.2500e-04\n",
            "\n",
            "fold  7 \n",
            "\n",
            "Epoch 1/20\n",
            "775/775 [==============================] - 39s 49ms/step - loss: 0.2889 - accuracy: 0.8978 - val_loss: 0.2026 - val_accuracy: 0.9263 - lr: 0.0010\n",
            "Epoch 2/20\n",
            "775/775 [==============================] - 37s 48ms/step - loss: 0.2036 - accuracy: 0.9285 - val_loss: 0.1771 - val_accuracy: 0.9382 - lr: 0.0010\n",
            "Epoch 3/20\n",
            "775/775 [==============================] - 38s 48ms/step - loss: 0.1847 - accuracy: 0.9355 - val_loss: 0.1888 - val_accuracy: 0.9369 - lr: 0.0010\n",
            "Epoch 4/20\n",
            "775/775 [==============================] - 38s 48ms/step - loss: 0.1747 - accuracy: 0.9400 - val_loss: 0.1583 - val_accuracy: 0.9441 - lr: 0.0010\n",
            "Epoch 5/20\n",
            "775/775 [==============================] - 38s 49ms/step - loss: 0.1682 - accuracy: 0.9421 - val_loss: 0.1591 - val_accuracy: 0.9428 - lr: 0.0010\n",
            "Epoch 6/20\n",
            "775/775 [==============================] - 38s 49ms/step - loss: 0.1585 - accuracy: 0.9453 - val_loss: 0.1444 - val_accuracy: 0.9499 - lr: 5.0000e-04\n",
            "Epoch 7/20\n",
            "775/775 [==============================] - 38s 49ms/step - loss: 0.1558 - accuracy: 0.9467 - val_loss: 0.1526 - val_accuracy: 0.9469 - lr: 5.0000e-04\n",
            "Epoch 8/20\n",
            "775/775 [==============================] - 38s 49ms/step - loss: 0.1542 - accuracy: 0.9476 - val_loss: 0.1349 - val_accuracy: 0.9536 - lr: 5.0000e-04\n",
            "Epoch 9/20\n",
            "775/775 [==============================] - 38s 49ms/step - loss: 0.1527 - accuracy: 0.9479 - val_loss: 0.1386 - val_accuracy: 0.9527 - lr: 5.0000e-04\n",
            "Epoch 10/20\n",
            "775/775 [==============================] - 38s 49ms/step - loss: 0.1529 - accuracy: 0.9479 - val_loss: 0.1364 - val_accuracy: 0.9542 - lr: 5.0000e-04\n",
            "Epoch 11/20\n",
            "775/775 [==============================] - 38s 49ms/step - loss: 0.1467 - accuracy: 0.9497 - val_loss: 0.1325 - val_accuracy: 0.9526 - lr: 2.5000e-04\n",
            "Epoch 12/20\n",
            "775/775 [==============================] - 38s 49ms/step - loss: 0.1456 - accuracy: 0.9497 - val_loss: 0.1329 - val_accuracy: 0.9541 - lr: 2.5000e-04\n",
            "Epoch 13/20\n",
            "775/775 [==============================] - 40s 51ms/step - loss: 0.1460 - accuracy: 0.9503 - val_loss: 0.1308 - val_accuracy: 0.9545 - lr: 2.5000e-04\n",
            "Epoch 14/20\n",
            "775/775 [==============================] - 39s 51ms/step - loss: 0.1437 - accuracy: 0.9507 - val_loss: 0.1329 - val_accuracy: 0.9535 - lr: 2.5000e-04\n",
            "Epoch 15/20\n",
            "775/775 [==============================] - 39s 50ms/step - loss: 0.1432 - accuracy: 0.9511 - val_loss: 0.1299 - val_accuracy: 0.9546 - lr: 2.5000e-04\n",
            "Epoch 16/20\n",
            "775/775 [==============================] - 40s 51ms/step - loss: 0.1407 - accuracy: 0.9519 - val_loss: 0.1274 - val_accuracy: 0.9551 - lr: 1.2500e-04\n",
            "Epoch 17/20\n",
            "775/775 [==============================] - 40s 51ms/step - loss: 0.1413 - accuracy: 0.9523 - val_loss: 0.1313 - val_accuracy: 0.9536 - lr: 1.2500e-04\n",
            "Epoch 18/20\n",
            "775/775 [==============================] - 40s 51ms/step - loss: 0.1417 - accuracy: 0.9516 - val_loss: 0.1270 - val_accuracy: 0.9564 - lr: 1.2500e-04\n",
            "Epoch 19/20\n",
            "775/775 [==============================] - 39s 51ms/step - loss: 0.1405 - accuracy: 0.9522 - val_loss: 0.1273 - val_accuracy: 0.9559 - lr: 1.2500e-04\n",
            "Epoch 20/20\n",
            "775/775 [==============================] - 40s 51ms/step - loss: 0.1397 - accuracy: 0.9524 - val_loss: 0.1293 - val_accuracy: 0.9552 - lr: 1.2500e-04\n",
            "\n",
            "fold  8 \n",
            "\n",
            "Epoch 1/20\n",
            "775/775 [==============================] - 39s 49ms/step - loss: 0.3037 - accuracy: 0.8963 - val_loss: 0.2190 - val_accuracy: 0.9235 - lr: 0.0010\n",
            "Epoch 2/20\n",
            "775/775 [==============================] - 38s 49ms/step - loss: 0.2230 - accuracy: 0.9222 - val_loss: 0.1946 - val_accuracy: 0.9307 - lr: 0.0010\n",
            "Epoch 3/20\n",
            "775/775 [==============================] - 38s 49ms/step - loss: 0.2008 - accuracy: 0.9313 - val_loss: 0.1721 - val_accuracy: 0.9396 - lr: 0.0010\n",
            "Epoch 4/20\n",
            "775/775 [==============================] - 37s 48ms/step - loss: 0.1868 - accuracy: 0.9360 - val_loss: 0.1718 - val_accuracy: 0.9377 - lr: 0.0010\n",
            "Epoch 5/20\n",
            "775/775 [==============================] - 38s 49ms/step - loss: 0.1777 - accuracy: 0.9388 - val_loss: 0.1629 - val_accuracy: 0.9450 - lr: 0.0010\n",
            "Epoch 6/20\n",
            "775/775 [==============================] - 38s 49ms/step - loss: 0.1663 - accuracy: 0.9433 - val_loss: 0.1449 - val_accuracy: 0.9500 - lr: 5.0000e-04\n",
            "Epoch 7/20\n",
            "775/775 [==============================] - 38s 48ms/step - loss: 0.1633 - accuracy: 0.9436 - val_loss: 0.1449 - val_accuracy: 0.9476 - lr: 5.0000e-04\n",
            "Epoch 8/20\n",
            "775/775 [==============================] - 38s 49ms/step - loss: 0.1587 - accuracy: 0.9455 - val_loss: 0.1390 - val_accuracy: 0.9508 - lr: 5.0000e-04\n",
            "Epoch 9/20\n",
            "775/775 [==============================] - 37s 48ms/step - loss: 0.1574 - accuracy: 0.9461 - val_loss: 0.1381 - val_accuracy: 0.9528 - lr: 5.0000e-04\n",
            "Epoch 10/20\n",
            "775/775 [==============================] - 38s 48ms/step - loss: 0.1541 - accuracy: 0.9471 - val_loss: 0.1339 - val_accuracy: 0.9536 - lr: 5.0000e-04\n",
            "Epoch 11/20\n",
            "775/775 [==============================] - 38s 49ms/step - loss: 0.1502 - accuracy: 0.9484 - val_loss: 0.1337 - val_accuracy: 0.9531 - lr: 2.5000e-04\n",
            "Epoch 12/20\n",
            "775/775 [==============================] - 37s 48ms/step - loss: 0.1488 - accuracy: 0.9493 - val_loss: 0.1276 - val_accuracy: 0.9555 - lr: 2.5000e-04\n",
            "Epoch 13/20\n",
            "775/775 [==============================] - 38s 48ms/step - loss: 0.1483 - accuracy: 0.9495 - val_loss: 0.1277 - val_accuracy: 0.9557 - lr: 2.5000e-04\n",
            "Epoch 14/20\n",
            "775/775 [==============================] - 38s 49ms/step - loss: 0.1471 - accuracy: 0.9500 - val_loss: 0.1308 - val_accuracy: 0.9534 - lr: 2.5000e-04\n",
            "Epoch 15/20\n",
            "775/775 [==============================] - 38s 49ms/step - loss: 0.1460 - accuracy: 0.9499 - val_loss: 0.1294 - val_accuracy: 0.9540 - lr: 2.5000e-04\n",
            "Epoch 16/20\n",
            "775/775 [==============================] - 38s 49ms/step - loss: 0.1448 - accuracy: 0.9508 - val_loss: 0.1280 - val_accuracy: 0.9551 - lr: 1.2500e-04\n",
            "Epoch 17/20\n",
            "775/775 [==============================] - 39s 50ms/step - loss: 0.1441 - accuracy: 0.9507 - val_loss: 0.1260 - val_accuracy: 0.9548 - lr: 1.2500e-04\n",
            "Epoch 18/20\n",
            "775/775 [==============================] - 38s 49ms/step - loss: 0.1436 - accuracy: 0.9513 - val_loss: 0.1268 - val_accuracy: 0.9552 - lr: 1.2500e-04\n",
            "Epoch 19/20\n",
            "775/775 [==============================] - 38s 49ms/step - loss: 0.1423 - accuracy: 0.9518 - val_loss: 0.1260 - val_accuracy: 0.9545 - lr: 1.2500e-04\n",
            "Epoch 20/20\n",
            "775/775 [==============================] - 38s 49ms/step - loss: 0.1427 - accuracy: 0.9515 - val_loss: 0.1254 - val_accuracy: 0.9555 - lr: 1.2500e-04\n",
            "\n",
            "fold  9 \n",
            "\n",
            "Epoch 1/20\n",
            "775/775 [==============================] - 40s 50ms/step - loss: 0.2845 - accuracy: 0.8985 - val_loss: 0.2057 - val_accuracy: 0.9289 - lr: 0.0010\n",
            "Epoch 2/20\n",
            "775/775 [==============================] - 38s 49ms/step - loss: 0.2055 - accuracy: 0.9275 - val_loss: 0.1773 - val_accuracy: 0.9393 - lr: 0.0010\n",
            "Epoch 3/20\n",
            "775/775 [==============================] - 38s 49ms/step - loss: 0.1881 - accuracy: 0.9348 - val_loss: 0.1735 - val_accuracy: 0.9395 - lr: 0.0010\n",
            "Epoch 4/20\n",
            "775/775 [==============================] - 38s 49ms/step - loss: 0.1788 - accuracy: 0.9377 - val_loss: 0.1597 - val_accuracy: 0.9429 - lr: 0.0010\n",
            "Epoch 5/20\n",
            "775/775 [==============================] - 38s 49ms/step - loss: 0.1727 - accuracy: 0.9407 - val_loss: 0.1529 - val_accuracy: 0.9497 - lr: 0.0010\n",
            "Epoch 6/20\n",
            "775/775 [==============================] - 38s 48ms/step - loss: 0.1632 - accuracy: 0.9436 - val_loss: 0.1472 - val_accuracy: 0.9501 - lr: 5.0000e-04\n",
            "Epoch 7/20\n",
            "775/775 [==============================] - 38s 49ms/step - loss: 0.1604 - accuracy: 0.9446 - val_loss: 0.1429 - val_accuracy: 0.9510 - lr: 5.0000e-04\n",
            "Epoch 8/20\n",
            "775/775 [==============================] - 38s 49ms/step - loss: 0.1584 - accuracy: 0.9456 - val_loss: 0.1432 - val_accuracy: 0.9503 - lr: 5.0000e-04\n",
            "Epoch 9/20\n",
            "775/775 [==============================] - 38s 49ms/step - loss: 0.1555 - accuracy: 0.9465 - val_loss: 0.1404 - val_accuracy: 0.9519 - lr: 5.0000e-04\n",
            "Epoch 10/20\n",
            "775/775 [==============================] - 38s 49ms/step - loss: 0.1542 - accuracy: 0.9470 - val_loss: 0.1390 - val_accuracy: 0.9526 - lr: 5.0000e-04\n",
            "Epoch 11/20\n",
            "775/775 [==============================] - 38s 49ms/step - loss: 0.1492 - accuracy: 0.9487 - val_loss: 0.1350 - val_accuracy: 0.9552 - lr: 2.5000e-04\n",
            "Epoch 12/20\n",
            "775/775 [==============================] - 38s 49ms/step - loss: 0.1494 - accuracy: 0.9484 - val_loss: 0.1358 - val_accuracy: 0.9553 - lr: 2.5000e-04\n",
            "Epoch 13/20\n",
            "775/775 [==============================] - 38s 49ms/step - loss: 0.1464 - accuracy: 0.9493 - val_loss: 0.1340 - val_accuracy: 0.9541 - lr: 2.5000e-04\n",
            "Epoch 14/20\n",
            "775/775 [==============================] - 38s 49ms/step - loss: 0.1466 - accuracy: 0.9492 - val_loss: 0.1322 - val_accuracy: 0.9538 - lr: 2.5000e-04\n",
            "Epoch 15/20\n",
            "775/775 [==============================] - 38s 49ms/step - loss: 0.1470 - accuracy: 0.9495 - val_loss: 0.1322 - val_accuracy: 0.9565 - lr: 2.5000e-04\n",
            "Epoch 16/20\n",
            "775/775 [==============================] - 38s 49ms/step - loss: 0.1430 - accuracy: 0.9510 - val_loss: 0.1298 - val_accuracy: 0.9568 - lr: 1.2500e-04\n",
            "Epoch 17/20\n",
            "775/775 [==============================] - 38s 49ms/step - loss: 0.1437 - accuracy: 0.9506 - val_loss: 0.1298 - val_accuracy: 0.9557 - lr: 1.2500e-04\n",
            "Epoch 18/20\n",
            "775/775 [==============================] - 38s 49ms/step - loss: 0.1419 - accuracy: 0.9513 - val_loss: 0.1321 - val_accuracy: 0.9560 - lr: 1.2500e-04\n",
            "Epoch 19/20\n",
            "775/775 [==============================] - 38s 49ms/step - loss: 0.1427 - accuracy: 0.9505 - val_loss: 0.1287 - val_accuracy: 0.9571 - lr: 1.2500e-04\n",
            "Epoch 20/20\n",
            "775/775 [==============================] - 38s 49ms/step - loss: 0.1420 - accuracy: 0.9516 - val_loss: 0.1292 - val_accuracy: 0.9571 - lr: 1.2500e-04\n",
            "\n",
            "fold  10 \n",
            "\n",
            "Epoch 1/20\n",
            "775/775 [==============================] - 40s 50ms/step - loss: 0.2789 - accuracy: 0.9001 - val_loss: 0.2104 - val_accuracy: 0.9261 - lr: 0.0010\n",
            "Epoch 2/20\n",
            "775/775 [==============================] - 38s 49ms/step - loss: 0.2009 - accuracy: 0.9297 - val_loss: 0.1703 - val_accuracy: 0.9407 - lr: 0.0010\n",
            "Epoch 3/20\n",
            "775/775 [==============================] - 38s 49ms/step - loss: 0.1807 - accuracy: 0.9370 - val_loss: 0.1587 - val_accuracy: 0.9446 - lr: 0.0010\n",
            "Epoch 4/20\n",
            "775/775 [==============================] - 38s 49ms/step - loss: 0.1737 - accuracy: 0.9405 - val_loss: 0.1566 - val_accuracy: 0.9462 - lr: 0.0010\n",
            "Epoch 5/20\n",
            "775/775 [==============================] - 38s 49ms/step - loss: 0.1680 - accuracy: 0.9421 - val_loss: 0.1484 - val_accuracy: 0.9491 - lr: 0.0010\n",
            "Epoch 6/20\n",
            "775/775 [==============================] - 38s 50ms/step - loss: 0.1579 - accuracy: 0.9461 - val_loss: 0.1447 - val_accuracy: 0.9508 - lr: 5.0000e-04\n",
            "Epoch 7/20\n",
            "775/775 [==============================] - 39s 51ms/step - loss: 0.1546 - accuracy: 0.9469 - val_loss: 0.1454 - val_accuracy: 0.9501 - lr: 5.0000e-04\n",
            "Epoch 8/20\n",
            "775/775 [==============================] - 39s 50ms/step - loss: 0.1532 - accuracy: 0.9467 - val_loss: 0.1378 - val_accuracy: 0.9531 - lr: 5.0000e-04\n",
            "Epoch 9/20\n",
            "775/775 [==============================] - 38s 50ms/step - loss: 0.1518 - accuracy: 0.9479 - val_loss: 0.1372 - val_accuracy: 0.9529 - lr: 5.0000e-04\n",
            "Epoch 10/20\n",
            "775/775 [==============================] - 39s 50ms/step - loss: 0.1495 - accuracy: 0.9483 - val_loss: 0.1374 - val_accuracy: 0.9523 - lr: 5.0000e-04\n",
            "Epoch 11/20\n",
            "775/775 [==============================] - 39s 50ms/step - loss: 0.1457 - accuracy: 0.9498 - val_loss: 0.1304 - val_accuracy: 0.9554 - lr: 2.5000e-04\n",
            "Epoch 12/20\n",
            "775/775 [==============================] - 39s 50ms/step - loss: 0.1438 - accuracy: 0.9505 - val_loss: 0.1303 - val_accuracy: 0.9561 - lr: 2.5000e-04\n",
            "Epoch 13/20\n",
            "775/775 [==============================] - 39s 50ms/step - loss: 0.1429 - accuracy: 0.9514 - val_loss: 0.1306 - val_accuracy: 0.9553 - lr: 2.5000e-04\n",
            "Epoch 14/20\n",
            "775/775 [==============================] - 39s 51ms/step - loss: 0.1425 - accuracy: 0.9511 - val_loss: 0.1280 - val_accuracy: 0.9571 - lr: 2.5000e-04\n",
            "Epoch 15/20\n",
            "775/775 [==============================] - 38s 49ms/step - loss: 0.1421 - accuracy: 0.9516 - val_loss: 0.1266 - val_accuracy: 0.9571 - lr: 2.5000e-04\n",
            "Epoch 16/20\n",
            "775/775 [==============================] - 39s 50ms/step - loss: 0.1391 - accuracy: 0.9527 - val_loss: 0.1263 - val_accuracy: 0.9576 - lr: 1.2500e-04\n",
            "Epoch 17/20\n",
            "775/775 [==============================] - 38s 49ms/step - loss: 0.1389 - accuracy: 0.9523 - val_loss: 0.1268 - val_accuracy: 0.9580 - lr: 1.2500e-04\n",
            "Epoch 18/20\n",
            "775/775 [==============================] - 38s 49ms/step - loss: 0.1392 - accuracy: 0.9528 - val_loss: 0.1260 - val_accuracy: 0.9583 - lr: 1.2500e-04\n",
            "Epoch 19/20\n",
            "775/775 [==============================] - 38s 50ms/step - loss: 0.1383 - accuracy: 0.9527 - val_loss: 0.1255 - val_accuracy: 0.9580 - lr: 1.2500e-04\n",
            "Epoch 20/20\n",
            "775/775 [==============================] - 38s 49ms/step - loss: 0.1382 - accuracy: 0.9525 - val_loss: 0.1247 - val_accuracy: 0.9584 - lr: 1.2500e-04\n"
          ]
        }
      ],
      "source": [
        "from keras.models import Sequential\n",
        "from keras.layers import Conv1D, AveragePooling1D, MaxPooling1D, Dense, Flatten, Dropout, BatchNormalization, ReLU\n",
        "from keras import regularizers\n",
        "from tensorflow.keras.optimizers import Adam\n",
        "import warnings\n",
        "\n",
        "warnings.filterwarnings('ignore')\n",
        "meanaccuracy = []\n",
        "meanloss = []\n",
        "count = 1\n",
        "\n",
        "for trainindices, testindices in splits.split(X, Y):\n",
        "    xtrain, ytrain, xtest, ytest = X.iloc[trainindices], Y.iloc[trainindices], X.iloc[testindices], Y.iloc[testindices]\n",
        "    x_train, y_train = np.array([x[i,:,:] for i in trainindices]), np.array([y[i] for i in trainindices])\n",
        "    x_test,  y_test  = np.array([x[i,:,:] for i in testindices]),  np.array([y[i] for i in testindices])\n",
        "\n",
        "    print(\"\\nfold \", count, \"\\n\")\n",
        "\n",
        "    nfeatures = 1\n",
        "    model = Sequential()\n",
        "    model.add(Conv1D(filters = 10, kernel_size = 4, input_shape = (x_train.shape[1], nfeatures), kernel_regularizer = regularizers.l2(1e-4), bias_regularizer = regularizers.l2(1e-4), \\\n",
        "                    activity_regularizer = regularizers.l2(1e-4)))\n",
        "    model.add(BatchNormalization())\n",
        "    model.add(ReLU())\n",
        "    model.add(AveragePooling1D(pool_size = 2, strides = 2))\n",
        "\n",
        "    model.add(Conv1D(filters = 15, kernel_size = 8))\n",
        "    model.add(BatchNormalization())\n",
        "    model.add(ReLU())\n",
        "    model.add(Dropout(0.5))\n",
        "    model.add(AveragePooling1D(pool_size = 2, strides = 2))\n",
        "\n",
        "    model.add(Conv1D(filters = 20, kernel_size = 8, kernel_regularizer = regularizers.l2(1e-4), bias_regularizer = regularizers.l2(1e-4), activity_regularizer = regularizers.l2(1e-4)))\n",
        "    model.add(BatchNormalization())\n",
        "    model.add(ReLU())\n",
        "    model.add(AveragePooling1D(pool_size = 2, strides = 2))\n",
        "\n",
        "    model.add(Flatten())\n",
        "    model.add(Dense(1, activation = 'sigmoid'))\n",
        "\n",
        "    model.compile(loss = 'binary_crossentropy', optimizer = Adam(1e-3), metrics = ['accuracy'])\n",
        "    history = model.fit(x_train, y_train, batch_size = 128, epochs = 20, verbose = 1, validation_data = (x_test, y_test), callbacks = [lrcallback, escallback])\n",
        "\n",
        "    meanaccuracy.append((history.history['accuracy'][-1], history.history['val_accuracy'][-1]))\n",
        "    meanloss.append((history.history['loss'][-1], history.history['val_loss'][-1]))\n",
        "    \n",
        "    getmetrics(count, \"train\", y_train, model.predict(x_train, verbose = 0))\n",
        "    getmetrics(count, \"test\",  y_test,  model.predict(x_test, verbose = 0))\n",
        "\n",
        "    count = count + 1"
      ]
    },
    {
      "cell_type": "code",
      "source": [
        "model.summary()"
      ],
      "metadata": {
        "colab": {
          "base_uri": "https://localhost:8080/"
        },
        "id": "COLkWAXfvh1r",
        "outputId": "9589567e-bcb1-4b1f-f323-5a00092d5736"
      },
      "execution_count": null,
      "outputs": [
        {
          "output_type": "stream",
          "name": "stdout",
          "text": [
            "Model: \"sequential_9\"\n",
            "_________________________________________________________________\n",
            " Layer (type)                Output Shape              Param #   \n",
            "=================================================================\n",
            " conv1d_27 (Conv1D)          (None, 253, 10)           50        \n",
            "                                                                 \n",
            " batch_normalization_27 (Bat  (None, 253, 10)          40        \n",
            " chNormalization)                                                \n",
            "                                                                 \n",
            " re_lu_27 (ReLU)             (None, 253, 10)           0         \n",
            "                                                                 \n",
            " average_pooling1d_27 (Avera  (None, 126, 10)          0         \n",
            " gePooling1D)                                                    \n",
            "                                                                 \n",
            " conv1d_28 (Conv1D)          (None, 119, 15)           1215      \n",
            "                                                                 \n",
            " batch_normalization_28 (Bat  (None, 119, 15)          60        \n",
            " chNormalization)                                                \n",
            "                                                                 \n",
            " re_lu_28 (ReLU)             (None, 119, 15)           0         \n",
            "                                                                 \n",
            " dropout_9 (Dropout)         (None, 119, 15)           0         \n",
            "                                                                 \n",
            " average_pooling1d_28 (Avera  (None, 59, 15)           0         \n",
            " gePooling1D)                                                    \n",
            "                                                                 \n",
            " conv1d_29 (Conv1D)          (None, 52, 20)            2420      \n",
            "                                                                 \n",
            " batch_normalization_29 (Bat  (None, 52, 20)           80        \n",
            " chNormalization)                                                \n",
            "                                                                 \n",
            " re_lu_29 (ReLU)             (None, 52, 20)            0         \n",
            "                                                                 \n",
            " average_pooling1d_29 (Avera  (None, 26, 20)           0         \n",
            " gePooling1D)                                                    \n",
            "                                                                 \n",
            " flatten_9 (Flatten)         (None, 520)               0         \n",
            "                                                                 \n",
            " dense_9 (Dense)             (None, 1)                 521       \n",
            "                                                                 \n",
            "=================================================================\n",
            "Total params: 4,386\n",
            "Trainable params: 4,296\n",
            "Non-trainable params: 90\n",
            "_________________________________________________________________\n"
          ]
        }
      ]
    },
    {
      "cell_type": "code",
      "execution_count": null,
      "metadata": {
        "colab": {
          "base_uri": "https://localhost:8080/"
        },
        "id": "FVHUQMQJxLOz",
        "outputId": "4778af06-bab8-4312-f89b-a39928abfdad"
      },
      "outputs": [
        {
          "output_type": "stream",
          "name": "stdout",
          "text": [
            "performance metrics for training & testing data\n",
            "\n",
            "+------+---------------+----------+--------+-----------+----------+--------------------+\n",
            "| fold | train or test | accuracy | recall | precision | F1 score |    specificity     |\n",
            "+------+---------------+----------+--------+-----------+----------+--------------------+\n",
            "|  1   |     train     |  0.959   | 0.945  |   0.972   |  0.958   | 0.9723710006669766 |\n",
            "|  1   |      test     |  0.955   | 0.937  |   0.971   |  0.954   | 0.9721716987995634 |\n",
            "|  2   |     train     |  0.957   | 0.939  |   0.973   |  0.956   | 0.9743315075691735 |\n",
            "|  2   |      test     |  0.955   | 0.943  |   0.968   |  0.955   | 0.9683521280465623 |\n",
            "|  3   |     train     |  0.959   | 0.942  |   0.975   |  0.958   | 0.9754027123714049 |\n",
            "|  3   |      test     |  0.955   | 0.936  |   0.974   |  0.955   | 0.9747180793015642 |\n",
            "|  4   |     train     |  0.957   | 0.939  |   0.975   |  0.957   | 0.9757665177759363 |\n",
            "|  4   |      test     |  0.955   | 0.938  |   0.971   |  0.954   | 0.971989814477992  |\n",
            "|  5   |     train     |  0.958   | 0.943  |   0.973   |  0.958   | 0.9734624168805708 |\n",
            "|  5   |      test     |  0.957   | 0.942  |   0.971   |  0.956   | 0.971626045834849  |\n",
            "|  6   |     train     |  0.958   |  0.94  |   0.975   |  0.957   | 0.975807429564655  |\n",
            "|  6   |      test     |  0.958   | 0.939  |   0.977   |  0.958   | 0.9778060760414772 |\n",
            "|  7   |     train     |  0.958   | 0.937  |   0.979   |  0.958   | 0.9794454100812482 |\n",
            "|  7   |      test     |  0.955   | 0.935  |   0.975   |  0.955   | 0.9756230671275241 |\n",
            "|  8   |     train     |  0.958   | 0.951  |   0.965   |  0.958   | 0.9649541210234852 |\n",
            "|  8   |      test     |  0.956   |  0.95  |   0.961   |  0.955   | 0.9614335091868291 |\n",
            "|  9   |     train     |  0.957   | 0.939  |   0.975   |  0.957   | 0.9753829985043858 |\n",
            "|  9   |      test     |  0.957   | 0.937  |   0.976   |  0.956   | 0.9770784064034929 |\n",
            "|  10  |     train     |  0.959   |  0.95  |   0.968   |  0.959   | 0.9681878814826792 |\n",
            "|  10  |      test     |  0.958   | 0.946  |    0.97   |  0.958   | 0.9710751318901218 |\n",
            "+------+---------------+----------+--------+-----------+----------+--------------------+\n",
            "average accuracy:  0.951820582151413\n",
            "average validation accuracy:  0.9562062919139862\n",
            "average loss:  0.1409863755106926\n",
            "average validation loss:  0.1283084601163864\n",
            "average recall: 0.9402999999999999\n",
            "average precision: 0.9714\n"
          ]
        }
      ],
      "source": [
        "print(\"performance metrics for training & testing data\\n\")\n",
        "print(modelmetrics)\n",
        "\n",
        "accuracy, validationaccuracy = np.mean(meanaccuracy, axis = 0)\n",
        "loss, validationloss = np.mean(meanloss, axis = 0)\n",
        "\n",
        "print(\"average accuracy: \", accuracy)\n",
        "print(\"average validation accuracy: \", validationaccuracy)\n",
        "print(\"average loss: \", loss)\n",
        "print(\"average validation loss: \", validationloss)\n",
        "print(\"average recall:\", np.mean(meanrecall, axis = 0))\n",
        "print(\"average precision:\", np.mean(meanprecision, axis = 0))"
      ]
    },
    {
      "cell_type": "markdown",
      "metadata": {
        "id": "Yb26cl9V0P4C"
      },
      "source": [
        "## Splitting on Patients"
      ]
    },
    {
      "cell_type": "code",
      "execution_count": null,
      "metadata": {
        "id": "3ndx8BZj0Ici"
      },
      "outputs": [],
      "source": [
        "modelmetrics = PrettyTable()\n",
        "modelmetrics.field_names = [\"fold\", \"train or test\", \"accuracy\", \"recall\", \"precision\", \"F1 score\", \"specificity\"] \n",
        "meanprecision = []\n",
        "meanrecall = []"
      ]
    },
    {
      "cell_type": "code",
      "execution_count": null,
      "metadata": {
        "id": "UflvefW60cHh"
      },
      "outputs": [],
      "source": [
        "import random\n",
        "\n",
        "groups = [df for _, df in subjectmap.groupby(['database','patient'])]\n",
        "random.Random(36).shuffle(groups)\n",
        "subjectmap = pd.concat(groups)"
      ]
    },
    {
      "cell_type": "code",
      "execution_count": null,
      "metadata": {
        "id": "plqkMo6y0hWI"
      },
      "outputs": [],
      "source": [
        "from sklearn.model_selection import StratifiedGroupKFold\n",
        "\n",
        "splits = StratifiedGroupKFold(n_splits = 10)\n",
        "X = subjectmap[['start', 'end', 'patient']]\n",
        "Y = subjectmap['category']\n",
        "GROUPS = subjectmap['patient']"
      ]
    },
    {
      "cell_type": "code",
      "execution_count": null,
      "metadata": {
        "colab": {
          "base_uri": "https://localhost:8080/"
        },
        "id": "L7rBnoJl0joB",
        "outputId": "8e86cc84-b190-4e87-f4cf-f538d0019231"
      },
      "outputs": [
        {
          "output_type": "stream",
          "name": "stdout",
          "text": [
            "\n",
            "fold  1 \n",
            "\n",
            "Epoch 1/20\n",
            "777/777 [==============================] - 40s 50ms/step - loss: 0.3020 - accuracy: 0.8982 - val_loss: 0.2774 - val_accuracy: 0.8664 - lr: 0.0010\n",
            "Epoch 2/20\n",
            "777/777 [==============================] - 37s 47ms/step - loss: 0.2143 - accuracy: 0.9264 - val_loss: 0.2823 - val_accuracy: 0.9026 - lr: 0.0010\n",
            "Epoch 3/20\n",
            "777/777 [==============================] - 37s 48ms/step - loss: 0.1935 - accuracy: 0.9336 - val_loss: 0.2498 - val_accuracy: 0.9168 - lr: 0.0010\n",
            "Epoch 4/20\n",
            "777/777 [==============================] - 37s 48ms/step - loss: 0.1797 - accuracy: 0.9377 - val_loss: 0.3075 - val_accuracy: 0.8464 - lr: 0.0010\n",
            "Epoch 5/20\n",
            "777/777 [==============================] - 37s 48ms/step - loss: 0.1723 - accuracy: 0.9407 - val_loss: 0.2517 - val_accuracy: 0.9115 - lr: 0.0010\n",
            "Epoch 6/20\n",
            "777/777 [==============================] - 37s 48ms/step - loss: 0.1593 - accuracy: 0.9461 - val_loss: 0.2268 - val_accuracy: 0.9146 - lr: 5.0000e-04\n",
            "Epoch 7/20\n",
            "777/777 [==============================] - 37s 48ms/step - loss: 0.1553 - accuracy: 0.9472 - val_loss: 0.2402 - val_accuracy: 0.9129 - lr: 5.0000e-04\n",
            "Epoch 8/20\n",
            "777/777 [==============================] - 37s 48ms/step - loss: 0.1531 - accuracy: 0.9478 - val_loss: 0.2227 - val_accuracy: 0.9218 - lr: 5.0000e-04\n",
            "Epoch 9/20\n",
            "777/777 [==============================] - 37s 48ms/step - loss: 0.1526 - accuracy: 0.9472 - val_loss: 0.2198 - val_accuracy: 0.9225 - lr: 5.0000e-04\n",
            "Epoch 10/20\n",
            "777/777 [==============================] - 37s 48ms/step - loss: 0.1496 - accuracy: 0.9498 - val_loss: 0.2282 - val_accuracy: 0.9183 - lr: 5.0000e-04\n",
            "Epoch 11/20\n",
            "777/777 [==============================] - 37s 48ms/step - loss: 0.1443 - accuracy: 0.9512 - val_loss: 0.2371 - val_accuracy: 0.9191 - lr: 2.5000e-04\n",
            "Epoch 12/20\n",
            "777/777 [==============================] - 37s 48ms/step - loss: 0.1435 - accuracy: 0.9508 - val_loss: 0.2412 - val_accuracy: 0.9187 - lr: 2.5000e-04\n",
            "Epoch 13/20\n",
            "777/777 [==============================] - 37s 48ms/step - loss: 0.1424 - accuracy: 0.9519 - val_loss: 0.2376 - val_accuracy: 0.9203 - lr: 2.5000e-04\n",
            "Epoch 14/20\n",
            "777/777 [==============================] - 37s 48ms/step - loss: 0.1412 - accuracy: 0.9518 - val_loss: 0.2276 - val_accuracy: 0.9203 - lr: 2.5000e-04\n",
            "Epoch 15/20\n",
            "777/777 [==============================] - 37s 48ms/step - loss: 0.1395 - accuracy: 0.9524 - val_loss: 0.2448 - val_accuracy: 0.9176 - lr: 2.5000e-04\n",
            "Epoch 16/20\n",
            "777/777 [==============================] - 37s 48ms/step - loss: 0.1388 - accuracy: 0.9528 - val_loss: 0.2412 - val_accuracy: 0.9195 - lr: 1.2500e-04\n",
            "\n",
            "fold  2 \n",
            "\n",
            "Epoch 1/20\n",
            "775/775 [==============================] - 39s 49ms/step - loss: 0.2949 - accuracy: 0.8950 - val_loss: 0.2367 - val_accuracy: 0.9177 - lr: 0.0010\n",
            "Epoch 2/20\n",
            "775/775 [==============================] - 38s 49ms/step - loss: 0.2122 - accuracy: 0.9261 - val_loss: 0.1999 - val_accuracy: 0.9317 - lr: 0.0010\n",
            "Epoch 3/20\n",
            "775/775 [==============================] - 39s 51ms/step - loss: 0.1924 - accuracy: 0.9326 - val_loss: 0.2320 - val_accuracy: 0.9126 - lr: 0.0010\n",
            "Epoch 4/20\n",
            "775/775 [==============================] - 39s 51ms/step - loss: 0.1827 - accuracy: 0.9368 - val_loss: 0.1822 - val_accuracy: 0.9361 - lr: 0.0010\n",
            "Epoch 5/20\n",
            "775/775 [==============================] - 39s 51ms/step - loss: 0.1749 - accuracy: 0.9400 - val_loss: 0.2239 - val_accuracy: 0.9191 - lr: 0.0010\n",
            "Epoch 6/20\n",
            "775/775 [==============================] - 40s 51ms/step - loss: 0.1657 - accuracy: 0.9430 - val_loss: 0.1836 - val_accuracy: 0.9335 - lr: 5.0000e-04\n",
            "Epoch 7/20\n",
            "775/775 [==============================] - 39s 50ms/step - loss: 0.1630 - accuracy: 0.9441 - val_loss: 0.1931 - val_accuracy: 0.9080 - lr: 5.0000e-04\n",
            "Epoch 8/20\n",
            "775/775 [==============================] - 39s 50ms/step - loss: 0.1610 - accuracy: 0.9447 - val_loss: 0.1925 - val_accuracy: 0.9312 - lr: 5.0000e-04\n",
            "Epoch 9/20\n",
            "775/775 [==============================] - 39s 51ms/step - loss: 0.1589 - accuracy: 0.9457 - val_loss: 0.1857 - val_accuracy: 0.9316 - lr: 5.0000e-04\n",
            "Epoch 10/20\n",
            "775/775 [==============================] - 40s 52ms/step - loss: 0.1575 - accuracy: 0.9456 - val_loss: 0.1689 - val_accuracy: 0.9311 - lr: 5.0000e-04\n",
            "Epoch 11/20\n",
            "775/775 [==============================] - 40s 51ms/step - loss: 0.1529 - accuracy: 0.9479 - val_loss: 0.1666 - val_accuracy: 0.9306 - lr: 2.5000e-04\n",
            "\n",
            "fold  3 \n",
            "\n",
            "Epoch 1/20\n",
            "776/776 [==============================] - 41s 51ms/step - loss: 0.2959 - accuracy: 0.8992 - val_loss: 0.2218 - val_accuracy: 0.9127 - lr: 0.0010\n",
            "Epoch 2/20\n",
            "776/776 [==============================] - 38s 49ms/step - loss: 0.2128 - accuracy: 0.9264 - val_loss: 0.1949 - val_accuracy: 0.9338 - lr: 0.0010\n",
            "Epoch 3/20\n",
            "776/776 [==============================] - 38s 49ms/step - loss: 0.1871 - accuracy: 0.9351 - val_loss: 0.1969 - val_accuracy: 0.9305 - lr: 0.0010\n",
            "Epoch 4/20\n",
            "776/776 [==============================] - 38s 49ms/step - loss: 0.1761 - accuracy: 0.9393 - val_loss: 0.2441 - val_accuracy: 0.9031 - lr: 0.0010\n",
            "Epoch 5/20\n",
            "776/776 [==============================] - 38s 48ms/step - loss: 0.1696 - accuracy: 0.9426 - val_loss: 0.1680 - val_accuracy: 0.9426 - lr: 0.0010\n",
            "Epoch 6/20\n",
            "776/776 [==============================] - 38s 49ms/step - loss: 0.1584 - accuracy: 0.9462 - val_loss: 0.1756 - val_accuracy: 0.9391 - lr: 5.0000e-04\n",
            "Epoch 7/20\n",
            "776/776 [==============================] - 38s 49ms/step - loss: 0.1553 - accuracy: 0.9467 - val_loss: 0.1868 - val_accuracy: 0.9376 - lr: 5.0000e-04\n",
            "Epoch 8/20\n",
            "776/776 [==============================] - 38s 49ms/step - loss: 0.1534 - accuracy: 0.9477 - val_loss: 0.1858 - val_accuracy: 0.9353 - lr: 5.0000e-04\n",
            "Epoch 9/20\n",
            "776/776 [==============================] - 38s 49ms/step - loss: 0.1528 - accuracy: 0.9479 - val_loss: 0.1869 - val_accuracy: 0.9308 - lr: 5.0000e-04\n",
            "Epoch 10/20\n",
            "776/776 [==============================] - 38s 49ms/step - loss: 0.1505 - accuracy: 0.9486 - val_loss: 0.1790 - val_accuracy: 0.9383 - lr: 5.0000e-04\n",
            "Epoch 11/20\n",
            "776/776 [==============================] - 38s 49ms/step - loss: 0.1462 - accuracy: 0.9503 - val_loss: 0.1702 - val_accuracy: 0.9383 - lr: 2.5000e-04\n",
            "Epoch 12/20\n",
            "776/776 [==============================] - 38s 49ms/step - loss: 0.1447 - accuracy: 0.9509 - val_loss: 0.1735 - val_accuracy: 0.9382 - lr: 2.5000e-04\n",
            "\n",
            "fold  4 \n",
            "\n",
            "Epoch 1/20\n",
            "779/779 [==============================] - 41s 50ms/step - loss: 0.2935 - accuracy: 0.8988 - val_loss: 0.3203 - val_accuracy: 0.8862 - lr: 0.0010\n",
            "Epoch 2/20\n",
            "779/779 [==============================] - 39s 51ms/step - loss: 0.2010 - accuracy: 0.9309 - val_loss: 0.3371 - val_accuracy: 0.8839 - lr: 0.0010\n",
            "Epoch 3/20\n",
            "779/779 [==============================] - 39s 51ms/step - loss: 0.1805 - accuracy: 0.9384 - val_loss: 0.3000 - val_accuracy: 0.8912 - lr: 0.0010\n",
            "Epoch 4/20\n",
            "779/779 [==============================] - 40s 51ms/step - loss: 0.1711 - accuracy: 0.9421 - val_loss: 0.2973 - val_accuracy: 0.8901 - lr: 0.0010\n",
            "Epoch 5/20\n",
            "779/779 [==============================] - 40s 51ms/step - loss: 0.1643 - accuracy: 0.9455 - val_loss: 0.3094 - val_accuracy: 0.8912 - lr: 0.0010\n",
            "Epoch 6/20\n",
            "779/779 [==============================] - 40s 51ms/step - loss: 0.1546 - accuracy: 0.9480 - val_loss: 0.3095 - val_accuracy: 0.8916 - lr: 5.0000e-04\n",
            "Epoch 7/20\n",
            "779/779 [==============================] - 40s 51ms/step - loss: 0.1515 - accuracy: 0.9494 - val_loss: 0.3174 - val_accuracy: 0.8939 - lr: 5.0000e-04\n",
            "Epoch 8/20\n",
            "779/779 [==============================] - 40s 51ms/step - loss: 0.1489 - accuracy: 0.9498 - val_loss: 0.3044 - val_accuracy: 0.8940 - lr: 5.0000e-04\n",
            "Epoch 9/20\n",
            "779/779 [==============================] - 40s 51ms/step - loss: 0.1468 - accuracy: 0.9505 - val_loss: 0.3014 - val_accuracy: 0.8969 - lr: 5.0000e-04\n",
            "Epoch 10/20\n",
            "779/779 [==============================] - 40s 51ms/step - loss: 0.1446 - accuracy: 0.9512 - val_loss: 0.3156 - val_accuracy: 0.8908 - lr: 5.0000e-04\n",
            "Epoch 11/20\n",
            "779/779 [==============================] - 40s 51ms/step - loss: 0.1408 - accuracy: 0.9527 - val_loss: 0.3033 - val_accuracy: 0.8930 - lr: 2.5000e-04\n",
            "Epoch 12/20\n",
            "779/779 [==============================] - 40s 51ms/step - loss: 0.1395 - accuracy: 0.9525 - val_loss: 0.2986 - val_accuracy: 0.8956 - lr: 2.5000e-04\n",
            "Epoch 13/20\n",
            "779/779 [==============================] - 41s 52ms/step - loss: 0.1384 - accuracy: 0.9537 - val_loss: 0.2857 - val_accuracy: 0.8974 - lr: 2.5000e-04\n",
            "Epoch 14/20\n",
            "779/779 [==============================] - 40s 51ms/step - loss: 0.1366 - accuracy: 0.9538 - val_loss: 0.2851 - val_accuracy: 0.8983 - lr: 2.5000e-04\n",
            "Epoch 15/20\n",
            "779/779 [==============================] - 40s 51ms/step - loss: 0.1364 - accuracy: 0.9545 - val_loss: 0.3269 - val_accuracy: 0.8921 - lr: 2.5000e-04\n",
            "Epoch 16/20\n",
            "779/779 [==============================] - 40s 51ms/step - loss: 0.1340 - accuracy: 0.9549 - val_loss: 0.3095 - val_accuracy: 0.8921 - lr: 1.2500e-04\n",
            "Epoch 17/20\n",
            "779/779 [==============================] - 39s 51ms/step - loss: 0.1345 - accuracy: 0.9549 - val_loss: 0.3015 - val_accuracy: 0.8937 - lr: 1.2500e-04\n",
            "Epoch 18/20\n",
            "779/779 [==============================] - 40s 51ms/step - loss: 0.1327 - accuracy: 0.9552 - val_loss: 0.3164 - val_accuracy: 0.8920 - lr: 1.2500e-04\n",
            "Epoch 19/20\n",
            "779/779 [==============================] - 40s 51ms/step - loss: 0.1327 - accuracy: 0.9557 - val_loss: 0.3010 - val_accuracy: 0.8954 - lr: 1.2500e-04\n",
            "Epoch 20/20\n",
            "779/779 [==============================] - 39s 50ms/step - loss: 0.1324 - accuracy: 0.9555 - val_loss: 0.2964 - val_accuracy: 0.8939 - lr: 1.2500e-04\n",
            "\n",
            "fold  5 \n",
            "\n",
            "Epoch 1/20\n",
            "774/774 [==============================] - 40s 49ms/step - loss: 0.2806 - accuracy: 0.9022 - val_loss: 0.3127 - val_accuracy: 0.8703 - lr: 0.0010\n",
            "Epoch 2/20\n",
            "774/774 [==============================] - 38s 49ms/step - loss: 0.2008 - accuracy: 0.9303 - val_loss: 0.2945 - val_accuracy: 0.8715 - lr: 0.0010\n",
            "Epoch 3/20\n",
            "774/774 [==============================] - 38s 49ms/step - loss: 0.1828 - accuracy: 0.9360 - val_loss: 0.2776 - val_accuracy: 0.8783 - lr: 0.0010\n",
            "Epoch 4/20\n",
            "774/774 [==============================] - 38s 49ms/step - loss: 0.1729 - accuracy: 0.9401 - val_loss: 0.2505 - val_accuracy: 0.8930 - lr: 0.0010\n",
            "Epoch 5/20\n",
            "774/774 [==============================] - 38s 49ms/step - loss: 0.1676 - accuracy: 0.9418 - val_loss: 0.2405 - val_accuracy: 0.8976 - lr: 0.0010\n",
            "Epoch 6/20\n",
            "774/774 [==============================] - 38s 49ms/step - loss: 0.1587 - accuracy: 0.9447 - val_loss: 0.2612 - val_accuracy: 0.8793 - lr: 5.0000e-04\n",
            "Epoch 7/20\n",
            "774/774 [==============================] - 38s 49ms/step - loss: 0.1559 - accuracy: 0.9457 - val_loss: 0.2487 - val_accuracy: 0.8919 - lr: 5.0000e-04\n",
            "Epoch 8/20\n",
            "774/774 [==============================] - 38s 49ms/step - loss: 0.1529 - accuracy: 0.9464 - val_loss: 0.2487 - val_accuracy: 0.8959 - lr: 5.0000e-04\n",
            "Epoch 9/20\n",
            "774/774 [==============================] - 38s 49ms/step - loss: 0.1526 - accuracy: 0.9470 - val_loss: 0.2715 - val_accuracy: 0.8842 - lr: 5.0000e-04\n",
            "Epoch 10/20\n",
            "774/774 [==============================] - 38s 49ms/step - loss: 0.1498 - accuracy: 0.9474 - val_loss: 0.2101 - val_accuracy: 0.9157 - lr: 5.0000e-04\n",
            "Epoch 11/20\n",
            "774/774 [==============================] - 38s 50ms/step - loss: 0.1459 - accuracy: 0.9497 - val_loss: 0.2292 - val_accuracy: 0.9013 - lr: 2.5000e-04\n",
            "Epoch 12/20\n",
            "774/774 [==============================] - 38s 49ms/step - loss: 0.1443 - accuracy: 0.9498 - val_loss: 0.2210 - val_accuracy: 0.9057 - lr: 2.5000e-04\n",
            "Epoch 13/20\n",
            "774/774 [==============================] - 38s 50ms/step - loss: 0.1436 - accuracy: 0.9503 - val_loss: 0.2297 - val_accuracy: 0.8987 - lr: 2.5000e-04\n",
            "Epoch 14/20\n",
            "774/774 [==============================] - 38s 49ms/step - loss: 0.1442 - accuracy: 0.9497 - val_loss: 0.2315 - val_accuracy: 0.9001 - lr: 2.5000e-04\n",
            "Epoch 15/20\n",
            "774/774 [==============================] - 38s 49ms/step - loss: 0.1410 - accuracy: 0.9517 - val_loss: 0.2205 - val_accuracy: 0.9105 - lr: 2.5000e-04\n",
            "Epoch 16/20\n",
            "774/774 [==============================] - 38s 49ms/step - loss: 0.1405 - accuracy: 0.9510 - val_loss: 0.1982 - val_accuracy: 0.9214 - lr: 1.2500e-04\n",
            "Epoch 17/20\n",
            "774/774 [==============================] - 39s 50ms/step - loss: 0.1392 - accuracy: 0.9520 - val_loss: 0.2364 - val_accuracy: 0.8937 - lr: 1.2500e-04\n",
            "Epoch 18/20\n",
            "774/774 [==============================] - 38s 49ms/step - loss: 0.1399 - accuracy: 0.9513 - val_loss: 0.2267 - val_accuracy: 0.9011 - lr: 1.2500e-04\n",
            "Epoch 19/20\n",
            "774/774 [==============================] - 38s 50ms/step - loss: 0.1377 - accuracy: 0.9522 - val_loss: 0.2265 - val_accuracy: 0.9002 - lr: 1.2500e-04\n",
            "Epoch 20/20\n",
            "774/774 [==============================] - 38s 50ms/step - loss: 0.1379 - accuracy: 0.9527 - val_loss: 0.2103 - val_accuracy: 0.9139 - lr: 1.2500e-04\n",
            "\n",
            "fold  6 \n",
            "\n",
            "Epoch 1/20\n",
            "772/772 [==============================] - 40s 50ms/step - loss: 0.2726 - accuracy: 0.9042 - val_loss: 0.5082 - val_accuracy: 0.8356 - lr: 0.0010\n",
            "Epoch 2/20\n",
            "772/772 [==============================] - 38s 50ms/step - loss: 0.1946 - accuracy: 0.9340 - val_loss: 0.4616 - val_accuracy: 0.8616 - lr: 0.0010\n",
            "Epoch 3/20\n",
            "772/772 [==============================] - 38s 49ms/step - loss: 0.1772 - accuracy: 0.9409 - val_loss: 0.4804 - val_accuracy: 0.8678 - lr: 0.0010\n",
            "Epoch 4/20\n",
            "772/772 [==============================] - 38s 49ms/step - loss: 0.1671 - accuracy: 0.9438 - val_loss: 0.4276 - val_accuracy: 0.8741 - lr: 0.0010\n",
            "Epoch 5/20\n",
            "772/772 [==============================] - 38s 50ms/step - loss: 0.1600 - accuracy: 0.9463 - val_loss: 0.4712 - val_accuracy: 0.8729 - lr: 0.0010\n",
            "Epoch 6/20\n",
            "772/772 [==============================] - 38s 50ms/step - loss: 0.1519 - accuracy: 0.9487 - val_loss: 0.4445 - val_accuracy: 0.8742 - lr: 5.0000e-04\n",
            "Epoch 7/20\n",
            "772/772 [==============================] - 38s 49ms/step - loss: 0.1479 - accuracy: 0.9507 - val_loss: 0.5071 - val_accuracy: 0.8695 - lr: 5.0000e-04\n",
            "Epoch 8/20\n",
            "772/772 [==============================] - 39s 50ms/step - loss: 0.1450 - accuracy: 0.9511 - val_loss: 0.4755 - val_accuracy: 0.8707 - lr: 5.0000e-04\n",
            "Epoch 9/20\n",
            "772/772 [==============================] - 38s 49ms/step - loss: 0.1436 - accuracy: 0.9523 - val_loss: 0.4689 - val_accuracy: 0.8753 - lr: 5.0000e-04\n",
            "Epoch 10/20\n",
            "772/772 [==============================] - 38s 49ms/step - loss: 0.1427 - accuracy: 0.9522 - val_loss: 0.5084 - val_accuracy: 0.8635 - lr: 5.0000e-04\n",
            "Epoch 11/20\n",
            "772/772 [==============================] - 38s 49ms/step - loss: 0.1379 - accuracy: 0.9540 - val_loss: 0.4601 - val_accuracy: 0.8750 - lr: 2.5000e-04\n",
            "Epoch 12/20\n",
            "772/772 [==============================] - 38s 49ms/step - loss: 0.1382 - accuracy: 0.9535 - val_loss: 0.4728 - val_accuracy: 0.8726 - lr: 2.5000e-04\n",
            "Epoch 13/20\n",
            "772/772 [==============================] - 38s 49ms/step - loss: 0.1369 - accuracy: 0.9539 - val_loss: 0.4894 - val_accuracy: 0.8730 - lr: 2.5000e-04\n",
            "Epoch 14/20\n",
            "772/772 [==============================] - 38s 50ms/step - loss: 0.1357 - accuracy: 0.9552 - val_loss: 0.5468 - val_accuracy: 0.8656 - lr: 2.5000e-04\n",
            "Epoch 15/20\n",
            "772/772 [==============================] - 38s 49ms/step - loss: 0.1345 - accuracy: 0.9549 - val_loss: 0.5282 - val_accuracy: 0.8700 - lr: 2.5000e-04\n",
            "Epoch 16/20\n",
            "772/772 [==============================] - 38s 50ms/step - loss: 0.1335 - accuracy: 0.9550 - val_loss: 0.4843 - val_accuracy: 0.8734 - lr: 1.2500e-04\n",
            "\n",
            "fold  7 \n",
            "\n",
            "Epoch 1/20\n",
            "771/771 [==============================] - 42s 52ms/step - loss: 0.2899 - accuracy: 0.8984 - val_loss: 0.2003 - val_accuracy: 0.9358 - lr: 0.0010\n",
            "Epoch 2/20\n",
            "771/771 [==============================] - 39s 51ms/step - loss: 0.2066 - accuracy: 0.9276 - val_loss: 0.1864 - val_accuracy: 0.9331 - lr: 0.0010\n",
            "Epoch 3/20\n",
            "771/771 [==============================] - 40s 52ms/step - loss: 0.1876 - accuracy: 0.9336 - val_loss: 0.2022 - val_accuracy: 0.9274 - lr: 0.0010\n",
            "Epoch 4/20\n",
            "771/771 [==============================] - 39s 51ms/step - loss: 0.1760 - accuracy: 0.9384 - val_loss: 0.1866 - val_accuracy: 0.9382 - lr: 0.0010\n",
            "Epoch 5/20\n",
            "771/771 [==============================] - 40s 51ms/step - loss: 0.1675 - accuracy: 0.9412 - val_loss: 0.1758 - val_accuracy: 0.9418 - lr: 0.0010\n",
            "Epoch 6/20\n",
            "771/771 [==============================] - 40s 51ms/step - loss: 0.1585 - accuracy: 0.9448 - val_loss: 0.1713 - val_accuracy: 0.9422 - lr: 5.0000e-04\n",
            "Epoch 7/20\n",
            "771/771 [==============================] - 39s 51ms/step - loss: 0.1547 - accuracy: 0.9457 - val_loss: 0.1639 - val_accuracy: 0.9451 - lr: 5.0000e-04\n",
            "Epoch 8/20\n",
            "771/771 [==============================] - 39s 51ms/step - loss: 0.1528 - accuracy: 0.9466 - val_loss: 0.1656 - val_accuracy: 0.9440 - lr: 5.0000e-04\n",
            "Epoch 9/20\n",
            "771/771 [==============================] - 39s 51ms/step - loss: 0.1518 - accuracy: 0.9473 - val_loss: 0.1662 - val_accuracy: 0.9451 - lr: 5.0000e-04\n",
            "Epoch 10/20\n",
            "771/771 [==============================] - 39s 51ms/step - loss: 0.1501 - accuracy: 0.9483 - val_loss: 0.1679 - val_accuracy: 0.9426 - lr: 5.0000e-04\n",
            "Epoch 11/20\n",
            "771/771 [==============================] - 39s 51ms/step - loss: 0.1444 - accuracy: 0.9503 - val_loss: 0.1616 - val_accuracy: 0.9445 - lr: 2.5000e-04\n",
            "Epoch 12/20\n",
            "771/771 [==============================] - 39s 51ms/step - loss: 0.1442 - accuracy: 0.9501 - val_loss: 0.1588 - val_accuracy: 0.9468 - lr: 2.5000e-04\n",
            "Epoch 13/20\n",
            "771/771 [==============================] - 39s 51ms/step - loss: 0.1434 - accuracy: 0.9503 - val_loss: 0.1631 - val_accuracy: 0.9451 - lr: 2.5000e-04\n",
            "Epoch 14/20\n",
            "771/771 [==============================] - 40s 51ms/step - loss: 0.1418 - accuracy: 0.9507 - val_loss: 0.1597 - val_accuracy: 0.9478 - lr: 2.5000e-04\n",
            "Epoch 15/20\n",
            "771/771 [==============================] - 39s 51ms/step - loss: 0.1403 - accuracy: 0.9516 - val_loss: 0.1673 - val_accuracy: 0.9451 - lr: 2.5000e-04\n",
            "Epoch 16/20\n",
            "771/771 [==============================] - 40s 52ms/step - loss: 0.1385 - accuracy: 0.9525 - val_loss: 0.1585 - val_accuracy: 0.9481 - lr: 1.2500e-04\n",
            "Epoch 17/20\n",
            "771/771 [==============================] - 39s 51ms/step - loss: 0.1374 - accuracy: 0.9523 - val_loss: 0.1609 - val_accuracy: 0.9464 - lr: 1.2500e-04\n",
            "Epoch 18/20\n",
            "771/771 [==============================] - 39s 51ms/step - loss: 0.1368 - accuracy: 0.9526 - val_loss: 0.1572 - val_accuracy: 0.9474 - lr: 1.2500e-04\n",
            "Epoch 19/20\n",
            "771/771 [==============================] - 39s 51ms/step - loss: 0.1372 - accuracy: 0.9525 - val_loss: 0.1579 - val_accuracy: 0.9475 - lr: 1.2500e-04\n",
            "Epoch 20/20\n",
            "771/771 [==============================] - 39s 50ms/step - loss: 0.1374 - accuracy: 0.9521 - val_loss: 0.1627 - val_accuracy: 0.9468 - lr: 1.2500e-04\n",
            "\n",
            "fold  8 \n",
            "\n",
            "Epoch 1/20\n",
            "778/778 [==============================] - 43s 52ms/step - loss: 0.2757 - accuracy: 0.9030 - val_loss: 0.2776 - val_accuracy: 0.8850 - lr: 0.0010\n",
            "Epoch 2/20\n",
            "778/778 [==============================] - 40s 51ms/step - loss: 0.1978 - accuracy: 0.9330 - val_loss: 0.2743 - val_accuracy: 0.9024 - lr: 0.0010\n",
            "Epoch 3/20\n",
            "778/778 [==============================] - 40s 52ms/step - loss: 0.1789 - accuracy: 0.9391 - val_loss: 0.3044 - val_accuracy: 0.8907 - lr: 0.0010\n",
            "Epoch 4/20\n",
            "778/778 [==============================] - 40s 52ms/step - loss: 0.1707 - accuracy: 0.9423 - val_loss: 0.2088 - val_accuracy: 0.9201 - lr: 0.0010\n",
            "Epoch 5/20\n",
            "778/778 [==============================] - 40s 51ms/step - loss: 0.1664 - accuracy: 0.9437 - val_loss: 0.1828 - val_accuracy: 0.9354 - lr: 0.0010\n",
            "Epoch 6/20\n",
            "778/778 [==============================] - 40s 52ms/step - loss: 0.1564 - accuracy: 0.9471 - val_loss: 0.2147 - val_accuracy: 0.9180 - lr: 5.0000e-04\n",
            "Epoch 7/20\n",
            "778/778 [==============================] - 40s 51ms/step - loss: 0.1538 - accuracy: 0.9483 - val_loss: 0.1833 - val_accuracy: 0.9327 - lr: 5.0000e-04\n",
            "Epoch 8/20\n",
            "778/778 [==============================] - 40s 51ms/step - loss: 0.1533 - accuracy: 0.9481 - val_loss: 0.1636 - val_accuracy: 0.9393 - lr: 5.0000e-04\n",
            "Epoch 9/20\n",
            "778/778 [==============================] - 40s 52ms/step - loss: 0.1514 - accuracy: 0.9482 - val_loss: 0.1972 - val_accuracy: 0.9287 - lr: 5.0000e-04\n",
            "Epoch 10/20\n",
            "778/778 [==============================] - 40s 51ms/step - loss: 0.1501 - accuracy: 0.9497 - val_loss: 0.1853 - val_accuracy: 0.9312 - lr: 5.0000e-04\n",
            "Epoch 11/20\n",
            "778/778 [==============================] - 40s 51ms/step - loss: 0.1455 - accuracy: 0.9511 - val_loss: 0.1883 - val_accuracy: 0.9325 - lr: 2.5000e-04\n",
            "Epoch 12/20\n",
            "778/778 [==============================] - 40s 51ms/step - loss: 0.1432 - accuracy: 0.9512 - val_loss: 0.1808 - val_accuracy: 0.9326 - lr: 2.5000e-04\n",
            "Epoch 13/20\n",
            "778/778 [==============================] - 40s 51ms/step - loss: 0.1436 - accuracy: 0.9519 - val_loss: 0.1676 - val_accuracy: 0.9384 - lr: 2.5000e-04\n",
            "Epoch 14/20\n",
            "778/778 [==============================] - 40s 51ms/step - loss: 0.1425 - accuracy: 0.9517 - val_loss: 0.1770 - val_accuracy: 0.9338 - lr: 2.5000e-04\n",
            "Epoch 15/20\n",
            "778/778 [==============================] - 40s 51ms/step - loss: 0.1423 - accuracy: 0.9524 - val_loss: 0.1975 - val_accuracy: 0.9287 - lr: 2.5000e-04\n",
            "\n",
            "fold  9 \n",
            "\n",
            "Epoch 1/20\n",
            "773/773 [==============================] - 43s 54ms/step - loss: 0.2985 - accuracy: 0.8967 - val_loss: 0.2874 - val_accuracy: 0.9115 - lr: 0.0010\n",
            "Epoch 2/20\n",
            "773/773 [==============================] - 41s 53ms/step - loss: 0.2134 - accuracy: 0.9234 - val_loss: 0.2860 - val_accuracy: 0.8820 - lr: 0.0010\n",
            "Epoch 3/20\n",
            "773/773 [==============================] - 43s 55ms/step - loss: 0.1941 - accuracy: 0.9313 - val_loss: 0.2340 - val_accuracy: 0.9382 - lr: 0.0010\n",
            "Epoch 4/20\n",
            "773/773 [==============================] - 42s 54ms/step - loss: 0.1829 - accuracy: 0.9355 - val_loss: 0.2426 - val_accuracy: 0.9289 - lr: 0.0010\n",
            "Epoch 5/20\n",
            "773/773 [==============================] - 43s 55ms/step - loss: 0.1779 - accuracy: 0.9368 - val_loss: 0.1790 - val_accuracy: 0.9556 - lr: 0.0010\n",
            "Epoch 6/20\n",
            "773/773 [==============================] - 42s 54ms/step - loss: 0.1683 - accuracy: 0.9418 - val_loss: 0.1851 - val_accuracy: 0.9481 - lr: 5.0000e-04\n",
            "Epoch 7/20\n",
            "773/773 [==============================] - 42s 54ms/step - loss: 0.1673 - accuracy: 0.9414 - val_loss: 0.1937 - val_accuracy: 0.9518 - lr: 5.0000e-04\n",
            "Epoch 8/20\n",
            "773/773 [==============================] - 43s 55ms/step - loss: 0.1640 - accuracy: 0.9434 - val_loss: 0.1618 - val_accuracy: 0.9638 - lr: 5.0000e-04\n",
            "Epoch 9/20\n",
            "773/773 [==============================] - 43s 55ms/step - loss: 0.1623 - accuracy: 0.9434 - val_loss: 0.1905 - val_accuracy: 0.9557 - lr: 5.0000e-04\n",
            "Epoch 10/20\n",
            "773/773 [==============================] - 43s 56ms/step - loss: 0.1595 - accuracy: 0.9444 - val_loss: 0.1643 - val_accuracy: 0.9632 - lr: 5.0000e-04\n",
            "Epoch 11/20\n",
            "773/773 [==============================] - 42s 55ms/step - loss: 0.1557 - accuracy: 0.9457 - val_loss: 0.1803 - val_accuracy: 0.9558 - lr: 2.5000e-04\n",
            "Epoch 12/20\n",
            "773/773 [==============================] - 42s 54ms/step - loss: 0.1553 - accuracy: 0.9460 - val_loss: 0.1679 - val_accuracy: 0.9620 - lr: 2.5000e-04\n",
            "Epoch 13/20\n",
            "773/773 [==============================] - 42s 55ms/step - loss: 0.1535 - accuracy: 0.9463 - val_loss: 0.1686 - val_accuracy: 0.9627 - lr: 2.5000e-04\n",
            "Epoch 14/20\n",
            "773/773 [==============================] - 43s 56ms/step - loss: 0.1528 - accuracy: 0.9469 - val_loss: 0.1616 - val_accuracy: 0.9603 - lr: 2.5000e-04\n",
            "Epoch 15/20\n",
            "773/773 [==============================] - 42s 54ms/step - loss: 0.1524 - accuracy: 0.9469 - val_loss: 0.1410 - val_accuracy: 0.9662 - lr: 2.5000e-04\n",
            "Epoch 16/20\n",
            "773/773 [==============================] - 42s 55ms/step - loss: 0.1499 - accuracy: 0.9476 - val_loss: 0.1548 - val_accuracy: 0.9657 - lr: 1.2500e-04\n",
            "Epoch 17/20\n",
            "773/773 [==============================] - 42s 54ms/step - loss: 0.1493 - accuracy: 0.9482 - val_loss: 0.1524 - val_accuracy: 0.9654 - lr: 1.2500e-04\n",
            "Epoch 18/20\n",
            "773/773 [==============================] - 42s 54ms/step - loss: 0.1486 - accuracy: 0.9486 - val_loss: 0.1492 - val_accuracy: 0.9668 - lr: 1.2500e-04\n",
            "Epoch 19/20\n",
            "773/773 [==============================] - 43s 55ms/step - loss: 0.1485 - accuracy: 0.9482 - val_loss: 0.1545 - val_accuracy: 0.9635 - lr: 1.2500e-04\n",
            "Epoch 20/20\n",
            "773/773 [==============================] - 42s 55ms/step - loss: 0.1472 - accuracy: 0.9483 - val_loss: 0.1573 - val_accuracy: 0.9659 - lr: 1.2500e-04\n",
            "\n",
            "fold  10 \n",
            "\n",
            "Epoch 1/20\n",
            "774/774 [==============================] - 41s 51ms/step - loss: 0.2919 - accuracy: 0.8970 - val_loss: 0.1808 - val_accuracy: 0.9514 - lr: 0.0010\n",
            "Epoch 2/20\n",
            "774/774 [==============================] - 39s 51ms/step - loss: 0.2155 - accuracy: 0.9244 - val_loss: 0.1978 - val_accuracy: 0.9403 - lr: 0.0010\n",
            "Epoch 3/20\n",
            "774/774 [==============================] - 40s 51ms/step - loss: 0.1969 - accuracy: 0.9312 - val_loss: 0.1822 - val_accuracy: 0.9360 - lr: 0.0010\n",
            "Epoch 4/20\n",
            "774/774 [==============================] - 39s 50ms/step - loss: 0.1843 - accuracy: 0.9353 - val_loss: 0.2086 - val_accuracy: 0.9283 - lr: 0.0010\n",
            "Epoch 5/20\n",
            "774/774 [==============================] - 40s 51ms/step - loss: 0.1756 - accuracy: 0.9384 - val_loss: 0.1567 - val_accuracy: 0.9508 - lr: 0.0010\n",
            "Epoch 6/20\n",
            "774/774 [==============================] - 39s 50ms/step - loss: 0.1662 - accuracy: 0.9426 - val_loss: 0.1418 - val_accuracy: 0.9579 - lr: 5.0000e-04\n",
            "Epoch 7/20\n",
            "774/774 [==============================] - 39s 51ms/step - loss: 0.1639 - accuracy: 0.9431 - val_loss: 0.1582 - val_accuracy: 0.9516 - lr: 5.0000e-04\n",
            "Epoch 8/20\n",
            "774/774 [==============================] - 39s 51ms/step - loss: 0.1612 - accuracy: 0.9441 - val_loss: 0.1656 - val_accuracy: 0.9426 - lr: 5.0000e-04\n",
            "Epoch 9/20\n",
            "774/774 [==============================] - 40s 51ms/step - loss: 0.1589 - accuracy: 0.9452 - val_loss: 0.1479 - val_accuracy: 0.9539 - lr: 5.0000e-04\n",
            "Epoch 10/20\n",
            "774/774 [==============================] - 39s 51ms/step - loss: 0.1569 - accuracy: 0.9453 - val_loss: 0.1420 - val_accuracy: 0.9500 - lr: 5.0000e-04\n",
            "Epoch 11/20\n",
            "774/774 [==============================] - 40s 51ms/step - loss: 0.1536 - accuracy: 0.9471 - val_loss: 0.1458 - val_accuracy: 0.9534 - lr: 2.5000e-04\n",
            "Epoch 12/20\n",
            "774/774 [==============================] - 39s 51ms/step - loss: 0.1525 - accuracy: 0.9472 - val_loss: 0.1394 - val_accuracy: 0.9596 - lr: 2.5000e-04\n",
            "Epoch 13/20\n",
            "774/774 [==============================] - 39s 51ms/step - loss: 0.1509 - accuracy: 0.9481 - val_loss: 0.1358 - val_accuracy: 0.9596 - lr: 2.5000e-04\n",
            "Epoch 14/20\n",
            "774/774 [==============================] - 39s 51ms/step - loss: 0.1508 - accuracy: 0.9479 - val_loss: 0.1547 - val_accuracy: 0.9496 - lr: 2.5000e-04\n",
            "Epoch 15/20\n",
            "774/774 [==============================] - 39s 51ms/step - loss: 0.1493 - accuracy: 0.9485 - val_loss: 0.1397 - val_accuracy: 0.9567 - lr: 2.5000e-04\n",
            "Epoch 16/20\n",
            "774/774 [==============================] - 39s 51ms/step - loss: 0.1477 - accuracy: 0.9491 - val_loss: 0.1478 - val_accuracy: 0.9516 - lr: 1.2500e-04\n",
            "Epoch 17/20\n",
            "774/774 [==============================] - 39s 51ms/step - loss: 0.1480 - accuracy: 0.9486 - val_loss: 0.1536 - val_accuracy: 0.9485 - lr: 1.2500e-04\n",
            "Epoch 18/20\n",
            "774/774 [==============================] - 39s 51ms/step - loss: 0.1458 - accuracy: 0.9498 - val_loss: 0.1379 - val_accuracy: 0.9596 - lr: 1.2500e-04\n",
            "Epoch 19/20\n",
            "774/774 [==============================] - 39s 51ms/step - loss: 0.1462 - accuracy: 0.9497 - val_loss: 0.1333 - val_accuracy: 0.9587 - lr: 1.2500e-04\n"
          ]
        }
      ],
      "source": [
        "from keras.models import Sequential\n",
        "from keras.layers import Conv1D, AveragePooling1D, MaxPooling1D, Dense, Flatten, Dropout, BatchNormalization, ReLU\n",
        "from keras import regularizers\n",
        "from tensorflow.keras.optimizers import Adam\n",
        "import warnings\n",
        "\n",
        "warnings.filterwarnings('ignore')\n",
        "meanaccuracy = []\n",
        "meanloss = []\n",
        "count = 1\n",
        "\n",
        "for trainindices, testindices in splits.split(X, Y, GROUPS):\n",
        "    xtrain, ytrain, xtest, ytest = X.iloc[trainindices], Y.iloc[trainindices], X.iloc[testindices], Y.iloc[testindices]\n",
        "    x_train, y_train = np.array([x[i,:,:] for i in trainindices]), np.array([y[i] for i in trainindices])\n",
        "    x_test,  y_test  = np.array([x[i,:,:] for i in testindices]),  np.array([y[i] for i in testindices])\n",
        "\n",
        "    print(\"\\nfold \", count, \"\\n\")\n",
        "\n",
        "    nfeatures = 1\n",
        "    model = Sequential()\n",
        "    model.add(Conv1D(filters = 10, kernel_size = 4, input_shape = (x_train.shape[1], nfeatures), kernel_regularizer = regularizers.l2(1e-4),\n",
        "                     bias_regularizer = regularizers.l2(1e-4), activity_regularizer = regularizers.l2(1e-4)))\n",
        "    model.add(BatchNormalization())\n",
        "    model.add(ReLU())\n",
        "    model.add(AveragePooling1D(pool_size = 2, strides = 2))\n",
        "\n",
        "    model.add(Conv1D(filters = 15, kernel_size = 8))\n",
        "    model.add(BatchNormalization())\n",
        "    model.add(ReLU())\n",
        "    model.add(Dropout(0.5))\n",
        "    model.add(AveragePooling1D(pool_size = 2, strides = 2))\n",
        "\n",
        "    model.add(Conv1D(filters = 20, kernel_size = 8, kernel_regularizer = regularizers.l2(1e-4), bias_regularizer = regularizers.l2(1e-4),\n",
        "                     activity_regularizer = regularizers.l2(1e-4)))\n",
        "    model.add(BatchNormalization())\n",
        "    model.add(ReLU())\n",
        "    model.add(AveragePooling1D(pool_size = 2, strides = 2))\n",
        "\n",
        "    model.add(Flatten())\n",
        "    model.add(Dense(1, activation = 'sigmoid'))\n",
        "\n",
        "    model.compile(loss = 'binary_crossentropy', optimizer = Adam(1e-3), metrics = ['accuracy'])\n",
        "    history = model.fit(x_train, y_train, batch_size = 128, epochs = 20, verbose = 1, validation_data = (x_test, y_test), callbacks = [lrcallback, escallback])\n",
        "\n",
        "    meanaccuracy.append((history.history['accuracy'][-1], history.history['val_accuracy'][-1]))\n",
        "    meanloss.append((history.history['loss'][-1], history.history['val_loss'][-1]))\n",
        "    \n",
        "    getmetrics(count, \"train\", y_train, model.predict(x_train, verbose = 0))\n",
        "    getmetrics(count, \"test\",  y_test,  model.predict(x_test, verbose = 0))\n",
        "\n",
        "    count = count + 1"
      ]
    },
    {
      "cell_type": "code",
      "execution_count": null,
      "metadata": {
        "id": "iI_qJQZX0lXu",
        "colab": {
          "base_uri": "https://localhost:8080/"
        },
        "outputId": "ad4ff6b0-26a4-4b72-93a3-203f700b747b"
      },
      "outputs": [
        {
          "output_type": "stream",
          "name": "stdout",
          "text": [
            "performance metrics for training & testing data\n",
            "\n",
            "+------+---------------+----------+--------+-----------+----------+--------------------+\n",
            "| fold | train or test | accuracy | recall | precision | F1 score |    specificity     |\n",
            "+------+---------------+----------+--------+-----------+----------+--------------------+\n",
            "|  1   |     train     |  0.959   | 0.943  |   0.977   |   0.96   | 0.9763962765957447 |\n",
            "|  1   |      test     |  0.917   | 0.935  |   0.849   |   0.89   | 0.9059442091426902 |\n",
            "|  2   |     train     |  0.954   | 0.945  |   0.961   |  0.953   | 0.9628589510323551 |\n",
            "|  2   |      test     |  0.941   | 0.931  |   0.969   |   0.95   | 0.9555656313761052 |\n",
            "|  3   |     train     |  0.957   | 0.945  |   0.968   |  0.956   | 0.9695527692763353 |\n",
            "|  3   |      test     |  0.939   | 0.943  |   0.955   |  0.949   | 0.9327944572748268 |\n",
            "|  4   |     train     |  0.962   | 0.944  |   0.981   |  0.962   | 0.9803307259787953 |\n",
            "|  4   |      test     |  0.896   | 0.793  |   0.902   |  0.844   | 0.952493360873414  |\n",
            "|  5   |     train     |  0.958   | 0.943  |   0.973   |  0.958   | 0.9738824101068999 |\n",
            "|  5   |      test     |  0.914   | 0.931  |    0.9    |  0.915   | 0.8966505463012717 |\n",
            "|  6   |     train     |  0.961   |  0.94  |   0.981   |   0.96   | 0.9811351538759611 |\n",
            "|  6   |      test     |  0.872   | 0.935  |   0.822   |  0.875   | 0.8148771457421744 |\n",
            "|  7   |     train     |  0.958   | 0.949  |    0.97   |  0.959   | 0.9681297709923664 |\n",
            "|  7   |      test     |  0.937   |  0.93  |   0.881   |  0.905   | 0.9408829174664107 |\n",
            "|  8   |     train     |  0.959   | 0.938  |   0.976   |  0.957   | 0.9777228693571792 |\n",
            "|  8   |      test     |  0.917   | 0.872  |   0.995   |  0.929   | 0.9929665913087165 |\n",
            "|  9   |     train     |  0.956   | 0.942  |    0.97   |  0.956   | 0.9703496902510597 |\n",
            "|  9   |      test     |  0.966   | 0.957  |   0.972   |  0.964   | 0.9745891919363036 |\n",
            "|  10  |     train     |  0.956   | 0.939  |   0.969   |  0.954   | 0.9724559023066486 |\n",
            "|  10  |      test     |  0.945   | 0.927  |   0.993   |  0.959   | 0.9846381093057607 |\n",
            "+------+---------------+----------+--------+-----------+----------+--------------------+\n",
            "average accuracy:  0.9517442584037781\n",
            "average validation accuracy:  0.9269557654857635\n",
            "average loss:  0.14134002327919007\n",
            "average validation loss:  0.22230701446533202\n",
            "average recall: 0.9154\n",
            "average precision: 0.9238\n"
          ]
        }
      ],
      "source": [
        "print(\"performance metrics for training & testing data\\n\")\n",
        "print(modelmetrics)\n",
        "\n",
        "accuracy, validationaccuracy = np.mean(meanaccuracy, axis = 0)\n",
        "loss, validationloss = np.mean(meanloss, axis = 0)\n",
        "\n",
        "print(\"average accuracy: \", accuracy)\n",
        "print(\"average validation accuracy: \", validationaccuracy)\n",
        "print(\"average loss: \", loss)\n",
        "print(\"average validation loss: \", validationloss)\n",
        "print(\"average recall:\", np.mean(meanrecall, axis = 0))\n",
        "print(\"average precision:\", np.mean(meanprecision, axis = 0))"
      ]
    },
    {
      "cell_type": "code",
      "execution_count": null,
      "metadata": {
        "id": "uGW8U5yN8LhX",
        "colab": {
          "base_uri": "https://localhost:8080/"
        },
        "outputId": "e6fe6c4c-2aed-4c90-9a37-02586b388bc2"
      },
      "outputs": [
        {
          "output_type": "stream",
          "name": "stdout",
          "text": [
            "Model: \"sequential_19\"\n",
            "_________________________________________________________________\n",
            " Layer (type)                Output Shape              Param #   \n",
            "=================================================================\n",
            " conv1d_57 (Conv1D)          (None, 253, 10)           50        \n",
            "                                                                 \n",
            " batch_normalization_57 (Bat  (None, 253, 10)          40        \n",
            " chNormalization)                                                \n",
            "                                                                 \n",
            " re_lu_57 (ReLU)             (None, 253, 10)           0         \n",
            "                                                                 \n",
            " average_pooling1d_57 (Avera  (None, 126, 10)          0         \n",
            " gePooling1D)                                                    \n",
            "                                                                 \n",
            " conv1d_58 (Conv1D)          (None, 119, 15)           1215      \n",
            "                                                                 \n",
            " batch_normalization_58 (Bat  (None, 119, 15)          60        \n",
            " chNormalization)                                                \n",
            "                                                                 \n",
            " re_lu_58 (ReLU)             (None, 119, 15)           0         \n",
            "                                                                 \n",
            " dropout_19 (Dropout)        (None, 119, 15)           0         \n",
            "                                                                 \n",
            " average_pooling1d_58 (Avera  (None, 59, 15)           0         \n",
            " gePooling1D)                                                    \n",
            "                                                                 \n",
            " conv1d_59 (Conv1D)          (None, 52, 20)            2420      \n",
            "                                                                 \n",
            " batch_normalization_59 (Bat  (None, 52, 20)           80        \n",
            " chNormalization)                                                \n",
            "                                                                 \n",
            " re_lu_59 (ReLU)             (None, 52, 20)            0         \n",
            "                                                                 \n",
            " average_pooling1d_59 (Avera  (None, 26, 20)           0         \n",
            " gePooling1D)                                                    \n",
            "                                                                 \n",
            " flatten_19 (Flatten)        (None, 520)               0         \n",
            "                                                                 \n",
            " dense_19 (Dense)            (None, 1)                 521       \n",
            "                                                                 \n",
            "=================================================================\n",
            "Total params: 4,386\n",
            "Trainable params: 4,296\n",
            "Non-trainable params: 90\n",
            "_________________________________________________________________\n"
          ]
        }
      ],
      "source": [
        "model.summary()"
      ]
    },
    {
      "cell_type": "code",
      "source": [
        ""
      ],
      "metadata": {
        "id": "cVNnG6H-xsUk"
      },
      "execution_count": null,
      "outputs": []
    }
  ],
  "metadata": {
    "colab": {
      "collapsed_sections": [],
      "name": "eda + model training.ipynb",
      "provenance": []
    },
    "kernelspec": {
      "display_name": "Python 3",
      "name": "python3"
    },
    "language_info": {
      "name": "python"
    },
    "widgets": {
      "application/vnd.jupyter.widget-state+json": {
        "1eeaf36bf7ad431f8c0ab8521e1ce740": {
          "model_module": "@jupyter-widgets/controls",
          "model_name": "HBoxModel",
          "model_module_version": "1.5.0",
          "state": {
            "_dom_classes": [],
            "_model_module": "@jupyter-widgets/controls",
            "_model_module_version": "1.5.0",
            "_model_name": "HBoxModel",
            "_view_count": null,
            "_view_module": "@jupyter-widgets/controls",
            "_view_module_version": "1.5.0",
            "_view_name": "HBoxView",
            "box_style": "",
            "children": [
              "IPY_MODEL_e4162fd79a1e4e2fb68edd3b7e07e6a3",
              "IPY_MODEL_0666be69d1c84a56b2dc523dab1d496a",
              "IPY_MODEL_31b9282d37f141679f30b3fe7d3b69c4"
            ],
            "layout": "IPY_MODEL_dfa539596a8242a4a4dda6e010827e43"
          }
        },
        "e4162fd79a1e4e2fb68edd3b7e07e6a3": {
          "model_module": "@jupyter-widgets/controls",
          "model_name": "HTMLModel",
          "model_module_version": "1.5.0",
          "state": {
            "_dom_classes": [],
            "_model_module": "@jupyter-widgets/controls",
            "_model_module_version": "1.5.0",
            "_model_name": "HTMLModel",
            "_view_count": null,
            "_view_module": "@jupyter-widgets/controls",
            "_view_module_version": "1.5.0",
            "_view_name": "HTMLView",
            "description": "",
            "description_tooltip": null,
            "layout": "IPY_MODEL_bd944f249363422ea7f7bde5f08171e7",
            "placeholder": "​",
            "style": "IPY_MODEL_8b30538b070344bb8d2a692cea512ba8",
            "value": "mitdb: 100%"
          }
        },
        "0666be69d1c84a56b2dc523dab1d496a": {
          "model_module": "@jupyter-widgets/controls",
          "model_name": "FloatProgressModel",
          "model_module_version": "1.5.0",
          "state": {
            "_dom_classes": [],
            "_model_module": "@jupyter-widgets/controls",
            "_model_module_version": "1.5.0",
            "_model_name": "FloatProgressModel",
            "_view_count": null,
            "_view_module": "@jupyter-widgets/controls",
            "_view_module_version": "1.5.0",
            "_view_name": "ProgressView",
            "bar_style": "success",
            "description": "",
            "description_tooltip": null,
            "layout": "IPY_MODEL_5adfc750236840799190f361b239976d",
            "max": 48,
            "min": 0,
            "orientation": "horizontal",
            "style": "IPY_MODEL_3bdabbf1710f486abb9030044ee0ead3",
            "value": 48
          }
        },
        "31b9282d37f141679f30b3fe7d3b69c4": {
          "model_module": "@jupyter-widgets/controls",
          "model_name": "HTMLModel",
          "model_module_version": "1.5.0",
          "state": {
            "_dom_classes": [],
            "_model_module": "@jupyter-widgets/controls",
            "_model_module_version": "1.5.0",
            "_model_name": "HTMLModel",
            "_view_count": null,
            "_view_module": "@jupyter-widgets/controls",
            "_view_module_version": "1.5.0",
            "_view_name": "HTMLView",
            "description": "",
            "description_tooltip": null,
            "layout": "IPY_MODEL_bf06e86d3c7948649f9ca421eb5a559b",
            "placeholder": "​",
            "style": "IPY_MODEL_9396cb6447d148f99ccac6d2e1ad5208",
            "value": " 48/48 [02:42&lt;00:00,  4.05s/it]"
          }
        },
        "dfa539596a8242a4a4dda6e010827e43": {
          "model_module": "@jupyter-widgets/base",
          "model_name": "LayoutModel",
          "model_module_version": "1.2.0",
          "state": {
            "_model_module": "@jupyter-widgets/base",
            "_model_module_version": "1.2.0",
            "_model_name": "LayoutModel",
            "_view_count": null,
            "_view_module": "@jupyter-widgets/base",
            "_view_module_version": "1.2.0",
            "_view_name": "LayoutView",
            "align_content": null,
            "align_items": null,
            "align_self": null,
            "border": null,
            "bottom": null,
            "display": null,
            "flex": null,
            "flex_flow": null,
            "grid_area": null,
            "grid_auto_columns": null,
            "grid_auto_flow": null,
            "grid_auto_rows": null,
            "grid_column": null,
            "grid_gap": null,
            "grid_row": null,
            "grid_template_areas": null,
            "grid_template_columns": null,
            "grid_template_rows": null,
            "height": null,
            "justify_content": null,
            "justify_items": null,
            "left": null,
            "margin": null,
            "max_height": null,
            "max_width": null,
            "min_height": null,
            "min_width": null,
            "object_fit": null,
            "object_position": null,
            "order": null,
            "overflow": null,
            "overflow_x": null,
            "overflow_y": null,
            "padding": null,
            "right": null,
            "top": null,
            "visibility": null,
            "width": null
          }
        },
        "bd944f249363422ea7f7bde5f08171e7": {
          "model_module": "@jupyter-widgets/base",
          "model_name": "LayoutModel",
          "model_module_version": "1.2.0",
          "state": {
            "_model_module": "@jupyter-widgets/base",
            "_model_module_version": "1.2.0",
            "_model_name": "LayoutModel",
            "_view_count": null,
            "_view_module": "@jupyter-widgets/base",
            "_view_module_version": "1.2.0",
            "_view_name": "LayoutView",
            "align_content": null,
            "align_items": null,
            "align_self": null,
            "border": null,
            "bottom": null,
            "display": null,
            "flex": null,
            "flex_flow": null,
            "grid_area": null,
            "grid_auto_columns": null,
            "grid_auto_flow": null,
            "grid_auto_rows": null,
            "grid_column": null,
            "grid_gap": null,
            "grid_row": null,
            "grid_template_areas": null,
            "grid_template_columns": null,
            "grid_template_rows": null,
            "height": null,
            "justify_content": null,
            "justify_items": null,
            "left": null,
            "margin": null,
            "max_height": null,
            "max_width": null,
            "min_height": null,
            "min_width": null,
            "object_fit": null,
            "object_position": null,
            "order": null,
            "overflow": null,
            "overflow_x": null,
            "overflow_y": null,
            "padding": null,
            "right": null,
            "top": null,
            "visibility": null,
            "width": null
          }
        },
        "8b30538b070344bb8d2a692cea512ba8": {
          "model_module": "@jupyter-widgets/controls",
          "model_name": "DescriptionStyleModel",
          "model_module_version": "1.5.0",
          "state": {
            "_model_module": "@jupyter-widgets/controls",
            "_model_module_version": "1.5.0",
            "_model_name": "DescriptionStyleModel",
            "_view_count": null,
            "_view_module": "@jupyter-widgets/base",
            "_view_module_version": "1.2.0",
            "_view_name": "StyleView",
            "description_width": ""
          }
        },
        "5adfc750236840799190f361b239976d": {
          "model_module": "@jupyter-widgets/base",
          "model_name": "LayoutModel",
          "model_module_version": "1.2.0",
          "state": {
            "_model_module": "@jupyter-widgets/base",
            "_model_module_version": "1.2.0",
            "_model_name": "LayoutModel",
            "_view_count": null,
            "_view_module": "@jupyter-widgets/base",
            "_view_module_version": "1.2.0",
            "_view_name": "LayoutView",
            "align_content": null,
            "align_items": null,
            "align_self": null,
            "border": null,
            "bottom": null,
            "display": null,
            "flex": null,
            "flex_flow": null,
            "grid_area": null,
            "grid_auto_columns": null,
            "grid_auto_flow": null,
            "grid_auto_rows": null,
            "grid_column": null,
            "grid_gap": null,
            "grid_row": null,
            "grid_template_areas": null,
            "grid_template_columns": null,
            "grid_template_rows": null,
            "height": null,
            "justify_content": null,
            "justify_items": null,
            "left": null,
            "margin": null,
            "max_height": null,
            "max_width": null,
            "min_height": null,
            "min_width": null,
            "object_fit": null,
            "object_position": null,
            "order": null,
            "overflow": null,
            "overflow_x": null,
            "overflow_y": null,
            "padding": null,
            "right": null,
            "top": null,
            "visibility": null,
            "width": null
          }
        },
        "3bdabbf1710f486abb9030044ee0ead3": {
          "model_module": "@jupyter-widgets/controls",
          "model_name": "ProgressStyleModel",
          "model_module_version": "1.5.0",
          "state": {
            "_model_module": "@jupyter-widgets/controls",
            "_model_module_version": "1.5.0",
            "_model_name": "ProgressStyleModel",
            "_view_count": null,
            "_view_module": "@jupyter-widgets/base",
            "_view_module_version": "1.2.0",
            "_view_name": "StyleView",
            "bar_color": null,
            "description_width": ""
          }
        },
        "bf06e86d3c7948649f9ca421eb5a559b": {
          "model_module": "@jupyter-widgets/base",
          "model_name": "LayoutModel",
          "model_module_version": "1.2.0",
          "state": {
            "_model_module": "@jupyter-widgets/base",
            "_model_module_version": "1.2.0",
            "_model_name": "LayoutModel",
            "_view_count": null,
            "_view_module": "@jupyter-widgets/base",
            "_view_module_version": "1.2.0",
            "_view_name": "LayoutView",
            "align_content": null,
            "align_items": null,
            "align_self": null,
            "border": null,
            "bottom": null,
            "display": null,
            "flex": null,
            "flex_flow": null,
            "grid_area": null,
            "grid_auto_columns": null,
            "grid_auto_flow": null,
            "grid_auto_rows": null,
            "grid_column": null,
            "grid_gap": null,
            "grid_row": null,
            "grid_template_areas": null,
            "grid_template_columns": null,
            "grid_template_rows": null,
            "height": null,
            "justify_content": null,
            "justify_items": null,
            "left": null,
            "margin": null,
            "max_height": null,
            "max_width": null,
            "min_height": null,
            "min_width": null,
            "object_fit": null,
            "object_position": null,
            "order": null,
            "overflow": null,
            "overflow_x": null,
            "overflow_y": null,
            "padding": null,
            "right": null,
            "top": null,
            "visibility": null,
            "width": null
          }
        },
        "9396cb6447d148f99ccac6d2e1ad5208": {
          "model_module": "@jupyter-widgets/controls",
          "model_name": "DescriptionStyleModel",
          "model_module_version": "1.5.0",
          "state": {
            "_model_module": "@jupyter-widgets/controls",
            "_model_module_version": "1.5.0",
            "_model_name": "DescriptionStyleModel",
            "_view_count": null,
            "_view_module": "@jupyter-widgets/base",
            "_view_module_version": "1.2.0",
            "_view_name": "StyleView",
            "description_width": ""
          }
        },
        "f5c901cd1aa14468b7bec6949a23c56e": {
          "model_module": "@jupyter-widgets/controls",
          "model_name": "HBoxModel",
          "model_module_version": "1.5.0",
          "state": {
            "_dom_classes": [],
            "_model_module": "@jupyter-widgets/controls",
            "_model_module_version": "1.5.0",
            "_model_name": "HBoxModel",
            "_view_count": null,
            "_view_module": "@jupyter-widgets/controls",
            "_view_module_version": "1.5.0",
            "_view_name": "HBoxView",
            "box_style": "",
            "children": [
              "IPY_MODEL_a106d838e0064a18b0a35fa89eb8eb38",
              "IPY_MODEL_68bbe6ac6b30422ca232d8856308628c",
              "IPY_MODEL_b57c3c45750f4dc1a199fec9f67fd936"
            ],
            "layout": "IPY_MODEL_8f59380b6efb4bd3bf04df58a4eb8ca5"
          }
        },
        "a106d838e0064a18b0a35fa89eb8eb38": {
          "model_module": "@jupyter-widgets/controls",
          "model_name": "HTMLModel",
          "model_module_version": "1.5.0",
          "state": {
            "_dom_classes": [],
            "_model_module": "@jupyter-widgets/controls",
            "_model_module_version": "1.5.0",
            "_model_name": "HTMLModel",
            "_view_count": null,
            "_view_module": "@jupyter-widgets/controls",
            "_view_module_version": "1.5.0",
            "_view_name": "HTMLView",
            "description": "",
            "description_tooltip": null,
            "layout": "IPY_MODEL_3ebb24cae9ad4c5394c911155a44a6fe",
            "placeholder": "​",
            "style": "IPY_MODEL_654d29c44ee24b9981c9051863f2b39c",
            "value": "incartdb: 100%"
          }
        },
        "68bbe6ac6b30422ca232d8856308628c": {
          "model_module": "@jupyter-widgets/controls",
          "model_name": "FloatProgressModel",
          "model_module_version": "1.5.0",
          "state": {
            "_dom_classes": [],
            "_model_module": "@jupyter-widgets/controls",
            "_model_module_version": "1.5.0",
            "_model_name": "FloatProgressModel",
            "_view_count": null,
            "_view_module": "@jupyter-widgets/controls",
            "_view_module_version": "1.5.0",
            "_view_name": "ProgressView",
            "bar_style": "success",
            "description": "",
            "description_tooltip": null,
            "layout": "IPY_MODEL_b44c2d0b93ce468db0798c85c434e0e9",
            "max": 75,
            "min": 0,
            "orientation": "horizontal",
            "style": "IPY_MODEL_ae8e934a4f49413c8db59cb01bfbf0cc",
            "value": 75
          }
        },
        "b57c3c45750f4dc1a199fec9f67fd936": {
          "model_module": "@jupyter-widgets/controls",
          "model_name": "HTMLModel",
          "model_module_version": "1.5.0",
          "state": {
            "_dom_classes": [],
            "_model_module": "@jupyter-widgets/controls",
            "_model_module_version": "1.5.0",
            "_model_name": "HTMLModel",
            "_view_count": null,
            "_view_module": "@jupyter-widgets/controls",
            "_view_module_version": "1.5.0",
            "_view_name": "HTMLView",
            "description": "",
            "description_tooltip": null,
            "layout": "IPY_MODEL_12e0847277984f7eb89d8fee715f0f3c",
            "placeholder": "​",
            "style": "IPY_MODEL_48ae394f34f64ba6ae918cdbc4ec0bbf",
            "value": " 75/75 [06:47&lt;00:00,  6.83s/it]"
          }
        },
        "8f59380b6efb4bd3bf04df58a4eb8ca5": {
          "model_module": "@jupyter-widgets/base",
          "model_name": "LayoutModel",
          "model_module_version": "1.2.0",
          "state": {
            "_model_module": "@jupyter-widgets/base",
            "_model_module_version": "1.2.0",
            "_model_name": "LayoutModel",
            "_view_count": null,
            "_view_module": "@jupyter-widgets/base",
            "_view_module_version": "1.2.0",
            "_view_name": "LayoutView",
            "align_content": null,
            "align_items": null,
            "align_self": null,
            "border": null,
            "bottom": null,
            "display": null,
            "flex": null,
            "flex_flow": null,
            "grid_area": null,
            "grid_auto_columns": null,
            "grid_auto_flow": null,
            "grid_auto_rows": null,
            "grid_column": null,
            "grid_gap": null,
            "grid_row": null,
            "grid_template_areas": null,
            "grid_template_columns": null,
            "grid_template_rows": null,
            "height": null,
            "justify_content": null,
            "justify_items": null,
            "left": null,
            "margin": null,
            "max_height": null,
            "max_width": null,
            "min_height": null,
            "min_width": null,
            "object_fit": null,
            "object_position": null,
            "order": null,
            "overflow": null,
            "overflow_x": null,
            "overflow_y": null,
            "padding": null,
            "right": null,
            "top": null,
            "visibility": null,
            "width": null
          }
        },
        "3ebb24cae9ad4c5394c911155a44a6fe": {
          "model_module": "@jupyter-widgets/base",
          "model_name": "LayoutModel",
          "model_module_version": "1.2.0",
          "state": {
            "_model_module": "@jupyter-widgets/base",
            "_model_module_version": "1.2.0",
            "_model_name": "LayoutModel",
            "_view_count": null,
            "_view_module": "@jupyter-widgets/base",
            "_view_module_version": "1.2.0",
            "_view_name": "LayoutView",
            "align_content": null,
            "align_items": null,
            "align_self": null,
            "border": null,
            "bottom": null,
            "display": null,
            "flex": null,
            "flex_flow": null,
            "grid_area": null,
            "grid_auto_columns": null,
            "grid_auto_flow": null,
            "grid_auto_rows": null,
            "grid_column": null,
            "grid_gap": null,
            "grid_row": null,
            "grid_template_areas": null,
            "grid_template_columns": null,
            "grid_template_rows": null,
            "height": null,
            "justify_content": null,
            "justify_items": null,
            "left": null,
            "margin": null,
            "max_height": null,
            "max_width": null,
            "min_height": null,
            "min_width": null,
            "object_fit": null,
            "object_position": null,
            "order": null,
            "overflow": null,
            "overflow_x": null,
            "overflow_y": null,
            "padding": null,
            "right": null,
            "top": null,
            "visibility": null,
            "width": null
          }
        },
        "654d29c44ee24b9981c9051863f2b39c": {
          "model_module": "@jupyter-widgets/controls",
          "model_name": "DescriptionStyleModel",
          "model_module_version": "1.5.0",
          "state": {
            "_model_module": "@jupyter-widgets/controls",
            "_model_module_version": "1.5.0",
            "_model_name": "DescriptionStyleModel",
            "_view_count": null,
            "_view_module": "@jupyter-widgets/base",
            "_view_module_version": "1.2.0",
            "_view_name": "StyleView",
            "description_width": ""
          }
        },
        "b44c2d0b93ce468db0798c85c434e0e9": {
          "model_module": "@jupyter-widgets/base",
          "model_name": "LayoutModel",
          "model_module_version": "1.2.0",
          "state": {
            "_model_module": "@jupyter-widgets/base",
            "_model_module_version": "1.2.0",
            "_model_name": "LayoutModel",
            "_view_count": null,
            "_view_module": "@jupyter-widgets/base",
            "_view_module_version": "1.2.0",
            "_view_name": "LayoutView",
            "align_content": null,
            "align_items": null,
            "align_self": null,
            "border": null,
            "bottom": null,
            "display": null,
            "flex": null,
            "flex_flow": null,
            "grid_area": null,
            "grid_auto_columns": null,
            "grid_auto_flow": null,
            "grid_auto_rows": null,
            "grid_column": null,
            "grid_gap": null,
            "grid_row": null,
            "grid_template_areas": null,
            "grid_template_columns": null,
            "grid_template_rows": null,
            "height": null,
            "justify_content": null,
            "justify_items": null,
            "left": null,
            "margin": null,
            "max_height": null,
            "max_width": null,
            "min_height": null,
            "min_width": null,
            "object_fit": null,
            "object_position": null,
            "order": null,
            "overflow": null,
            "overflow_x": null,
            "overflow_y": null,
            "padding": null,
            "right": null,
            "top": null,
            "visibility": null,
            "width": null
          }
        },
        "ae8e934a4f49413c8db59cb01bfbf0cc": {
          "model_module": "@jupyter-widgets/controls",
          "model_name": "ProgressStyleModel",
          "model_module_version": "1.5.0",
          "state": {
            "_model_module": "@jupyter-widgets/controls",
            "_model_module_version": "1.5.0",
            "_model_name": "ProgressStyleModel",
            "_view_count": null,
            "_view_module": "@jupyter-widgets/base",
            "_view_module_version": "1.2.0",
            "_view_name": "StyleView",
            "bar_color": null,
            "description_width": ""
          }
        },
        "12e0847277984f7eb89d8fee715f0f3c": {
          "model_module": "@jupyter-widgets/base",
          "model_name": "LayoutModel",
          "model_module_version": "1.2.0",
          "state": {
            "_model_module": "@jupyter-widgets/base",
            "_model_module_version": "1.2.0",
            "_model_name": "LayoutModel",
            "_view_count": null,
            "_view_module": "@jupyter-widgets/base",
            "_view_module_version": "1.2.0",
            "_view_name": "LayoutView",
            "align_content": null,
            "align_items": null,
            "align_self": null,
            "border": null,
            "bottom": null,
            "display": null,
            "flex": null,
            "flex_flow": null,
            "grid_area": null,
            "grid_auto_columns": null,
            "grid_auto_flow": null,
            "grid_auto_rows": null,
            "grid_column": null,
            "grid_gap": null,
            "grid_row": null,
            "grid_template_areas": null,
            "grid_template_columns": null,
            "grid_template_rows": null,
            "height": null,
            "justify_content": null,
            "justify_items": null,
            "left": null,
            "margin": null,
            "max_height": null,
            "max_width": null,
            "min_height": null,
            "min_width": null,
            "object_fit": null,
            "object_position": null,
            "order": null,
            "overflow": null,
            "overflow_x": null,
            "overflow_y": null,
            "padding": null,
            "right": null,
            "top": null,
            "visibility": null,
            "width": null
          }
        },
        "48ae394f34f64ba6ae918cdbc4ec0bbf": {
          "model_module": "@jupyter-widgets/controls",
          "model_name": "DescriptionStyleModel",
          "model_module_version": "1.5.0",
          "state": {
            "_model_module": "@jupyter-widgets/controls",
            "_model_module_version": "1.5.0",
            "_model_name": "DescriptionStyleModel",
            "_view_count": null,
            "_view_module": "@jupyter-widgets/base",
            "_view_module_version": "1.2.0",
            "_view_name": "StyleView",
            "description_width": ""
          }
        }
      }
    }
  },
  "nbformat": 4,
  "nbformat_minor": 0
}